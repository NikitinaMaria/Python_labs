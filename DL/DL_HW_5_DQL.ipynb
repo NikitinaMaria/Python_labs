{
  "cells": [
    {
      "cell_type": "markdown",
      "metadata": {
        "id": "ke9d3Kxx53QK"
      },
      "source": [
        "# Глубокая Q-сеть, вариант многослойного перцептрона 5 баллов\n",
        "\n",
        "#### дедлайн задания: 24 ноября 23:59\n",
        "\n",
        "В данной домашней работе требуется реализовать DQN &mdash; приближённый алгоритм Q-обучения c механизмом _experience_ _replay_ и целевой сетью (_target network_) &mdash; и пронаблюдать, лучше ли подход DQN работает по сравнению с рассмотренными ранее в каком-либо аспекте.\n",
        "\n",
        "Исходная статья:\n",
        "https://arxiv.org/pdf/1312.5602.pdf\n",
        "\n",
        "Конспект теории по глубокому Q-обучению:\n",
        "https://arxiv.org/pdf/2201.09746.pdf (главы 4.1 и 4.2)"
      ]
    },
    {
      "cell_type": "markdown",
      "metadata": {
        "id": "XrARTWNM53QN"
      },
      "source": [
        "# Работа выполнена:\n",
        "\n",
        "Никитина Мария Александровна, Б05-003"
      ]
    },
    {
      "cell_type": "markdown",
      "metadata": {
        "id": "61_SOSO653QN"
      },
      "source": [
        "В данном задании требуется обучить агента в среде CartPole. По идее, процесс обучения должен занять несколько десятков минут."
      ]
    },
    {
      "cell_type": "code",
      "execution_count": null,
      "metadata": {
        "id": "YjhIcq2e53QO"
      },
      "outputs": [],
      "source": [
        "import gym\n",
        "import random\n",
        "import numpy as np\n",
        "import matplotlib.pyplot as plt\n",
        "import torch\n",
        "import utils\n",
        "from IPython.display import HTML\n",
        "import os"
      ]
    },
    {
      "cell_type": "markdown",
      "metadata": {
        "id": "L_nB3Ag853QP"
      },
      "source": [
        "### CartPole, снова"
      ]
    },
    {
      "cell_type": "code",
      "execution_count": null,
      "metadata": {
        "colab": {
          "base_uri": "https://localhost:8080/"
        },
        "id": "GcZqsHfL53QQ",
        "outputId": "927acc38-4cac-485a-ce6b-004af124d88d"
      },
      "outputs": [
        {
          "output_type": "stream",
          "name": "stderr",
          "text": [
            "/usr/local/lib/python3.10/dist-packages/ipykernel/ipkernel.py:283: DeprecationWarning: `should_run_async` will not call `transform_cell` automatically in the future. Please pass the result to `transformed_cell` argument and any exception that happen during thetransform in `preprocessing_exc_tuple` in IPython 7.17 and above.\n",
            "  and should_run_async(code)\n"
          ]
        }
      ],
      "source": [
        "ENV_NAME = \"CartPole-v1\"\n",
        "\n",
        "\n",
        "# нужно потому что в новой версии нельзя просто так передать seed\n",
        "class reset_seed_wrapper(gym.Wrapper):\n",
        "    def __init__(self, env, seed):\n",
        "        super().__init__(env)\n",
        "        self.seed = seed\n",
        "    def reset(self):\n",
        "        return self.env.reset(seed= self.seed)[0] # откидываем ненужное\n",
        "    def step(self, action):\n",
        "        s, r, done, info, _ = self.env.step(action, )\n",
        "        return s, r, done, info\n",
        "def make_env(seed=None):\n",
        "    # CartPole обёрнут в time limit wrapper по умолчанию\n",
        "    env = gym.make(ENV_NAME).unwrapped\n",
        "    # env = reset_seed_wrapper(env, seed)\n",
        "    if seed is not None:\n",
        "        env.seed(seed)\n",
        "    return env\n"
      ]
    },
    {
      "cell_type": "code",
      "execution_count": null,
      "metadata": {
        "colab": {
          "base_uri": "https://localhost:8080/"
        },
        "id": "g2Ga5iwy53QR",
        "outputId": "060b21cb-5215-46e9-b09d-48ad78a84bd8"
      },
      "outputs": [
        {
          "output_type": "stream",
          "name": "stderr",
          "text": [
            "/usr/local/lib/python3.10/dist-packages/gym/core.py:317: DeprecationWarning: \u001b[33mWARN: Initializing wrapper in old step API which returns one bool instead of two. It is recommended to set `new_step_api=True` to use new step API. This will be the default behaviour in future.\u001b[0m\n",
            "  deprecation(\n",
            "/usr/local/lib/python3.10/dist-packages/gym/wrappers/step_api_compatibility.py:39: DeprecationWarning: \u001b[33mWARN: Initializing environment in old step API which returns one bool instead of two. It is recommended to set `new_step_api=True` to use new step API. This will be the default behaviour in future.\u001b[0m\n",
            "  deprecation(\n"
          ]
        },
        {
          "output_type": "execute_result",
          "data": {
            "text/plain": [
              "array([ 0.02206848,  0.02109216, -0.01200831, -0.02656779], dtype=float32)"
            ]
          },
          "metadata": {},
          "execution_count": 28
        }
      ],
      "source": [
        "env = make_env()\n",
        "state = env.reset()\n",
        "state"
      ]
    },
    {
      "cell_type": "code",
      "execution_count": null,
      "metadata": {
        "colab": {
          "base_uri": "https://localhost:8080/"
        },
        "id": "Rc2PVefk53QR",
        "outputId": "94cb868a-9035-4afb-b3b2-85af1c98528f"
      },
      "outputs": [
        {
          "output_type": "execute_result",
          "data": {
            "text/plain": [
              "(4,)"
            ]
          },
          "metadata": {},
          "execution_count": 29
        }
      ],
      "source": [
        "state_shape = env.observation_space.shape\n",
        "state_shape"
      ]
    },
    {
      "cell_type": "code",
      "execution_count": null,
      "metadata": {
        "colab": {
          "base_uri": "https://localhost:8080/"
        },
        "id": "599xCU4n53QR",
        "outputId": "0a4b17ef-e07d-4760-b7f9-a4257eaed8a8"
      },
      "outputs": [
        {
          "output_type": "execute_result",
          "data": {
            "text/plain": [
              "2"
            ]
          },
          "metadata": {},
          "execution_count": 30
        }
      ],
      "source": [
        "n_actions = env.action_space.n\n",
        "n_actions"
      ]
    },
    {
      "cell_type": "code",
      "source": [
        "print(f\"env.observation_space: {env.observation_space}\")\n",
        "print(f\"env.action_space: {env.action_space}\")"
      ],
      "metadata": {
        "colab": {
          "base_uri": "https://localhost:8080/"
        },
        "id": "l0V8z9EY-47I",
        "outputId": "8755c13c-d79f-44ec-b7fd-a64aa69c3411"
      },
      "execution_count": null,
      "outputs": [
        {
          "output_type": "stream",
          "name": "stdout",
          "text": [
            "env.observation_space: Box([-4.8000002e+00 -3.4028235e+38 -4.1887903e-01 -3.4028235e+38], [4.8000002e+00 3.4028235e+38 4.1887903e-01 3.4028235e+38], (4,), float32)\n",
            "env.action_space: Discrete(2)\n"
          ]
        }
      ]
    },
    {
      "cell_type": "markdown",
      "metadata": {
        "id": "m0Rc1FEh53QS"
      },
      "source": [
        "# Приближённое Q-обучение: построение сети\n",
        "\n",
        "Теперь требуется построить нейронную сеть, способную отображать наблюдения в Q-ценности состояния. Так как происходит работа с предобработанными признаками (положения тележки, углы и скорости), то не требуется сложная нейронная сеть пока. Фактически, нужно построить нейронную сеть с архитектурой, обозначенной снизу:\n",
        "\n",
        "<img src=https://raw.githubusercontent.com/yandexdataschool/Practical_RL/master/yet_another_week/_resource/qlearning_scheme.png width=640>\n",
        "\n",
        "В идеале рекомендуется начать с небольших 1-2 скрытых слоёв с < 200 нейронов и затем увеличить размер сети, если агент не может получить целевую награду. Батч-нормализация и дропаут здесь могут всё испортить. Также рекомендуется избегать использование таких нелинейностей, как функция сигмоиды и гиперболического тангенса: наблюдения агента не нормализованы, так что сигмоиды могут концентрироваться у нуля."
      ]
    },
    {
      "cell_type": "code",
      "execution_count": null,
      "metadata": {
        "colab": {
          "base_uri": "https://localhost:8080/"
        },
        "id": "utS_H3tD53QS",
        "outputId": "e99c9e52-0057-4ab3-8d95-d32ed2eff2c4"
      },
      "outputs": [
        {
          "output_type": "execute_result",
          "data": {
            "text/plain": [
              "device(type='cuda')"
            ]
          },
          "metadata": {},
          "execution_count": 45
        }
      ],
      "source": [
        "import torch\n",
        "import torch.nn as nn\n",
        "\n",
        "device = torch.device(\"cuda\" if torch.cuda.is_available() else \"cpu\")\n",
        "# те, кто имеют GPU, но не хотят использовать графический вычислитель, могут раскомментировать:\n",
        "# device = torch.device('cpu')\n",
        "device"
      ]
    },
    {
      "cell_type": "code",
      "execution_count": null,
      "metadata": {
        "id": "OVwiMRg553QS"
      },
      "outputs": [],
      "source": [
        "class DQNAgent(nn.Module):\n",
        "    def __init__(self, state_shape, n_actions, epsilon=0):\n",
        "\n",
        "        super().__init__()\n",
        "        self.epsilon = epsilon\n",
        "        self.n_actions = n_actions\n",
        "        self.state_shape = state_shape\n",
        "        # Задайте структуру нейронной сети здесь.\n",
        "        # Убедитесь в том, что здесь определёны все параметры агента.\n",
        "        assert len(state_shape) == 1\n",
        "        state_dim = state_shape[0]\n",
        "        self.linear1 = nn.Linear(state_dim, 64)\n",
        "        self.relu1 = nn.ReLU()\n",
        "        self.linear2 = nn.Linear(64, 64)\n",
        "        self.relu2 = nn.ReLU()\n",
        "        self.linear3 = nn.Linear(64, n_actions)\n",
        "\n",
        "\n",
        "    def forward(self, state_t):\n",
        "        \"\"\"\n",
        "        принимает наблюдение агента (тензор), возвращает qvalues (тензор)\n",
        "        :параметр state_t: батч состояний, размерность = [batch_size, *state_dim=4]\n",
        "        \"\"\"\n",
        "        # Используйте Вашу нейросеть для вычисления qvalues данного состояния state_t\n",
        "        qvalues = self.linear3(self.relu2(self.linear2(self.relu1(self.linear1(state_t)))))\n",
        "\n",
        "        assert qvalues.requires_grad, \"qvalues должны быть torch tensor с возможностью дифференцирования\"\n",
        "        assert len(\n",
        "            qvalues.shape) == 2 and qvalues.shape[0] == state_t.shape[0] and qvalues.shape[1] == n_actions\n",
        "\n",
        "        return qvalues\n",
        "\n",
        "    def get_qvalues(self, states):\n",
        "        \"\"\"\n",
        "        Как forward, только работает на numpy arrays, не на тензорах\n",
        "        \"\"\"\n",
        "        model_device = next(self.parameters()).device\n",
        "        states = torch.tensor(states, device=model_device, dtype=torch.float32)\n",
        "        qvalues = self.forward(states)\n",
        "        return qvalues.data.cpu().numpy()\n",
        "\n",
        "    def sample_actions(self, qvalues):\n",
        "        \"\"\"Выбрать действия для данных qvalues. Использует эпсилон-жадную стратегию исследования среды.\"\"\"\n",
        "        epsilon = self.epsilon\n",
        "        batch_size, n_actions = qvalues.shape\n",
        "\n",
        "        random_actions = np.random.choice(n_actions, size=batch_size)\n",
        "        best_actions = qvalues.argmax(axis=-1)\n",
        "\n",
        "        should_explore = np.random.choice(\n",
        "            [0, 1], batch_size, p=[1-epsilon, epsilon])\n",
        "        return np.where(should_explore, random_actions, best_actions)"
      ]
    },
    {
      "cell_type": "code",
      "execution_count": null,
      "metadata": {
        "id": "nRlc9OXF53QS"
      },
      "outputs": [],
      "source": [
        "agent = DQNAgent(state_shape, n_actions, epsilon=0.5).to(device)"
      ]
    },
    {
      "cell_type": "markdown",
      "metadata": {
        "id": "O9pxvdbp53QT"
      },
      "source": [
        "Теперь давайте проверим нашего агента на предмет наличия ошибок."
      ]
    },
    {
      "cell_type": "code",
      "execution_count": null,
      "metadata": {
        "id": "Lx0m1LdJ53QT"
      },
      "outputs": [],
      "source": [
        "def evaluate(env, agent, n_games=1, greedy=False, t_max=10000):\n",
        "    \"\"\"Играет qvalues полных эпизодов. Если greedy=True, то действия берутся из детерминированной\n",
        "    стратегии как argmax(qvalues). Возвращает среднюю награду.\"\"\"\n",
        "    rewards = []\n",
        "    for _ in range(n_games):\n",
        "        s = env.reset()\n",
        "        reward = 0\n",
        "        for _ in range(t_max):\n",
        "            qvalues = agent.get_qvalues([s])\n",
        "            action = (\n",
        "                qvalues.argmax(axis=-1)[0]\n",
        "                if greedy\n",
        "                else agent.sample_actions(qvalues)[0]\n",
        "            )\n",
        "            s, r, done, info, _ = env.step(action)\n",
        "            reward += r\n",
        "            if done:\n",
        "                break\n",
        "\n",
        "        rewards.append(reward)\n",
        "    env.close()\n",
        "    return np.mean(rewards)"
      ]
    },
    {
      "cell_type": "code",
      "execution_count": null,
      "metadata": {
        "colab": {
          "base_uri": "https://localhost:8080/"
        },
        "id": "rX0Cvoh_53QT",
        "outputId": "bcc5cd15-4a77-4881-dea3-584083a57457"
      },
      "outputs": [
        {
          "output_type": "execute_result",
          "data": {
            "text/plain": [
              "20.0"
            ]
          },
          "metadata": {},
          "execution_count": 85
        }
      ],
      "source": [
        "evaluate(env, agent, n_games=1)"
      ]
    },
    {
      "cell_type": "markdown",
      "metadata": {
        "id": "UBi9j3Ix53QT"
      },
      "source": [
        "# Experience Replay\n",
        "Сущетвует мощный метод, который можно использовать для улучшения сходимости _off-policy_ алгоритмов относительно общего количества используемых сэмплов: _Experience_ _Replay_. Смысл состоит в том, что появляется возможность настроить агента с помощью Q-обучения и EV-SARSA на кортежах `<s,a,r,s'>`, даже если они не сэмплированы из текущей политики агента. Итак, здесь требуется реализовать следующее:\n",
        "\n",
        "<img src=https://github.com/yandexdataschool/Practical_RL/raw/master/yet_another_week/_resource/exp_replay.png width=640>\n",
        "\n",
        "#### Обучение с experience replay\n",
        "1. Сыграть шаг игры, отсэмплировать `<s,a,r,s'>`.\n",
        "2. Обновить q-values на основе `<s,a,r,s'>`.\n",
        "3. Записать `<s,a,r,s'>` в буфер.\n",
        " 3. Если буфер полный, то удалить ранние данные.\n",
        "4. Сэмплировать K таких переходов из данного буфера и обновить q-values на их основе.\n",
        "\n",
        "#### Интерфейс довольно простой:\n",
        "* `exp_replay.add(obs, act, rw, next_obs, done)`  &mdash; сохраняет кортеж (s,a,r,s',done) в буфер\n",
        "* `exp_replay.sample(batch_size)` &mdash; возвращает наблюдения, действия, награды, следующие наблюдения и is_done для `batch_size` случайных сэмплов.\n",
        "* `len(exp_replay)` &mdash; возвращает количество элиментов, хранящихся в буфере на данный момент.\n",
        "\n",
        "\n",
        "Для применения такого обучения требуется, во-первых, реализация структуры памяти, которая будет работать как буфер."
      ]
    },
    {
      "cell_type": "code",
      "execution_count": null,
      "metadata": {
        "id": "PTbPgGJj53QT"
      },
      "outputs": [],
      "source": [
        "class ReplayBuffer(object):\n",
        "    def __init__(self, size):\n",
        "        \"\"\"\n",
        "        Создаёт буфер реплеев.\n",
        "        Параметры\n",
        "        ----------\n",
        "        size: int\n",
        "            Максимальное количество хранящихся единовременно переходов. При переполнении буфера старые\n",
        "            записи удаляются.\n",
        "\n",
        "        Замечание: для данного задания можно выбрать любую структуру данных.\n",
        "              Если Вам достаточно простого решения, то можно просто хранить список кортежей (s, a, r, s')\n",
        "              в self._storage. Однако, можно найти более быстрые и/или эффективные по памяти способы\n",
        "              реализации самого хранения переходов.\n",
        "        \"\"\"\n",
        "        self._storage = []\n",
        "        self._maxsize = size\n",
        "\n",
        "        # Дополнительно: Ваш код\n",
        "\n",
        "    def __len__(self):\n",
        "        return len(self._storage)\n",
        "\n",
        "    def add(self, obs_t, action, reward, obs_tp1, done):\n",
        "        '''\n",
        "        Убедитесь, что _storage не превзойдёт по размерам _maxsize.\n",
        "        Убедитесь, что FIFO правило выполняется: старейшие прецеденты должны удаляться раньше всех.\n",
        "        '''\n",
        "        data = (obs_t, action, reward, obs_tp1, done)\n",
        "        # storage = self._storage\n",
        "        # maxsize = self._maxsize\n",
        "        if len(self._storage) >= self._maxsize:\n",
        "            self._storage.pop(0)\n",
        "        self._storage.append(data)\n",
        "\n",
        "    def sample(self, batch_size):\n",
        "        \"\"\"Сэмплирование батча переходов.\n",
        "        Параметры\n",
        "        ----------\n",
        "        batch_size: int\n",
        "            Сколько переходов сэмплировать.\n",
        "        Возвращает\n",
        "        -------\n",
        "        obs_batch: np.array\n",
        "            батч наблюдений (состояний)\n",
        "        act_batch: np.array\n",
        "            батч действий, выполненных на основе obs_batch\n",
        "        rew_batch: np.array\n",
        "            награды, полученные в качестве результата выполнения act_batch\n",
        "        next_obs_batch: np.array\n",
        "            следующие наблюдения (состояния), полученные после выполнения act_batch\n",
        "        done_mask: np.array\n",
        "            done_mask[i] = 1, если выполнение act_batch[i] повлекло\n",
        "            окончание эпизода и 0 иначе.\n",
        "        \"\"\"\n",
        "        # storage = self._storage\n",
        "        indices = np.random.choice(len(self._storage), size=batch_size, replace=False)\n",
        "        obs_batch, act_batch, rew_batch, next_obs_batch, done_mask = [], [], [], [], []\n",
        "\n",
        "        for i in indices:\n",
        "            obs, act, rew, next_obs, done = self._storage[i]\n",
        "            obs_batch.append(obs)\n",
        "            act_batch.append(act)\n",
        "            rew_batch.append(rew)\n",
        "            next_obs_batch.append(next_obs)\n",
        "            done_mask.append(done)\n",
        "\n",
        "        return np.array(obs_batch), np.array(act_batch), np.array(rew_batch), np.array(next_obs_batch), np.array(done_mask)"
      ]
    },
    {
      "cell_type": "code",
      "execution_count": null,
      "metadata": {
        "id": "SOx_yTa853QT"
      },
      "outputs": [],
      "source": [
        "exp_replay = ReplayBuffer(10)\n",
        "\n",
        "for _ in range(30):\n",
        "    exp_replay.add(env.reset(), env.action_space.sample(), 1.0, env.reset(), done=False)\n",
        "\n",
        "obs_batch, act_batch, reward_batch, next_obs_batch, is_done_batch = exp_replay.sample(5)\n",
        "\n",
        "assert (\n",
        "    len(exp_replay) == 10\n",
        "), \"размер буфера должен быть равен 10, потому что это максимальная вместимость\""
      ]
    },
    {
      "cell_type": "code",
      "execution_count": null,
      "metadata": {
        "id": "ZdJYB_Ix53QU"
      },
      "outputs": [],
      "source": [
        "def play_and_record(initial_state, agent, env, exp_replay, n_steps=1):\n",
        "    \"\"\"\n",
        "    Сыграть в игру n_steps шагов, записать каждый (s,a,r,s', done) в exp_replay буфер.\n",
        "    Как только игра заканчивается, добавляется запись с done=True и среда env перезапускается.\n",
        "    Гарантируетcя, что env находится в состоянии done=False после работы функции.\n",
        "\n",
        "    ПРОСЬБА НЕ ПЕРЕЗАПУСКАТЬ ENV, ПОКА ОНА НЕ В СОСТОЯНИИ \"DONE\"\n",
        "\n",
        "    :возвращает: сумму наград по времени и состояние, в котором среда оказалась\n",
        "    \"\"\"\n",
        "    s = initial_state\n",
        "    sum_rewards = 0\n",
        "\n",
        "    for _ in range(n_steps):\n",
        "        q_values = agent.get_qvalues([s])\n",
        "        a = agent.sample_actions(q_values)[0]\n",
        "        next_s, r, done, info, _ = env.step(a)\n",
        "        exp_replay.add(s, a, r, next_s, done)\n",
        "        sum_rewards += r\n",
        "        if done:\n",
        "            next_s = env.reset()\n",
        "        s = next_s\n",
        "\n",
        "    return sum_rewards, s"
      ]
    },
    {
      "cell_type": "code",
      "execution_count": null,
      "metadata": {
        "colab": {
          "base_uri": "https://localhost:8080/"
        },
        "id": "b-86TrFO53QU",
        "outputId": "70401109-8ffd-44d9-ab4c-7baf93197d28"
      },
      "outputs": [
        {
          "output_type": "stream",
          "name": "stdout",
          "text": [
            "Отлично справились!\n"
          ]
        }
      ],
      "source": [
        "# Протестируйте Ваш код.\n",
        "exp_replay = ReplayBuffer(2000)\n",
        "\n",
        "state = env.reset()\n",
        "play_and_record(state, agent, env, exp_replay, n_steps=1000)\n",
        "\n",
        "# если вы используете собственный experience replay буфер, то некоторые из тестов, возможно, потребуется\n",
        "# скорректировать.\n",
        "# Убедитесь в том, что Вы знаете, что Ваш код делает\n",
        "assert len(exp_replay) == 1000, (\n",
        "    \"play_and_record должна добавить ровно 1000 шагов, \"\n",
        "    \"но вместо этого добавила %i\" % len(exp_replay)\n",
        ")\n",
        "is_dones = list(zip(*exp_replay._storage))[-1]\n",
        "\n",
        "assert 0 < np.mean(is_dones) < 0.1, (\n",
        "    \"Убедитесь, что Вы перезапускаете игру, как только она 'done', и корректно записываете is_done в буфер.\"\n",
        "    \"Получена %f доля is_done за %i шагов. [Если думаете, что Вам не повезло, то просто перезапустите тест.]\"\n",
        "    % (np.mean(is_dones), len(exp_replay))\n",
        ")\n",
        "\n",
        "for _ in range(100):\n",
        "    (\n",
        "        obs_batch,\n",
        "        act_batch,\n",
        "        reward_batch,\n",
        "        next_obs_batch,\n",
        "        is_done_batch,\n",
        "    ) = exp_replay.sample(10)\n",
        "    assert obs_batch.shape == next_obs_batch.shape == (10,) + state_shape\n",
        "    assert act_batch.shape == (\n",
        "        10,\n",
        "    ), \"батч действий должен иметь размер (10,), но имееет %s\" % str(act_batch.shape)\n",
        "    assert reward_batch.shape == (\n",
        "        10,\n",
        "    ), \"батч наград должен иметь размер (10,), но имееет %s\" % str(reward_batch.shape)\n",
        "    assert is_done_batch.shape == (\n",
        "        10,\n",
        "    ), \"батч is_done должен иметь размер (10,), но имееет %s\" % str(is_done_batch.shape)\n",
        "    assert [\n",
        "        int(i) in (0, 1) for i in is_dones\n",
        "    ], \"is_done должен быть строго True или False\"\n",
        "    assert [\n",
        "        0 <= a < n_actions for a in act_batch\n",
        "    ], \"действия должны быть в промежутке [0, n_actions]\"\n",
        "\n",
        "print(\"Отлично справились!\")"
      ]
    },
    {
      "cell_type": "markdown",
      "metadata": {
        "id": "ze7sHOjh53QU"
      },
      "source": [
        "# Целевые сети\n",
        "\n",
        "Также будет реализована так называемая \"целевая сеть\" &mdash; копия весов нейронной сети агента, используемая для оценки целевого значения Q-функции:\n",
        "\n",
        "Сама по себе сеть представляет собой точную копию сети агента, но её параметры не обучаются. Наоборот, они берутся из обучаемой сети агента раз в несколько итераций цикла обучения.\n",
        "\n",
        "$$ Q_{reference}(s,a) = r + \\gamma \\cdot \\max _{a'} Q_{target}(s',a') $$\n",
        "\n",
        "<img src=https://github.com/yandexdataschool/Practical_RL/raw/master/yet_another_week/_resource/target_net.png width=480>"
      ]
    },
    {
      "cell_type": "code",
      "execution_count": null,
      "metadata": {
        "colab": {
          "base_uri": "https://localhost:8080/"
        },
        "id": "9E2X4bQy53QU",
        "outputId": "ec76e7cb-794f-4f70-aaaf-ef6776fd0776"
      },
      "outputs": [
        {
          "output_type": "execute_result",
          "data": {
            "text/plain": [
              "<All keys matched successfully>"
            ]
          },
          "metadata": {},
          "execution_count": 89
        }
      ],
      "source": [
        "target_network = DQNAgent(agent.state_shape, agent.n_actions, epsilon=0.5).to(device)\n",
        "# Так можно загружать веса из агента в целевую сеть\n",
        "target_network.load_state_dict(agent.state_dict())"
      ]
    },
    {
      "cell_type": "markdown",
      "metadata": {
        "id": "dD2NpVGq53QU"
      },
      "source": [
        "# Обучение с помощью... Q-обучения\n",
        "Тут будет реализована функция, похожая на `agent.update` из табличного Q-обучения."
      ]
    },
    {
      "cell_type": "markdown",
      "metadata": {
        "id": "-l9QucNT53QU"
      },
      "source": [
        "Вычислить TD ошибку Q-обучения:\n",
        "\n",
        "$$ L = { 1 \\over N} \\sum_i [ Q_{\\theta}(s,a) - Q_{reference}(s,a) ] ^2 $$\n",
        "\n",
        "С $Q_{reference}$, определённой как:\n",
        "\n",
        "$$ Q_{reference}(s,a) = r(s,a) + \\gamma \\cdot max_{a'} Q_{target}(s', a') $$\n",
        "\n",
        "Где\n",
        "* $Q_{target}(s',a')$ обозначает Q-ценность следующего состояния и следующего действия, предсказанного с помощью __target_network__\n",
        "* $s, a, r, s'$ суть текущие состояние, действие, награда и следующее состояние соответственно\n",
        "* $\\gamma$ фактор дисконта, определённый двумя блоками выше.\n",
        "\n",
        "\n",
        "__Замечание 1:__ ниже представлен пример входных данных. Не бойтесь с ним экспериментировать, прежде чем написать непосредственно функцию.\n",
        "\n",
        "__Замечание 2:__ compute_td_loss есть источник приблизительно 99% ошибок в данной домашней работе. Если награда не увеличивается, то часто в подобных случаях помогает построчная отладка с помощью [резиновой утки](https://rubberduckdebugging.com/)."
      ]
    },
    {
      "cell_type": "code",
      "execution_count": null,
      "metadata": {
        "id": "sXq1p4RU53QU"
      },
      "outputs": [],
      "source": [
        "def compute_td_loss(states, actions, rewards, next_states, is_done,\n",
        "                    agent, target_network,\n",
        "                    gamma=0.99,\n",
        "                    check_shapes=False,\n",
        "                    device=device):\n",
        "    \"\"\" Вычислите td функцию потерь, используя только операции PyTorch. Используйте формулы выше. \"\"\"\n",
        "    states = torch.tensor(states, device=device, dtype=torch.float)    # размер: [batch_size, *state_shape]\n",
        "    # print('S', states)\n",
        "\n",
        "    actions = torch.tensor(actions, device=device, dtype=torch.long)    # размер: [batch_size]\n",
        "    # print('A', actions)\n",
        "    rewards = torch.tensor(rewards, device=device, dtype=torch.float)  # размер: [batch_size]\n",
        "    # print('R', rewards)\n",
        "    # размер: [batch_size, *state_shape]\n",
        "    next_states = torch.tensor(next_states, device=device, dtype=torch.float)\n",
        "    # print(\"S'\", next_states)\n",
        "    is_done = torch.tensor(\n",
        "        is_done.astype('float32'),\n",
        "        device=device,\n",
        "        dtype=torch.float\n",
        "    )  # размер: [batch_size]\n",
        "    is_not_done = 1 - is_done\n",
        "    # print('done', is_not_done)\n",
        "\n",
        "    # получить q-values для всех действий в текущих состояниях\n",
        "    predicted_qvalues = agent(states)\n",
        "    # print('Q(s,a)', predicted_qvalues)\n",
        "\n",
        "    # вычислить q-values для всех действий в следующих состояниях\n",
        "    predicted_next_qvalues = target_network(next_states)\n",
        "    # print(\"Q(s',a')\", predicted_next_qvalues)\n",
        "\n",
        "    # выбрать q-values для соотоветствующих выбранных действий\n",
        "    predicted_qvalues_for_actions = predicted_qvalues[range(\n",
        "        len(actions)), actions]\n",
        "    # print('selected Q(s, a)', predicted_qvalues_for_actions)\n",
        "\n",
        "    # вычислить V*(next_states), используя предсказанные следующие q-values\n",
        "    next_state_values = torch.max(predicted_next_qvalues, axis=1)[0]\n",
        "\n",
        "    assert next_state_values.dim(\n",
        "    ) == 1 and next_state_values.shape[0] == states.shape[0], \"нужно предсказывать одно действие для состояния\"\n",
        "\n",
        "    # вычислить \"target q-values\" для функции потерь - то, что внутри квадратных скобок в формуле выше.\n",
        "    # в последнем состоянии использовать упрощённую формулу: Q(s,a) = r(s,a) так как s' не существует\n",
        "    # Вы можете умножить следующие состояния на is_not_done для достижения этого.\n",
        "    target_qvalues_for_actions = rewards + gamma * next_state_values * is_not_done\n",
        "\n",
        "    # среднеквадратическая функция потерь для минимизации\n",
        "\n",
        "    assert predicted_qvalues_for_actions.shape == target_qvalues_for_actions.shape\n",
        "\n",
        "    loss = torch.mean((predicted_qvalues_for_actions -\n",
        "                       target_qvalues_for_actions.detach()) ** 2)\n",
        "    # print('loss vector', (predicted_qvalues_for_actions -\n",
        "    #                   target_qvalues_for_actions.detach()) ** 2)\n",
        "    # print('loss', loss)\n",
        "\n",
        "    if check_shapes:\n",
        "        assert predicted_next_qvalues.data.dim(\n",
        "        ) == 2, \"убедитесь, что Вы предсказали все q-values для всех действий в следующих состояниях\"\n",
        "        assert next_state_values.data.dim(\n",
        "        ) == 1, \"убедитесь, что Вы вычислили V(s') как максимум по оси действий в тензоре, а не по всем осям\"\n",
        "        assert target_qvalues_for_actions.data.dim(\n",
        "        ) == 1, \"что-то не то с целевыми q-values, они должны быть вектором\"\n",
        "\n",
        "    return loss"
      ]
    },
    {
      "cell_type": "markdown",
      "metadata": {
        "id": "eSMw34xC53QU"
      },
      "source": [
        "Проверка корректности реализации"
      ]
    },
    {
      "cell_type": "code",
      "execution_count": null,
      "metadata": {
        "id": "zII-UIDl53QV"
      },
      "outputs": [],
      "source": [
        "obs_batch, act_batch, reward_batch, next_obs_batch, is_done_batch = exp_replay.sample(\n",
        "    10\n",
        ")\n",
        "\n",
        "loss = compute_td_loss(\n",
        "    obs_batch,\n",
        "    act_batch,\n",
        "    reward_batch,\n",
        "    next_obs_batch,\n",
        "    is_done_batch,\n",
        "    agent,\n",
        "    target_network,\n",
        "    gamma=0.99,\n",
        "    check_shapes=True,\n",
        ")\n",
        "loss.backward()\n",
        "\n",
        "assert (\n",
        "    loss.requires_grad and tuple(loss.data.size()) == ()\n",
        "), \"Вы должны вернуть скаляр значения функции потерь - среднее по батчу.\"\n",
        "assert np.any(\n",
        "    next(agent.parameters()).grad.data.cpu().numpy() != 0\n",
        "), \"Функция потерь должна быть дифференцируема относительно весов сети.\"\n",
        "assert np.all(\n",
        "    next(target_network.parameters()).grad is None\n",
        "), \"Целевая сеть не должна быть дифференцируемой.\""
      ]
    },
    {
      "cell_type": "markdown",
      "metadata": {
        "id": "kmf44kpx53QV"
      },
      "source": [
        "# Основной цикл\n",
        "\n",
        "Время собрать всё вместе и посмотреть, обучается ли что-нибудь."
      ]
    },
    {
      "cell_type": "code",
      "execution_count": null,
      "metadata": {
        "id": "B0GU_yrh53QV"
      },
      "outputs": [],
      "source": [
        "from tqdm import trange\n",
        "from IPython.display import clear_output\n",
        "import matplotlib.pyplot as plt"
      ]
    },
    {
      "cell_type": "code",
      "execution_count": null,
      "metadata": {
        "colab": {
          "base_uri": "https://localhost:8080/"
        },
        "id": "tR7eJ5l753QV",
        "outputId": "3a6b0fe4-bc9a-4dd1-f862-2f0b331a9a72"
      },
      "outputs": [
        {
          "output_type": "execute_result",
          "data": {
            "text/plain": [
              "<torch._C.Generator at 0x7c858059a450>"
            ]
          },
          "metadata": {},
          "execution_count": 106
        }
      ],
      "source": [
        "seed = 100\n",
        "random.seed(seed)\n",
        "np.random.seed(seed)\n",
        "torch.manual_seed(seed)"
      ]
    },
    {
      "cell_type": "code",
      "execution_count": null,
      "metadata": {
        "colab": {
          "base_uri": "https://localhost:8080/"
        },
        "id": "CjgrYlVe53QV",
        "outputId": "53aabc2e-bd44-4304-981f-9dd0a0aa03cc"
      },
      "outputs": [
        {
          "output_type": "stream",
          "name": "stderr",
          "text": [
            "/usr/local/lib/python3.10/dist-packages/gym/core.py:317: DeprecationWarning: \u001b[33mWARN: Initializing wrapper in old step API which returns one bool instead of two. It is recommended to set `new_step_api=True` to use new step API. This will be the default behaviour in future.\u001b[0m\n",
            "  deprecation(\n",
            "/usr/local/lib/python3.10/dist-packages/gym/wrappers/step_api_compatibility.py:39: DeprecationWarning: \u001b[33mWARN: Initializing environment in old step API which returns one bool instead of two. It is recommended to set `new_step_api=True` to use new step API. This will be the default behaviour in future.\u001b[0m\n",
            "  deprecation(\n",
            "/usr/local/lib/python3.10/dist-packages/gym/core.py:256: DeprecationWarning: \u001b[33mWARN: Function `env.seed(seed)` is marked as deprecated and will be removed in the future. Please use `env.reset(seed=seed)` instead.\u001b[0m\n",
            "  deprecation(\n"
          ]
        },
        {
          "output_type": "execute_result",
          "data": {
            "text/plain": [
              "<All keys matched successfully>"
            ]
          },
          "metadata": {},
          "execution_count": 107
        }
      ],
      "source": [
        "env = make_env(seed)\n",
        "state_dim = env.observation_space.shape\n",
        "n_actions = env.action_space.n\n",
        "state = env.reset()\n",
        "\n",
        "agent = DQNAgent(state_dim, n_actions, epsilon=1).to(device)\n",
        "target_network = DQNAgent(state_dim, n_actions, epsilon=1).to(device)\n",
        "target_network.load_state_dict(agent.state_dict())"
      ]
    },
    {
      "cell_type": "code",
      "execution_count": null,
      "metadata": {
        "colab": {
          "base_uri": "https://localhost:8080/"
        },
        "id": "CjTMOzxf53QV",
        "outputId": "0aa1e64c-3ec0-49e8-bc6a-da01fcd3a23c"
      },
      "outputs": [
        {
          "output_type": "stream",
          "name": "stdout",
          "text": [
            "10000\n"
          ]
        }
      ],
      "source": [
        "exp_replay = ReplayBuffer(10**4)\n",
        "for i in range(100):\n",
        "    if not utils.is_enough_ram(min_available_gb=0.1):\n",
        "        print(\n",
        "            \"\"\"\n",
        "            Меньше, чем 100 Mb RAM, доступно.\n",
        "            Убедитесь, что размер буфера не слишком большой.\n",
        "            Также проверьте, может, другие процессы потребляют сильно много RAM.\n",
        "            \"\"\"\n",
        "        )\n",
        "        break\n",
        "    play_and_record(state, agent, env, exp_replay, n_steps=10**2)\n",
        "    if len(exp_replay) == 10**4:\n",
        "        break\n",
        "print(len(exp_replay))"
      ]
    },
    {
      "cell_type": "code",
      "execution_count": null,
      "metadata": {
        "id": "BghF0zs053QV"
      },
      "outputs": [],
      "source": [
        "timesteps_per_epoch = 100\n",
        "batch_size = 42\n",
        "total_steps = 3 * 10**4\n",
        "decay_steps = 1 * 10**4\n",
        "\n",
        "opt = torch.optim.RMSprop(agent.parameters(), lr=1e-3)\n",
        "opt.zero_grad()\n",
        "\n",
        "init_epsilon = 1\n",
        "final_epsilon = 0.1\n",
        "\n",
        "loss_freq = 20\n",
        "refresh_target_network_freq = 100\n",
        "eval_freq = 1000\n",
        "\n",
        "max_grad_norm = 10\n",
        "gamma = 0.99"
      ]
    },
    {
      "cell_type": "code",
      "execution_count": null,
      "metadata": {
        "id": "aLjzVA3l53QV"
      },
      "outputs": [],
      "source": [
        "mean_rw_history = []\n",
        "td_loss_history = []\n",
        "grad_norm_history = []\n",
        "initial_state_v_history = []"
      ]
    },
    {
      "cell_type": "code",
      "execution_count": null,
      "metadata": {
        "colab": {
          "base_uri": "https://localhost:8080/",
          "height": 793
        },
        "id": "bABA8FJG53QV",
        "outputId": "83ec3883-14f0-41b8-829a-c6abe22df0cb"
      },
      "outputs": [
        {
          "output_type": "display_data",
          "data": {
            "text/plain": [
              "<Figure size 1600x900 with 4 Axes>"
            ],
            "image/png": "[encoded data removed]"
          },
          "metadata": {}
        },
        {
          "output_type": "stream",
          "name": "stderr",
          "text": [
            "100%|██████████| 30001/30001 [34:01<00:00, 14.69it/s]\n"
          ]
        }
      ],
      "source": [
        "state = env.reset()\n",
        "for step in trange(total_steps + 1):\n",
        "    if not utils.is_enough_ram():\n",
        "        print('Меньше, чем 100 Mb RAM, доступно, заморозка процедуры обучения')\n",
        "        print('убедитесь, что всё в порядке и пошлите сигнал KeyboardInterrupt для продолжения')\n",
        "        try:\n",
        "            while True:\n",
        "                pass\n",
        "        except KeyboardInterrupt:\n",
        "            pass\n",
        "\n",
        "    agent.epsilon = utils.linear_decay(init_epsilon, final_epsilon, step, decay_steps)\n",
        "\n",
        "    # игра\n",
        "    _, state = play_and_record(state, agent, env, exp_replay, timesteps_per_epoch)\n",
        "\n",
        "    # обучение\n",
        "    obs_batch, act_batch, reward_batch, next_obs_batch, is_done_batch = exp_replay.sample(batch_size)\n",
        "\n",
        "    loss = compute_td_loss(obs_batch, act_batch, reward_batch, next_obs_batch,\n",
        "                           is_done_batch, agent, target_network)\n",
        "\n",
        "    loss.backward()\n",
        "    grad_norm = nn.utils.clip_grad_norm_(agent.parameters(), max_grad_norm).item()\n",
        "    opt.step()\n",
        "    opt.zero_grad()\n",
        "\n",
        "    if step % loss_freq == 0:\n",
        "        td_loss_history.append(loss.data.cpu().item())\n",
        "        grad_norm_history.append(grad_norm)\n",
        "\n",
        "    if step % refresh_target_network_freq == 0:\n",
        "        # Загрузка весов агента в target_network\n",
        "        target_network.load_state_dict(agent.state_dict())\n",
        "\n",
        "    if step % eval_freq == 0:\n",
        "        # Оценка агента\n",
        "        mean_rw_history.append(evaluate(\n",
        "            make_env(seed=step), agent, n_games=3, greedy=True, t_max=1000)\n",
        "        )\n",
        "        initial_state_q_values = agent.get_qvalues(\n",
        "            [make_env(seed=step).reset()]\n",
        "        )\n",
        "        initial_state_v_history.append(np.max(initial_state_q_values))\n",
        "\n",
        "        print(\"размер буфера = %i, epsilon = %.5f\" %\n",
        "              (len(exp_replay), agent.epsilon))\n",
        "\n",
        "        plt.figure(figsize=[16, 9])\n",
        "        plt.subplot(2, 2, 1)\n",
        "        plt.title(\"Средняя награда за эпизод\")\n",
        "        plt.plot(mean_rw_history)\n",
        "        plt.grid()\n",
        "\n",
        "        assert not np.isnan(td_loss_history[-1])\n",
        "        plt.subplot(2, 2, 2)\n",
        "        plt.title(\"История TD функции потерь (сглаженная)\")\n",
        "        plt.plot(utils.smoothen(td_loss_history))\n",
        "        plt.grid()\n",
        "\n",
        "        plt.subplot(2, 2, 3)\n",
        "        plt.title(\"Ценность начального состояния\")\n",
        "        plt.plot(initial_state_v_history)\n",
        "        plt.grid()\n",
        "\n",
        "        plt.subplot(2, 2, 4)\n",
        "        plt.title(\"История нормы градиента (сглаженная)\")\n",
        "        plt.plot(utils.smoothen(grad_norm_history))\n",
        "        plt.grid()\n",
        "\n",
        "        clear_output(True)\n",
        "        plt.show()"
      ]
    },
    {
      "cell_type": "code",
      "execution_count": null,
      "metadata": {
        "colab": {
          "base_uri": "https://localhost:8080/"
        },
        "id": "A8rfAzYh53QW",
        "outputId": "c01f62ce-9fdb-4d86-ae53-4ed8c33f260e"
      },
      "outputs": [
        {
          "output_type": "stream",
          "name": "stdout",
          "text": [
            "финальный счёт: 538.8333333333334\n",
            "Отлично справились\n"
          ]
        }
      ],
      "source": [
        "final_score = evaluate(make_env(), agent, n_games=30, greedy=True, t_max=1000)\n",
        "print(\"финальный счёт:\", final_score)\n",
        "assert final_score > 300, \"недостаточно хорошо для DQN\"\n",
        "print(\"Отлично справились\")"
      ]
    },
    {
      "cell_type": "markdown",
      "metadata": {
        "id": "cvoedxIR53QW"
      },
      "source": [
        "# Запись видео"
      ]
    },
    {
      "cell_type": "markdown",
      "metadata": {
        "id": "VAJCJhPR53QW"
      },
      "source": [
        "### Код записи видео (Спасибо Никите Киселёву)"
      ]
    },
    {
      "cell_type": "code",
      "execution_count": null,
      "metadata": {
        "id": "2YGH9OIn53QW"
      },
      "outputs": [],
      "source": [
        "from gym.wrappers import RecordVideo\n",
        "import warnings\n",
        "warnings.filterwarnings('ignore')\n",
        "\n",
        "def evaluate_video(env, agent, greedy=False, t_max=10000):\n",
        "    \"\"\"Играет n_games полных эпизодов. Если greedy=True, то действия берутся из детерминированной\n",
        "    стратегии как argmax(qvalues). Возвращает среднюю награду.\"\"\"\n",
        "    # Создание объекта RecordVideo\n",
        "    name_prefix = \"non-greedy\" if greedy == False else \"greedy\"\n",
        "    record_video = RecordVideo(env, \"CartPole-v1/videos\", name_prefix=name_prefix)\n",
        "    s = record_video.reset()\n",
        "    reward = 0\n",
        "    for _ in range(t_max):\n",
        "        record_video.render('rgb_array')\n",
        "        qvalues = agent.get_qvalues([s])\n",
        "        action = (\n",
        "            qvalues.argmax(axis=-1)[0]\n",
        "            if greedy\n",
        "            else agent.sample_actions(qvalues)[0]\n",
        "        )\n",
        "        s, r, done, info = record_video.step(action)\n",
        "        reward += r\n",
        "        if done:\n",
        "            break\n",
        "    record_video.close()\n",
        "    return reward\n"
      ]
    },
    {
      "cell_type": "code",
      "execution_count": null,
      "metadata": {
        "colab": {
          "base_uri": "https://localhost:8080/"
        },
        "id": "44Beq3j153QX",
        "outputId": "3c81ed65-0a35-4ada-eea2-a559d409079f"
      },
      "outputs": [
        {
          "output_type": "execute_result",
          "data": {
            "text/plain": [
              "500.0"
            ]
          },
          "metadata": {},
          "execution_count": 124
        }
      ],
      "source": [
        "# Environment\n",
        "env = gym.make('CartPole-v1')\n",
        "\n",
        "# Creating a video\n",
        "evaluate_video(env, agent)"
      ]
    },
    {
      "cell_type": "code",
      "execution_count": null,
      "metadata": {
        "colab": {
          "base_uri": "https://localhost:8080/",
          "height": 448
        },
        "id": "keEOmfN253QX",
        "outputId": "8c55ee57-698b-4f82-d2db-78527419fc44"
      },
      "outputs": [
        {
          "output_type": "execute_result",
          "data": {
            "text/plain": [
              "<IPython.core.display.HTML object>"
            ],
            "text/html": [
              "\n",
              "<video width=640 heigh=480 controls>\n",
              "      <source src=\"data:video/mp4;base64,AAAAIGZ0eXBpc29tAAACAGlzb21pc28yYXZjMW1wNDEAAAAIZnJlZQAAab9tZGF0AAACrgYF//+q3EXpvebZSLeWLNgg2SPu73gyNjQgLSBjb3JlIDE2MyByMzA2MCA1ZGI2YWE2IC0gSC4yNjQvTVBFRy00IEFWQyBjb2RlYyAtIENvcHlsZWZ0IDIwMDMtMjAyMSAtIGh0dHA6Ly93d3cudmlkZW9sYW4ub3JnL3gyNjQuaHRtbCAtIG9wdGlvbnM6IGNhYmFjPTEgcmVmPTMgZGVibG9jaz0xOjA6MCBhbmFseXNlPTB4MzoweDExMyBtZT1oZXggc3VibWU9NyBwc3k9MSBwc3lfcmQ9MS4wMDowLjAwIG1peGVkX3JlZj0xIG1lX3JhbmdlPTE2IGNocm9tYV9tZT0xIHRyZWxsaXM9MSA4eDhkY3Q9MSBjcW09MCBkZWFkem9uZT0yMSwxMSBmYXN0X3Bza2lwPTEgY2hyb21hX3FwX29mZnNldD0tMiB0aHJlYWRzPTMgbG9va2FoZWFkX3RocmVhZHM9MSBzbGljZWRfdGhyZWFkcz0wIG5yPTAgZGVjaW1hdGU9MSBpbnRlcmxhY2VkPTAgYmx1cmF5X2NvbXBhdD0wIGNvbnN0cmFpbmVkX2ludHJhPTAgYmZyYW1lcz0zIGJfcHlyYW1pZD0yIGJfYWRhcHQ9MSBiX2JpYXM9MCBkaXJlY3Q9MSB3ZWlnaHRiPTEgb3Blbl9nb3A9MCB3ZWlnaHRwPTIga2V5aW50PTI1MCBrZXlpbnRfbWluPTI1IHNjZW5lY3V0PTQwIGludHJhX3JlZnJlc2g9MCByY19sb29rYWhlYWQ9NDAgcmM9Y3JmIG1idHJlZT0xIGNyZj0yMy4wIHFjb21wPTAuNjAgcXBtaW49MCBxcG1heD02OSBxcHN0ZXA9NCBpcF9yYXRpbz0xLjQwIGFxPTE6MS4wMACAAAACKWWIhAAz//727L4FNf2f0JcRLMXaSnA+KqSAgHc0wAAAAwAAAwAAFgn0I7DkqgN3QAAAHGAFBCwCPCVC2EhH2OlcDYD/g8QMCl38m6CmJikPBypjc9x7kEvL1yvFDEyECjzQvv+V5unQxQ7Xkr8v/mK6Nj/nGk4Rm1zekcWZz9q7u7bE5Kw3kZYZyfHytbGBup47fRzYbNzGgroyChLlH1MUgPzuw2Tnken1KFS9LSmsRGcITVClYDCW+Qxk89tzwpD+N1Fu2cSSavDt2RTZ9Q2D0rKtd+rK+aspuhPgK2bCBuAAkn5G9UY5nb/hpQ35ICKmJE0h3LPNeDRg2ki0gyJHw1BOhb3aRXu3AMh5+HXEVC/GFQrYfxrzv2aboMY1AhL/FvClo36WFasd8s9XhKKzSTVqGiHdnSjrHi/YPoCMEZclchG/rzGJLpDRL4AmMRwalJ+LqsrrGj8mtGCYFjDHBaQzbK+v88amRaDmXIFKufFP3qTpojfnHvzZk4564nIg5yfc/Vx0y14ycou+rz8jrplNxuk5HBSeQtqqu7zgDDus72Dx3OtkhVacnCdU8D8oQwoZio5KdRiRFlx6WZpJcIh5CnHl17OCmRGel2gtqkptJyvCwXse3MrAdae037CM+sdnADR9UE3vYjKZhcBJUL5SzH9nCBazTaKGcfX28K7F8AbRIcTmVZo75ptjat8aepJ98VYtSlCZnlEENvgABigAAAMAVUEAAACUQZokbEM//p4QAABFS1FoAoB9M/QU+2sdjq8uW9hgefAqTumuwnwOxiUu7Ge7LZxbciaiAQCCYiljZnjhXL3j9a0/DiTUwo5vjyel0RDR7wYLlaOFkjWrlqX6c6U8yATYv9WBXBhdjN9jBdObywScphUuAOuC6hl8OqBAHQGHS2Uo+VXqjeE5Tjv1xqgCP/+NamT/wAAAACtBnkJ4hH8AABa+S7BCc/Zn7h0b5E6OLQVzt0iAFhBcADjV3d0UnVjpJ18HAAAAGAGeYXRH/wAAAwBDcYU+9+nZ2SXITan2YAAAAB0BnmNqR/8AACO/BCcSyWma6BwfkYliNYIgBB8UEQAAACVBmmhJqEFomUwIZ//+nhAAAAMAMm8QbAuVvIAgkmvvykwgUpmBAAAAE0GehkURLCP/AAADAAFrk3aPG3EAAAASAZ6ldEf/AAADABnEN2f+ssb1AAAAEAGep2pH/wAAAwACPArHvbgAAABgQZqsSahBbJlMCGf//p4QAAAJ7wWBOnR+FdYY/RTTZ+/QlqQ+wA0o0Zv8WE4yr+XpAHYYObb3CYg8MxV50WquuOWacjvaHprl5rl285vDPPilE+NHlQQdUUDLciAqGs5gAAAAH0GeykUVLCP/AAADAzhNZvKi7v3hZQbiRyHYSXs5UqEAAAAdAZ7pdEf/AAAFH8vu4q8rpBv8mqZ7UGBS1lcez4AAAAAeAZ7rakf/AAAFIIChdqBb+AY2fa8tV7LwIFehivBgAAAAIkGa8EmoQWyZTAhn//6eEAAAAwACw5I4iIjJSVCxZhq9VsEAAAAQQZ8ORRUsI/8AAAMAAAMBBwAAAA4Bny10R/8AAAMAAAMBqQAAAA4Bny9qR/8AAAMAAAMBqQAAAHBBmzRJqEFsmUwIZ//+nhAAABnfUVjq5Rs/A1soAaaSs20brtHkfUY5JwInxXxX3DcyyB9aXh1n8IWtBWzFZlUkXGEEQ3bZoVRW8f+hHOoVzyyzzVcOin6J2u40GR2YhvYok2uC2oK2Jlg758AtNc9AAAAAJkGfUkUVLCP/AAADAzkwebbiuZWTKSi9gDBqKowAN/pIpXB8uAgJAAAAFgGfcXRH/wAAAwAKP7Q9gzsHryn2eqAAAAAdAZ9zakf/AAAFHzCWe4ktM2T/SKOCOHwUFJ+DnPgAAAAkQZt4SahBbJlMCGf//p4QAAADAAefXPnhCHUHl8r1SbCfHbUzAAAAEkGflkUVLCP/AAADAAJrydw/IAAAAA4Bn7V0R/8AAAMAAAMBqQAAABABn7dqR/8AAAMAA8z/xWfBAAAAXEGbvEmoQWyZTAhn//6eEAAARWVBTsHLCcVWSQ0DMhWpZxHYgCt7878UWtGJvnAL8NjQ4APGPI2aeMB247+geBK+vZObk4El6LTgx56B5a+dfBwjyIJUa6OTKYJeAAAAHUGf2kUVLCP/AAAWvEPNtxXMrJlJQjtRLBIdvofdAAAAEAGf+XRH/wAAAwADyxR7fkAAAAAYAZ/7akf/AAAjvwQnEslpmrhWUx8p14/xAAAAF0Gb4EmoQWyZTAhn//6eEAAAAwAAAwM/AAAAEEGeHkUVLCP/AAADAAADAQcAAAA0AZ49dEf/AAAFII40G9UOY28Zhyv5eYAxCIloYL0Mgd32+SBpJJJ4ACbc1LipnxO9qecpgwAAAA4Bnj9qR/8AAAMAAAMBqQAAAFRBmiRJqEFsmUwIX//+jLAAAEYC0OCZdKxSen4+T6LNFuHE5TQBP9f+QJKoDbzT931SW/tbF44gsqRXwBslWplt2vv/JJXNw7SfQEC0U1tJXbrvMKAAAAAlQZ5CRRUsI/8AABa1KzdrVqHiwACIeB8i9TX0dUqoloByNLQDuwAAABkBnmF0R/8AACOr+Ft4Ep2Hn02i/hw7EZlxAAAAEQGeY2pH/wAAAwBDkaVziUF3AAAAXkGaZ0moQWyZTAhn//6eEAAARVSpTnWEnENjpyz8rmXsqkEV3Uz8meLcqo1QA1RO5hr0n0fyX6ZRxEu4kvUWxdBhNPaL01ceTBvhFOEjjjCAsSbGPCSg20apyc5KaMEAAAAiQZ6FRRUsI/8AABa8TmzHLKueNX3JIjrRJWsEBzPiDWRpJwAAAC4BnqZqR/8AACO/Gs6Etk0dQ/710aeIOyEfWegoJYhVHb8Dgv8gNP76GPYGkjVtAAAAT0Gaq0moQWyZTAhf//6MsAAAChew++jpG3oUj+pKe3+FuenyWd2xHJRGjgAJpcoMlQ2fc6703wnOM8EJkfsBIE2XHHe1Zla5TFEVIVLqvmAAAAArQZ7JRRUsI/8AAAMDObLgQACIg0kF3DMzXnH+Fm8fapaTKYQFdaAVqyW2zAAAABkBnuh0R/8AAAUcXOOUDxGh2CCY+rZOpVPdAAAAHAGe6mpH/wAABR81yst/ZZcTm9OW3EmGfAouWzAAAABRQZrvSahBbJlMCF///oywAABGAtD5nNguN/W6K70i/+HdWzaICebgfKa7vHBYPLikk17pIyRiwLU6Yn67VaflR1hFj6e7oDfDomFwu9Wzi8tfAAAAHkGfDUUVLCP/AAAWtVhVis4/2KEZFYbI2+U3YYXWAwAAACABnyx0R/8AACOsOQWu9gkRWYvsJYiKwfD/ascT3084lQAAABABny5qR/8AAAMAA8z/xWfBAAAAQkGbMkmoQWyZTAhf//6MsAAARgLQ+ZzWOkr//N/j/yBbBQDORAlgAEQtQwHgmQoJatXYB16j3hzE+HDuTGchzdVuTwAAAB9Bn1BFFSwj/wAAFrVYVYrOP8wTfuloyDeMqqJ/vBioAAAAMgGfcWpH/wAABSKqAASvQ0yFwCBQk+fbWLZAF4jnt7DGPAFwxepVgCfBidjVPic8PcCBAAAAQ0GbdkmoQWyZTAhf//6MsAAARhRbWGvklDCvIDBdXCVJ06OdIABwlr6Ae8R/KNDE/agYCqyvjQelZe0t8T56tujfIeAAAABFQZ+URRUsI/8AABa1WFXB0ZQAOKfidMKltcBbxDtknlVJp2EDxsUTejXCpMnTEfC/j40/FtXLAQT3qMEDLp4ghRnqu1WLAAAAFgGfs3RH/wAAI6w5Ba5PHnJNAZLPUWUAAAAcAZ+1akf/AAAFDhHMe/rSRg0CGiU1lAEAPrAItwAAAFtBm7hJqEFsmUwUTDP//p4QAABHRQg0B0Q00qaRNfbEFvRHgxjm/4CaEA/Lwarjldhr5wgmg5TvkOx8WpcWqmKnAXfb+TLXk2DQMQGm6xCK1CaIHBE4zty3+arxAAAAKAGf12pH/wAAJL8EJxXCe2MjXpcQAsy6Kiib5hL/gMnbgHVh9lS1a4EAAAA/QZvcSeEKUmUwIZ/+nhAAAEdRCdXAZu3EJEPZ2KiQnbfkbotVauhPK/D4gFTCM7k0UL4uPQ6ZYh6PQnrLDwxEAAAAL0Gf+kU0TCP/AAAXTEPNtxXQZhUADdMohbvB0RVWvYSUde8yIZuOReDHtb3N0CHBAAAAGwGeGXRH/wAABRxbeevo2FovJXBOb9WvnCLUgAAAACIBnhtqR/8AACSxzAlXF5WSAoYZvdDpBLFNMgNdfcH42pwRAAAASkGaAEmoQWiZTAhn//6eEAAAR0UEy0zVGzVU34u5J89HMc5N0AzVaZ2ie5kEFKaDVs2N9oQatSCASHf8kE/5WPf/Pa7bWhjGqhG3AAAAIkGePkURLCP/AAAXTEPNtxXoLjhh11QKi1CpeIB7EMle9qQAAAAbAZ5ddEf/AAAFQ9DBzxq47mziJsBUQwIG6M2vAAAAFgGeX2pH/wAAJLHMCW+pb7IVltssMGEAAAA9QZpESahBbJlMCGf//p4QAABHUQlPBTZFzaBLNk7xjyStn+JEpEQBP3jc+Hn6AGdVHQqGZUCLFQyw7n/VcAAAAC5BnmJFFSwj/wAAF0UrN2tZZoi9IIF5vADjaxVpvIM1Gj+K6566nRGN4ggOrve5AAAAFwGegXRH/wAAJKv4W3gSltRJh1HfFED/AAAAGgGeg2pH/wAAAwHlzfDr1E8CDMewBA1T7SPdAAAAQ0GaiEmoQWyZTAhn//6eEAAAR1SP5jH+QLfUwz3sVgW2Q82Pcoz1aoA8DhVpWIHU+5zCt3QK7owZ1kIDsF7IfBOkGDMAAAAlQZ6mRRUsI/8AABdLineNJs5kFFWU+I750z6gkrlgUM81SFIkWQAAACABnsV0R/8AACSr+Ft4EqygZr3BOKZ1X52VZRIA7UamwQAAAB0BnsdqR/8AACS/BCcSyWmauFZTHyo7fi+tjQSRYAAAAD1BmsxJqEFsmUwIZ//+nhAAAEdRCU8FNkXNjNMYDA3r7z5EAQt28CDfuVsLoZXv4XhejP8RIBGYJqhrzHMwAAAAJEGe6kUVLCP/AAAXTEPNttx3blj/6N6+gEk4121UjMae/Md7gQAAABwBnwl0R/8AAAVAW3mEdfTJn0m9GwnctIpX/e14AAAAFgGfC2pH/wAAJLHMCW+pb7IVltssMGAAAABMQZsQSahBbJlMCGf//p4QAABHaPIFAIFoXrqRC2lkokPr0vnuJLWojB03jWjq9gPY5WCFEJ4b9t7t2JTddmEe0jvBo7SPSwQmvf4lgQAAACZBny5FFSwj/wAAF0UrN2f1OwMDvjjgIWXHa5GGcDQ7rs/VlP9rUwAAABoBn010R/8AACSr+FuJJWTrdNiCJoB4JIQ1IQAAABoBn09qR/8AAAMB5c3w69RPAgzHsAQNU+0j3AAAADRBm1RJqEFsmUwIZ//+nhAAAEdUj+evmWPkX60cQjchpYxfF57LyQBA/sjB3LlCuqq0TzX/AAAAK0GfckUVLCP/AAAXS4qUZIzAIZVEzrRnnpho5YHsNp5S6j+eMc7qKpdI0e8AAAAiAZ+RdEf/AAAkq/hbeBLX1jOAXJfEaiUgesFB4N9dotyteAAAACMBn5NqR/8AACS/BCcWWKxcRENQQ4lYVdvG6BbHhplX6WpjggAAAGhBm5hJqEFsmUwIZ//+nhAAAEdRCXfiCdBZv8Lrzs3ldYddoBVaHNbnBBUSvQjcY0ddw+VXpdrHaxom9qTlqRLk7xt9weTDxXv0HZ19DY/Kq0fjS26zG/Jc04ZuBq8M/1/5GTQ3b+xl+QAAADNBn7ZFFSwj/wAAF0w9LmNb4lBsjFCzgToTCmEgCNv97MRDzCg/8aRz69/3HihxlRZ/JwQAAAAcAZ/VdEf/AAAFQFt5hHX0yXJUyVVyrvcQJdh14QAAABoBn9dqR/8AACSxzAlvqW+yFZlV+O11p+9lgQAAAEFBm9xJqEFsmUwIZ//+nhAAAEdFBe9Xfevq+92UuIYC6VPL9mVbPRYAhfy5CvoVEvpMMUAvh5/TcH3akrChfENxVAAAACRBn/pFFSwj/wAAF0VYVTRDQyq+dPSzB9hT86Rwcjub3Yi+yLEAAAAUAZ4ZdEf/AAAkrDkFrk8fPxV/heQAAAAZAZ4bakf/AAAFQT5g4mccgjQadfb/k77FgQAAADhBmgBJqEFsmUwIZ//+nhAAAEdEWnTvP3K1iMeY7WUo0ekiyp3GBh3n6mc6QP/O0rKoNn9ROSrViwAAAC5Bnj5FFSwj/wAAF0NIi98q8Iy6VlgBHbKyRYQZPpjj9tHGvZza8vTeYpBYy/90AAAAIgGeXXRH/wAAJKw5BW21I/kPoly3zwaw1mRTAGcYjoAR/dAAAAAdAZ5fakf/AAAkvxrOe94JuYRiEFVvyogWrq1wOIsAAABHQZpESahBbJlMCGf//p4QAABHRQXvV33r6vveNutvXZbHQagH67RCsjAl5a0mst+d/6udh3PprJRK7gSeoHQnfiUYZKF3xoAAAAAmQZ5iRRUsI/8AABdMTmynvy41tuPLlQXyFSBAryLSlLBDXdMRn7sAAAAcAZ6BdEf/AAAFQFt5ksWtozqSwEyna4yKbUDUgAAAABUBnoNqR/8AACSyKwcTOOGoJy43obMAAABUQZqISahBbJlMCGf//p4QAABHUQl6QtyxCKAAiAyDbVJ+f3VqX19a+0R+IlRILw+RvPoScXp9j8uKg5ktqt3GCaok05MIi+NKnEIPhwHTgZB2D2xBAAAAKUGepkUVLCP/AAAXRVhVNENDKr4Zmnqn5nVqcFSqgABLdtz4D7OXB0+fAAAAFAGexXRH/wAAJKw5Ba5PH1qZZ2TdAAAAGAGex2pH/wAABUE+YOJnHIY6Mht4WdXIMAAAACtBmsxJqEFsmUwIZ//+nhAAAElEWfYm7M5gIXJ+kMExdv43jHuWZUwymxQ8AAAAJUGe6kUVLCP/AAAX4Ie3Dbkbkw0bemCEfHY2GWOWWw7nhmFodoEAAAAnAZ8JdEf/AAAlwxdaQ5p3bSWwwZ4GEFtpAAoHUAOSl/xS/pXpN3WAAAAAIQGfC2pH/wAAJb8EJxLMRNbgsYdhlBF0GeICNVlF/D2VnwAAAHFBmxBJqEFsmUwIZ//+nhAAAElFBMtM6AOpjdABpassJbwDk/7Sb6Mv2KzC6IdT0e3tSKYj8o/jpnajSt/AgIYVpJ/mgFsK3R2Q76SRHS3xxZJlXQFxtUpzMXo2aJJJR5ec+GyUC3MMFysO2iH/ESTuwQAAACVBny5FFSwj/wAAF+mDzbcV5z5JYPZMZ5khbtJLfjJOZw3SF8dpAAAAGgGfTXRH/wAAAwH7ih5kk93K/VlM3SKtC+05AAAAGwGfT2pH/wAAJbHMD28c8tL8TvmjJl/TAWZxwAAAAHJBm1RJqEFsmUwIZ//+nhAAABuu2bAuLLM/PDU813fYPvF/E7yT2KHG51YbOh53a8ZoAFgT77ZT4E9Zy6caP9CpbHINvgMHS8TRviX/yH09IX505oPNB3WOGBC+49Ske/0bhDLVWH9TIotGyN94nmSimucAAAAzQZ9yRRUsI/8AAAjwOOWo6xVAETBcspxKX8w1Zuxjwevd9HD0tGFWrZTsDZW2bN6c6J05AAAAJQGfkXRH/wAABWYbq+97SCGuYTHNUZwq0x3WRVrXnkBqjdHHs+AAAAAlAZ+Takf/AAAFZSyCFqQmWZAzN3Jp20EHhnEoThDlicmWphdpwAAAAERBm5hJqEFsmUwIZ//+nhAAAElEWfYm7U92XLNLQANTMn8F1Y3FA/M/rNgC6RoX1XtAcNLlPQaOSv/0zibApwyxmq03QQAAAC9Bn7ZFFSwj/wAAF+CHtw25HK27t9Zz41j/ZTW5xSDfuxtNoUdwDiRRHgcCU3KdnwAAACIBn9V0R/8AACWr+Ft4IYAIYvx0KKrNRvA1K8Gm1b0kn9OnAAAAIQGf12pH/wAAJb8EJxLJzPbu6jvp28GTu7MmPQAd8vH7rQAAAEtBm9xJqEFsmUwIZ//+nhAAAElFCDQBPhWCBjXKBiLVENM5jbgJDO387iTd32drHxfs+p8gNCY8TcS4oeSZTrlwLT+t9/1//cw8bnwAAAAeQZ/6RRUsI/8AABfpg823FcywuZOFXeL6HtNW+rHbAAAADgGeGXRH/wAAAwAAAwGpAAAAIwGeG2pH/wAAJbHMCW/BwjzQoz+0jRyOkxXQiztgnFS6TdnxAAAASkGaAEmoQWyZTAhn//6eEAAASUUFFN6MNVoAJXduS42sY3U5HMypyD5wYgYmW01mpPukbhPfTkFUPG1P8OUmIje/FpnyGILR9ueBAAAAJEGePkUVLCP/AAAX4ms3a1qy+NYnUWclwspSsaDP8IAS+Ox2gAAAABkBnl10R/8AACWr+Ft4Ep1nzmqZVITi0EfAAAAAGgGeX2pH/wAAAwDESVLPcSWm3umfHpIG8C2fAAAAR0GaREmoQWyZTAhn//6eEAAASURaIl04Nf1uVh5ABWrkgWKc5bZcPo5sz7YT2XAr6WKDntolBA4wl4CtAHxsFOrveRXq9ObgAAAAJ0GeYkUVLCP/AAAX0DG4EV9HT0vLkiBDtIkn/vxfVCCRHzmAv80bUQAAAC4BnoF0R/8AACWr+Ft4EyoAASxTym9Zv7D+TomwBwZyqjBV9J3E9QBabiCild1gAAAAGQGeg2pH/wAAJb8EJxLJaZsn+f5Ai/42VcEAAABFQZqISahBbJlMCGf//p4QAAAK17v1T4BKCIxtRjubz93s8W2CcFiIaY719xJCJAGyEoWCjPW1ztlgxNf4J5Rp1xdft4FxAAAAHkGepkUVLCP/AAADA3RNWPkR5n8EYKzP060UM7bPgQAAABwBnsV0R/8AAAWIUliQkJzPcB3U39VxcEYFpkGBAAAADgGex2pH/wAAAwAAAwGpAAAATkGazEmoQWyZTAhn//6eEAAASURab11r02HFxTTOAIOWqThzlnwmAFsTjq6+YmGGPFqwv9gAvr1d1qSqjVPcEnP6+xR7r0FY7n0OU/Gn+QAAADVBnupFFSwj/wAAF+CHtw2xOyW+1J5pNID/gmX6tiUQBK0Vvy3c7K2uxBYIAF96wlsIGvqwgQAAACMBnwl0R/8AACWr+FuDYAaYes7pgxEfAxX6ysYVJ0aapRBOnAAAACYBnwtqR/8AACWxzAlwTUvIhKtt9lXaZyvYGrVCwXxkat8/wn+ECAAAAHxBmxBJqEFsmUwIZ//+nhAAABr17qrOgqVustlKKjkT1hLNnPUQCMAAtyFuw8Oyt6eVTah7g8t9Ke99/mTKkbs2BouoprDGsmMvqdc1ydxF68MwHGvP41FL82Yvo4ObrhRmd7XXdg8JOZyRIYgdV3a2JduJrakUePd1TZYVAAAAMkGfLkUVLCP/AAADA0uu1jye4XFjYAA3Sy0eaBGaILKLgOyO8LfUi3+Q9kaXszaRHs+BAAAAHAGfTXRH/wAADc4S89fTAhUUZGheh/h4YbtLWfEAAAAlAZ9Pakf/AAANz9tmlUk1dEuxkC4wFzltpO7hRnQNQy/F1CkO0AAAAE5Bm1RJqEFsmUwIZ//+nhAAAElFBe9Xfevq+92aixVLoK/GKGDF4eesAVb0nTlj3T+elXc9/lnkiZL41pdEuXVQdy6PlzpgEf2shN9lR0AAAAAeQZ9yRRUsI/8AABfimFWKzj/YoRkh6Txr5UFanp13AAAAMAGfkXRH/wAAJcM6SrvaRqgBbwCC1o52eq5Eil4DSq1VnfvStPWJ29/CEjOzXpFECAAAAA4Bn5NqR/8AAAMAAAMBqQAAAEtBm5hJqEFsmUwIX//+jLAAAEoB8+8Aiwj+dfEidPU5xeJ//C2dZilsQrZ00s7EwFHj8sxoHCmc8AQSvQI2dYT3LazLaomKr+I9utcAAAAqQZ+2RRUsI/8AABfgiGyXijgAHGb9FcnUSoWxaO06tKZ/YJqFmQ0/j/PgAAAAKQGf1XRH/wAAJaw5B3FKrKAEfq35tnKJtwo/iHeiztDmdfxagMLqB/TBAAAAKAGf12pH/wAAJbIjZGPYF1b/z6oRLC2g4c+lrEG36clbgpRAmke1AYEAAAA7QZvcSahBbJlMCF///oywAABKAtD5nNY6SlStHXE1LWR6wP8CXLAA+7Q0tFSsnZHCVA/nSdlL26U8zegAAAAaQZ/6RRUsI/8AABfilTOY6pu2jjJOf1HAhi0AAAAaAZ4ZdEf/AAAlwztmGDMoASQtNqhvjazKC9gAAAAOAZ4bakf/AAADAAADAakAAABOQZofSahBbJlMCF///oywAABKFFtYe4QaupY8yjdVpm+lVvYxJEjG0VlE3zoQBHkCSNZxBIa7XD+toBFr9mx5drous7tIHaMhgOpSRUKxAAAAMkGePUUVLCP/AAAX4phSfSHX0YAWtorlUKW1pQdmH1glIMpLJfWPQ1rlaPhqZ4n6aaz4AAAAGgGeXmpH/wAABWc01bGssCqUsBcQViA49o+SAAAAUUGaQkmoQWyZTAhn//6eEAAAS1SpPufUARmv/BMzueKMeB7j6qZtYe6GcGHnnYMvFr0+fvNVxhQQPDTryFhImcj5+w3yHgYzz4EVNb64d1CwrQAAAC1BnmBFFSwj/wAAGImDzbHhCk7/D8mgKEwuZH8wLnTsTBpBirhXZ1lRKVLzbKgAAAAyAZ6Bakf/AAAmscwJb7IQABx42jLIx+Z34jH4wdnq58TDQqqe1tMxHSTWd3VoGmrj5KkAAAA9QZqGSahBbJlMCGf//p4QAABLUQlPBTgPD/LIoiW8hUq6J6ciAAIhZKYjXynqtryPQYdu+ked/uELFfF7oAAAACVBnqRFFSwj/wAAGIJrN2ta/0L1kNPNIPY3LTxMUEANMKwzQY9xAAAAIAGew3RH/wAAJsMXaJ0F6/2hfHfHNSp5EkNYIS7f7ca9AAAAGgGexWpH/wAABWU+YbdkZ20XCcm+/tu1aj3BAAAARUGaykmoQWyZTAhn//6eEAAAS0RZ9ibszmACANpcY2SVnjzQAf2wvC1g8oGeSPaqlShPrxAui6fnXhrUiHpfo2OjD2+3CQAAAClBnuhFFSwj/wAAGICHtw25QWgBLatwoOedtDz9MoSBzhkaJbZxUhSdwgAAABYBnwd0R/8AACar+Ft4Ep1oI4gmIwMeAAAAJQGfCWpH/wAAJr8EJxLJcT5moASyltQhQoGZiBKdl+gpWANXHKEAAABAQZsOSahBbJlMCGf//p4QAABLRQT3HGG/2gt1e5bHSaoLUUAI0AfVb+yiGHulMM+Q8TXfjSR1A3VoKxAnO7FBkwAAACVBnyxFFSwj/wAAGIJrN2taXscIZTLijrUnfZJcXmj8nXBQvHuAAAAAHQGfS3RH/wAAJsMXaKmlU9T7wgokG6DmDV9GF8cpAAAAHAGfTWpH/wAAAwH8gBL44Gm4rXVClwk7Zlbg14EAAAA4QZtSSahBbJlMCGf//p4QAABLRFoiXTg/2XzEKy42rrb47aDx3rQGADSQKeJgmh3Ck5F7vcjfaUcAAAAhQZ9wRRUsI/8AABiAh0gteaeDF82FUBzVBNVgU5wBPWfAAAAAFwGfj3RH/wAAJqv4W3gSnWgjiCXIlhywAAAAIQGfkWpH/wAAJr8EJxLJX4RDY/msBiBvpAMyIIrSX5Me4QAAADtBm5ZJqEFsmUwIZ//+nhAAAEto5KAgJy5qKn5GuG88hA1snJ9tUBfdC/3A3AtrxdmE4xHDiC4mMrI8QAAAADBBn7RFFSwj/wAAGImDzbcVyfC8IBZoykwKgidyRYvxTo3BLQhil3oM4IixlPg3kOUAAAAbAZ/TdEf/AAAFZFt56+jYWi8lcE5v1a+cIsqBAAAAHgGf1WpH/wAAJrHMD3CmQAtKfk114O/GM8vAGWHFnAAAAEJBm9pJqEFsmUwIZ//+nhAAAEtRCU8FNkXN0N4mq0Y4a6t72u9lugqZvDqqAQAVIpjVvGfZQ1ne0zkpUoQr0JEyK0EAAAAmQZ/4RRUsI/8AABiCazdrPjo02A+mjgksQDIz7wwHCuSkmQuPwOUAAAAoAZ4XdEf/AAAmwxdeu6KAEl1Cdl1x0F+wlivCOlqbur3kUfMORPHj3AAAABsBnhlqR/8AAAWLMJZ8OiP72g4DNJxsO3kutlUAAABiQZoeSahBbJlMCGf//p4QAABLZI/nVP/UsXUF6pDZAjECcfPkJwAAoSLKUg7oZCUY4lgOY3zdQJv7vc7jQ8X6+hv6R3LN6N4gj076ud9t8Ddr8XPFAnPP8ffQQ11NJciV24oAAAAgQZ48RRUsI/8AABiAh7cNuRwv5dDYff9/gVvgPk6MbAkAAAAXAZ5bdEf/AAAmq/hbeBKdaCOJCckQPaEAAAAbAZ5dakf/AAAmscwJb6lvshVI+/wGKMg+d5rwAAAAS0GaQkmoQWyZTAhn//6eEAAAS0Rac6eIYABuvvGUVI+AVmJBqqLt1TDMQjXzjFTAu9LzCDn4pCGhrpRLjkrvGfkU09hk5ClzQtQUIAAAACxBnmBFFSwj/wAAGICIi98q71bMIAWv1sT0rdrDa/fc0qyrluH6H9lYqiZJ3QAAABQBnp90R/8AACasOQWuTx8/FX+FnAAAACEBnoFqR/8AACa/Gs2uR9d1hSUG2lC+MUXKvURHRhrZRYEAAABVQZqGSahBbJlMCGf//p4QAABLRQXvV33sBlABxlbQMFMFqzvB5CWERwh2MF6I1VfwIX9S/r7XjX6/h6wNvj5q3p7LUzYXBL2m3Pnr5wZ2Uew2PHgswAAAAD1BnqRFFSwj/wAAGIKW/XRtBl7csnh+gV5w/jBPGQzr8QqgW7aUWAYhP6MTPvHEAIFAlHq8DSJrlS7mHZFlAAAAHgGew3RH/wAAJsM+DnjQpbeHgpXe/edOMgNxvBE/cQAAACUBnsVqR/8AAAMCCx6/gjPG5opD+g02B3TWKtXjJlK3uxDyTaE/AAAAakGaykmoQWyZTAhn//6eEAAAS1SpTm9B9mJAd4/6qtuAAVGsMxBjLscsWOR9RiUQV6DMPTe47WyECdrCGzhqtNDtZahf00dmhPqX2pUUa019wZxxibzwVZhJZ9pgCG3OHI2IYdpumUF4CuEAAAAxQZ7oRRUsI/8AABiCmFWuc18DNNM7u1ZNaWkY6hMu3b8wWwMqQUL/atq1+7AHmQPbuAAAACkBnwd0R/8AACasOs6RZBkZx/XsMs/xaKV931l3tL4dIxWUr5C3RC/GVAAAABsBnwlqR/8AAAWFu4zvOIZio0Ad8VH37/uig08AAABIQZsOSahBbJlMCGf//p4QAABNRFn2Ju10m36uFOMYAHc87mvz8ROIbQa+aGIKNZvR7cSUPxMrf96C8U6t0FYR4nzwcFz+ExO6AAAAMEGfLEUVLCP/AAAZKX0uWfvj6FAY1bGul0klmH4kXtg88VsHtCRX4so3JGJLU6/DaAAAAB4Bn0t0R/8AACasQlQk/wsmZGCrRFnT598IPJXIhp0AAAAlAZ9Nakf/AAAnyYBnRPmWpDioZMbw5aFs7aUynv6r1ABvTBqqMQAAAH9Bm1JJqEFsmUwIZ//+nhAAAE1DkAEAcUovOyoKO5apXXncfiCT0wwmVHEmjQ/nw7Khnm7t+/J+w7KNem/pYyn7il4zp9pLvwk2Hy0x9nGhcJGc5Be4xKHnfIGvp9eigmqnAa4o8lRw+vim52GkgrewjKUQ4ByCC2m7iYjAPSLBAAAAQUGfcEUVLCP/AAAZIIe3DcUHAC1busi7N+puEaBxq8qfGLZm0vsryuGSZ2JX1S9OfvIEqlxItvREAo7wmo0yH1iwAAAAKAGfj3RH/wAAJ8BY3lQGJm+ufUqRyfn1gHF5unMG/wevGceEhOFcKmAAAAAoAZ+Rakf/AAAnyYB23jurQcqnEn8m4AeAZemYOFOVClYw/5zBF2UdYQAAAGBBm5ZJqEFsmUwIZ//+nhAAAE1FBR7i0bNsxNl4VwAXysMvJedUOmaQdGqliQxBCnPBx0jSNUUJYfTCdnL217UnZWmr5cMwo7vaD47TEgYyagem/i9YViBprKa7yn/6I2QAAAAvQZ+0RRUsI/8AABkiazdrX+X7dl5grQMQKo2bMZjkO1W0X2lKvT92F42ZFuTXZcAAAAA1AZ/TdEf/AAAnwpNOrTUsYsQ2OwbCQCqVXRCn7w0lrY2m9OxNSm/aI34ATH92qdebLj5kNoEAAAAaAZ/Vakf/AAAFrTAOMGKhqv9xVXpQh7izTlwAAABKQZvaSahBbJlMCGf//p4QAABNRFoiXThARaKerIWJWyzETKnNlkea13b5b42t4hnywA1W1FpNxc7EyiK9B57mVODvqDnj+yqfnBcAAAAkQZ/4RRUsI/8AABkgh7cNsTslKTfFBEAG1fH2UtiV66dUDHHXAAAAIAGeF3RH/wAAJ8KTTYp9y0MYLPimt5Bz6djjG6rdBDsWAAAAJAGeGWpH/wAAJ9mEs9xJX4RDUGNtk4Uls7kqDkMrUejfTsEbYQAAAEJBmh5JqEFsmUwIZ//+nhAAAE1EW9BAJTg+1SXLCaAXu3GNX7zX6ppu1I340BL7LtpNRFZGCQgRuPAkcd0i2HALQoAAAAAuQZ48RRUsI/8AABkQMbgRX0H9aT5k0BiKIqERAQAmpvUDRKkS0RJSCNuGXkbOXQAAACYBnlt0R/8AACfeX2hVERYNSp3zmAhFvxHdhBd/zTlsMaavAcjd0wAAACMBnl1qR/8AACfZhLPcSXuT1G9T7ir6xonNvYUkI8auXFk7VAAAAHxBmkJJqEFsmUwIX//+jLAAAE4QvGgLWQ+QAgiYEdDyzMA8Gofzc3kfiz8CrnRf6MR0GQZr7oGum9xHKHyYBVW4ubCW18eOKA4C9nFI9hONuHMnGdMjdlU/9384XVpuJU2VXHpKPDzCKLuvcmW//CNyITBXe622AvPSsmHcAAAALUGeYEUVLCP/AAAZIms3az45zSvaF2EvAEVw/ZYJ97LAWKs2S7y/+Z8jncLA2wAAACoBnp90R/8AACfeX2hVERYNSp3zm07g366aIawuJFPWyiULeT/S7pwxdMAAAAAbAZ6Bakf/AAAFrzTVsZMLz+vAFQ1fzZBFsOXBAAAAS0GahkmoQWyZTAhf//6MsAAATgHycEy6VXRiO5VvG8ZWZX58XJrrEusfEZHZ/ZXQ3KaAJ86ac8U1t5l8U0gsHhAnB3Dp/VzlyEeuLgAAAC5BnqRFFSwj/wAAGSCHzqhCKgBH9gnWfhxpbztVgY9Doj9gjJ3sYZbnhUkSNsbdAAAAHgGew3RH/wAAJ8KTTYQpy8ikCBGeuRoD26WDp/jHWQAAABwBnsVqR/8AACfJ8wcTOOGoJyH3Me5ue6g4kr71AAAAPEGaykmoQWyZTAhf//6MsAAATgHyfMYhvWv8eyH2Mq3a4jLjXPA5F1gOMdnxgqf22u8UvmcocNA9j8wpgQAAADJBnuhFFSwj/wAAGSCIi+NIABZZZ5T4VXX9GVGt53bvVdrZ9t8csPB3FC92gbbTol0UEAAAABwBnwd0R/8AACfC28yWPtIOAv5EM/RSDC5ckSS8AAAAJgGfCWpH/wAAJ9mjzuDUadyvvQRi0oceSmzsmvxldTBX3x174fvRAAAAPkGbC0moQWyZTAhf//6MsAAATgLQ+jUqkCohC1cvglt+9oichWBXbUUmTgQ6vh8RprvKbWor1kEX0c2uIqN6AAAAm0GbL0nhClJlMCF//oywAABQKfDh7WCAoTV9yKTqO3e7ZnL9WWiPX5dSB8AYJyQ0OUo32xK/SfxHZkhuk2J32v6DOLCI/ILLnlcG09mttrGtVLwkRuQdUzx/Jo/aev5QXb9An5vgPFiGx09KKuYmAnINE1kbEMOdPILO9/HBF9jgdXVgq7mQoNm07C/rx5r5bONI/yb7MCJaxoswAAAAPUGfTUU0TCP/AAAZv+vvlK7o+AAWHWNAGc5ilcgqX/FqDO+nnPokIYRPCs2O+OXsbeTMvY/yAIOUC1Nmpi0AAAAqAZ9sdEf/AAAo/lnm93Q8fhQjrF/PIiRz6xh1nZXRK8l0j0s7mw0QdYRNAAAALAGfbmpH/wAAKOVT0zzkWopRAHiEPh9WpgMPPU99aUmu5EJzVNGcrPSZ/7aBAAAAREGbcUmoQWiZTBTwv/6MsAAAUCvBkOPJKO/P546AvjaGXgC7h/4l4cMbcTZ0/6MGT/MfJsG/igFW25AFu24fpTSSYUfKAAAALwGfkGpH/wAAKPmEtDRacikBKf5UJShfQeJFvFSi0qcaXp7cehV4OiuoUqOPczFgAAAAYEGblUnhClJlMCFf/jhAAAB0f420B+OabJeq+mL3TH7MRHuqWzebWCsoNWcf9tQ8CZ4t5/+0cVZ7ps0TTz53bmoydRJMTOJoiFK9C/DWTuGFEyaE7wSn4w4/xBUBHCRsEQAAAC5Bn7NFNEwj/wAACav3O0bS9HXVcUhSPj5n6+cnZjqq+HbwazVnHFpLgUVH4IYsAAAAOQGf0nRH/wAADzeagE6lD8Y8ZaNqvqBUQxt1gCTUS0U54DrZc2f1ExnwUEA9q+WtlX1VTLUeNoB1gAAAACcBn9RqR/8AAAXTqSzt7mbPcXfQIb8q0isGQYGDvbaZT2QxXyqXkkEAAAByQZvZSahBaJlMCE///fEAAAMC+mKe2sBzZB7uggBE2rXX2vgvgVvL2O9tIRgjP8gsqUhBXj2I43LEf1jcCLfdvV1a1VEzKZ8eu/BP8oujTdPkhIEpyvpnf7GulADemD8PVlks5TBTKAncLgxr3GXeGAfQAAAAPUGf90URLCP/AAAZyYPNHnk4AWMC9ThEuPgcCJy+vFdSrwehXhdo2GWSikAqb/XXWH0Ev+VFjHc0ticM48EAAAAjAZ4WdEf/AAAFr9HjJn2SET+fSGjNl0VweKbFs+aU5ggiceEAAAAhAZ4Yakf/AAApBAdNL+NweL1ri5VxdtH4EWGudSoZkcGmAAACSWWIggAO//73Tr8Cm0WXagOSVwr2yqQmWblSawHypgAAAwAAAwAAAwLa9HiTO+TU8TYAAAMBBwAoYVMRISAUsbwqBOS++C0feQDStZg14YPTlS4sqB9x32RQ7pw0zhlUovMPyOg6PjXIcIED/QBWzO/4RT7dNhY4mIAdNkg9ykWqDQAkE1e3H9ALWfDRzIU83Ux6cNqkaxPSHMl5ougg0lw0NWYFDaqqZh5j35PU2Jy1iwLrtp5kZqTCuwv4HD4+nIOavxVBcn+I3ucDpM3xgPNCpxE2nAEA3vltCxvu/SC+yozaJs4UUZ1RRgIX5lfeMNgKZ2l4X5E+j5WLwKRtWGEqvR4L079VkNPQkBCDrWTMJDU/VubLcda1dBO3I1rA9H1CU0WknIkIG/q6Wm0ONRprHGrpLFHEeYOzaP2EeakiV1Cz2GoY0Pqx3qcqtF7Dm5g2Vn7GugfL7SzVEqIC1pwo8/LNdWzoLyT/f4S1yF+4nfvaOZGwJtnpXlcjcO6q7kjxzeuk0xtmmmZjuCvOWzDExtgdUkoJ56xojP9FYjF6qgVqU/60VDnizh/yQCwx2dBBAWYBVi5Nwv4R18x03PSnx60KSjXLz3ATducMLHL9Gvu0My3kiuDnxM1N2ovPXy0szQkjoVTmcYU/ldmp99VJ4Y9Xf64KM0aZHwcSak/05kBPnK7Ng4uncU7HMGv8bf3NEj0qphgCTZxjAC0fdU8syDOpVAtR7hgnySbADh06s097weL710ENQm8WAhA/sAAAAwAAAwA+4QAAAHhBmiRsQv/+jLAAAFBzSz28RnhzjQY5btJZA/MIzVhBFeAE0VST/se/rqYqrU8c/Af43SPq1KP1cCkxWa86xMLCalKmqg0zKAYjC59bn5oKA4aNvsF4Xkig9tLd+956fNDYcZJSrSOIEit+u4dI6gaNgpxOpQjOO+oAAAA9QZ5CeI//AAAo+1cmJtEVjUDxmwwfpW7lC6gE2qsTSxZYWoqMp5l2E+btX1Wvbd6JbEV4ASfcNkueEhVwgQAAADMBnmF0R/8AACjik0uffLyeaBLY8WEEx28Y5QouRFT2h5l6V7aC4LFmxim6SK0x9z3f7n0AAAAqAZ5jakf/AAAo5VPTOYypKCbXDBe+Y+ofHWLbRiZXTbYGG40FXoxsYPdMAAAAn0GaaEmoQWiZTAhf//6MsAAAUCnxW02uXIy4+bPoALjJ7DsQShqW5V70bNIl6NAUFWdrMFjQ5Yycp9fS30epA6q1Zvm12fBM0VZtkbAQFXvd/A43e3LCE1maDDx0smjPcqoSNuUyxqhQUy2axVqMoAblmPghZ01fv/act6jj340/8jDfpeuBPEyIyA+zu8OiiJVmTlaP1sOAQT2mg3dYgAAAADVBnoZFESwj/wAAGb/r6LOiROM0hcv+Dtgj3iqB+CZJJUlhNPCYH7WAhroLu13jTxrIuhjbAwAAACQBnqV0R/8AACj7VyYmtVZSGHF31D5pr5dm1omnra5qnBrbwz4AAAArAZ6nakf/AAAo5VQQNHb/HXXE+umADmtkATebdq9J3vrIOFCsdNw1rS1PcQAAAD1BmqxJqEFsmUwIX//+jLAAAFAqyozGIhFCEq1jslAttaSq0coBaMUnN07h3BJv2174rO8y/l+KtGr4O8seAAAARkGeykUVLCP/AAAZwIiG5IztHWrpeSiORkqhsCC2jRd0joBjPhkb8dvGvG4gBaca0CHtBFr9FcRpjPiJkPkoNjKZUCkIHwMAAAAYAZ7pdEf/AAAo4tvMljzsHJ6uIS4FXEbNAAAAJQGe62pH/wAAKOn0X7GN5tFEefhBoazWdrVwXPTdBOyDj1LVseEAAACAQZrtSahBbJlMCF///oywAAAd7/li/KTsABoHpTRQnDr0JV3WWWy6UEjBM353MtSuzUKXJb1BNGdi/bRz+ykFesWTTdBnDIGADORW87mReBs2ABRO3I5hBFPhJKZvFxLq/bzN/DSP+zitFOSvS+fqtiu1rtVxRNIsjJei7d/rLIEAAAB0QZsPSeEKUmUwUVLDP/6eEAAAHc9RWOrooTHf9fla+OYkHeX4AS1VNc1mySvu+SWc8OBZRA22UnxEIQEEFowa+mxnJ+uihPrRheMN1tkuWvfs2x7+8JwPPZgXQVLxjHsjPjNQTtcgAVCUSDpfGQRuD65mA4AAAAAqAZ8uakf/AAAF97p1G/ii8cCU7ey7LaeTQEoBdls/5tb27K06q4erJtTAAAAAPEGbM0nhDomUwIZ//p4QAABRpTW7p3xWoqaffesQehYrfLBOM2uPd4v85SGJjb2MMeMTWvEw6pyVr0S9eQAAADxBn1FFFTwj/wAAGcCIrjjb7JK8Zx0sALUUHrSFBvO4v59/BIepqDrVHW3QjUPQiyLNanOngIyufqdHYcAAAAA2AZ9wdEf/AAAo/oJKvrXrLFcR+YLD9DvfksDtJrvGA9p13Rj21DXdAA76/s6UXGiTaPCeuo1QAAAAKQGfcmpH/wAAKPmuXuxo3WX/pFzQggbpYXdq+VDjlR5igOm2e0DR4SNVAAAAU0Gbd0moQWiZTAhn//6eEAAAUasKmaq0Axx+9hHU7ZxRYPq+C3ABzgwdjCFsCPdezh0JoyrpFCFMejs2Kt9+xFHbUVnRZ7MrjugYr4Nx4FtSiNlRAAAANUGflUURLCP/AAAaYIe3DbkcL+ckgCsFsZDtgVW+faP9paxxL01fBmcnRuvVmbA7QLrEGNdxAAAAHwGftHRH/wAAKhtXJihWylRut3bsV4oFSH7VxRGaQi4AAAAmAZ+2akf/AAAqCYBwpqWDGRZHwTqpCzC4pPe+nMooPLduTWOzWHAAAABLQZu7SahBbJlMCGf//p4QAABRrNq1GhN8UT+5nYQ5lIsdZGoSkye1ooAKsOX5fEDMNjNJH+Vu/ONwLlwE6BT8h9yOpzEgkZvKTSjhAAAAQUGf2UUVLCP/AAAaaYPNtxYLZd+AA42saKgJxjqXk+boKe3FA+etpekeb3RRbKnQgd4UnsdmHqcwUh1cUIZk51+AAAAAKgGf+HRH/wAABfnJupIqNoHJh7KlP0WD5mo0V4rpgOW5RGx7NJa114uw4AAAACYBn/pqR/8AACoJgHACvPpbXFiDWtRHGE2n6X2f9VWq8vMKaOwZcQAAADxBm/9JqEFsmUwIX//+jLAAAFJ80kNzIdIOC/rm04VQGRh8cU6Sy3KtRkDkyWnWVrk52YQKB5QkxZmdyaYAAAAuQZ4dRRUsI/8AABpf7B6jG0dCf2ncobPzgVn4mgeNADRBOEHmhL/Sw4zxe7UTLwAAABgBnjx0R/8AACoCk02EKcvIpAkLHg+rjQMAAAAkAZ4+akf/AAAqBVPTPHqF+/QUUK4xqF7nHa3kCCtH45awCdfgAAAAYEGaI0moQWyZTAhf//6MsAAAUmrKBT0CTrp7gAGTXLsuDyV5ko747FYX376/harISSs5zThDabuialyq20ELn1wGy1CrR17tGdUVqB2igjxraZDunPSnjQ4AFgBkawMvIQAAADdBnkFFFSwj/wAAGmJrN3iLGf79AKxZD/VpQxNwbsmWQA0dctiPJpqC0a6iQ/EF1+A7klCDsbmXAAAAJQGeYHRH/wAAKhtXJihWybxpqHVxo1f+8ukx6OLPMFZ1taEfX4EAAAAqAZ5iakf/AAAPNACZBOaSAAr7l1h0iEtGZ5osbzO5zkKg16M3Kp4gFH1/AAAAdUGaZkmoQWyZTAhf//6MsAAAUpThNTpbRTgEM0ZHeAE1b4De1uTZ0RJrYGVZnNvVi7J4dIjnaNEjjO/pQT3cwehWJ8x/avm/aG9DrxeAvzSZiiqr6w3QMWwpiv4W7OMvW/dGdX/2/SYPbN0kboDa7H44b62RWAAAADFBnoRFFSwj/wAAGmJrKeJGEZdIx5cJmPMxes9BwDH9iluVpGBIV03qp0pP7cYWY9fgAAAAMQGepWpH/wAABedGl6LERS5DxXtc8oAAi+seCQsotUOD2g1yaTQg5jCW5C7NLRUQZcEAAABWQZqqSahBbJlMCF///oywAABSasp+m1yDKUXkqB+pABlR2CYeBjnMju361pZ2jgxE/w2cHrS4M4Yb9qX8Gp+Edd1jSrooxC3PJQ4W8OiVRknT3wV6eEgAAAApQZ7IRRUsI/8AABpgh86oN9xM0/4sYTkb4CaFGpa/qM3EpyEn1B8K/p0AAAAkAZ7ndEf/AAAqHl9oqbOVFiRIIBmaQkQ+sOgppSQmtOwbsKeqAAAAFQGe6WpH/wAAKgnzBxQymzRxd2gDgwAAACpBmutJqEFsmUwIZ//+nhAAAFGs29Iv3e1FPqX8clRxprLgBTBmY3HGdO0AAABSQZsPSeEKUmUwIZ/+nhAAAFGsBekTYfJ2pZwF0+zqkXCvp7YVkIgQAhR0LbDELnuhgb/YWrHR1lBXxW9NcrJuYsZA4ijukLfq1rQHsY7Xdm6zQQAAAClBny1FNEwj/wAAGmCIi98q8Iyzey0HWP3+YQA3ZpShvydF8xhToflhbQAAABYBn0x0R/8AACoC28yWPj+ryRoXud7oAAAANgGfTmpH/wAAKgnvQ4Tz6EABc9XnT4+NaQx1mq/aY3tjEL87ngX0CN3s3JkOtKN1ipY5QmdVMAAAAEdBm1NJqEFomUwIZ//+nhAAAFPsBT+9MG/wi3T0OGBCAA2mrxEmjMAeoaOcjBc+iX/hnz9tOhAtWiwgXL5SOQNzsXz21W1eqQAAADhBn3FFESwj/wAAGwl9LmNIELDDxmwgBu6oalRUdjXtc0o55oawDqlHCkqNkLlI0SRIi2xyGnoNUAAAACgBn5B0R/8AACoehg1o0+4fYBo4BjZRAiuvjlOa9IWSUi82FXWDQ0TgAAAALgGfkmpH/wAAK0KGJv5WOgVFQ46u9cT7gdgkNy+b+FTvZNeg8Zs0iQi5tvERmPEAAABHQZuXSahBbJlMCGf//p4QAABT7AU/vTBwEWiZ3Bs6rdtLMW++N5YUYOZgA0ddb8IeT4Z4VI9gS+8ZP/ETCBg312sCeqR7e0EAAAAoQZ+1RRUsI/8AABsAh7cNuRwv0MIa1jGrYF7SlBLfVZgCcknZxjgwpwAAABkBn9R0R/8AACs+X2ippaxEX8vIsbF5SXVtAAAALAGf1mpH/wAAKymAcNyib2bQSKxH1AkANHB2SJdWIYm+piBi/wD8/qm/ob+AAAAARUGb20moQWyZTAhn//6eEAAAU+wFP70wcBFop6shYfLfsKss0TAEZUBx4KZC9DNtgtjD6k1Xl1vEaYaN+Nb4VXkqX4VMQQAAACNBn/lFFSwj/wAAGwCHtw25HC/l0NexqMZtbgpGgFVRil+tJAAAACMBnhh0R/8AACsik02EKd5+GJmH9tyk7scvJN8vCEWaGlpIEAAAACEBnhpqR/8AACspgHDconBw4zkB79+rFz5+MvgtxepqK2kAAAAvQZofSahBbJlMCF///oywAABUqsoFPQJOqwbz3Owzn4spZQBf4dj2EQWmrWynovAAAAAhQZ49RRUsI/8AABsAh7cNuRwv5dDXsZLuUndJFUiAU4yxAAAAIQGeXHRH/wAAKyKTTYQp3n4YmYgHwGYCwtu45fAAfEwx4QAAABsBnl5qR/8AACspgHDconBq4Qul31XJJOsp4x4AAAAyQZpDSahBbJlMCF///oywAABUqsoFPQJOqwbzvBLzzyDc20SkAlBH2UBgM/ZO70D7ISUAAAAtQZ5hRRUsI/8AABrwMbgRX0gyDWnQkCjPhHBezLPP+JTFHTDkkQ7SbRgC0oywAAAAHAGegHRH/wAAKyKTTYQpy8ikCBGeuRoD3QvzKtsAAAAoAZ6Cakf/AAArKYBw3KJwcOM3vt6z2lPh8AAWzO/I9okqvogPEsIywQAAAE9BmoZJqEFsmUwIX//+jLAAAFS8sUzhA+PE6ovx+AECNNuFF5RBiARKvJOje30nwZtTCPSar1KXtys++Ik6nUdqamZ7nZYG/w/GRrtH7PVAAAAAK0GepEUVLCP/AAAbAIf7cWC2JUK/k69SxxWH6RvsCAEvBM9ELRcmTgSWtbQAAAAgAZ7Fakf/AAArOYSz3ElxPdLcUVir1jH3vbn9d+MXThEAAABNQZrISahBbJlMFEwv//6MsAAAVL0dYaehxwK87SQheFWvVBA091VpYUcLyyoa7dlU0oAE9Ht3NOVfSxXnhIm5oCAt0LzDh2PNhl0jGIAAAAAgAZ7nakf/AAArOaaneFOFmXAo2ax4jFSYB/TUYwv/jHkAAABLQZrrSeEKUmUwIZ/+nhAAAFPs29Iv3e+RBAJr1LoTCgkm4qN6sUk95qrqSRIXdkF5061x6sMRlZKWTmYIWZ4Uab88JUGqbnZ2O91qAAAAK0GfCUU0TCP/AAAbCY5sbmPsuZV+9JuvQy6gvf/t1bu4Gvi/P8XF4MZh9W0AAAAeAZ8qakf/AAArKfMIlCiDDTj16wJ1HWr1ZGZf6CmBAAAAbEGbL0moQWiZTAhf//6MsAAAVKmRYl8PHKTEfVAAnVVx5ewZQpSVDk8RPi2GOfhi0v4ZLkQtDT2EVE7T/kzXnnDQuOiB5yf2l3h5F7hB2DHh06wHLMdJdsfu7d/9ApPG1cs7I1Xmkcaqvix3nwAAADFBn01FESwj/wAAGv/sjbXtAAiHikAo6oWl/a9YjdL34Tan5JbdJs+fNPlPg6g3b9rbAAAAIAGfbHRH/wAAKyLbyvvTo42iN7EwUftf50ZaYz9yJIBTAAAAKAGfbmpH/wAAKyVV4f56AEl2AcVHE1mkD4I5f26D7FG9uCRdZDAfxQQAAABUQZtySahBbJlMCGf//p4QAABWLAU/vTBt0rsgBBunu11ts06jBB15lhRhFZyH+Qzei+MuUtBKD47XsOvCVGWEIShUjVVhft2hHKXx3amRv9MfgtUhAAAAO0GfkEUVLCP/AAAboIe3DboMnSAGw/J6WAWozaCRipO95ic7r92wC0GPPy/TtJoUJtiV0io3PFrezcX4AAAAIwGfsWpH/wAALFmEs9xH/RcECooCbgReGiPXnZyQtp7OtgLcAAAAYEGbtkmoQWyZTAhn//6eEAAAVizaVUzVG1+uLVBaDDP36xOPPQOTtQywBz+q8j8WUpLtqTuQ9biIJIGfiD78QOjhoe+HzPiPHhW8K39oPY+ECs+fcEq3kgulJE/C+jh02wAAAChBn9RFFSwj/wAAG6JrN2IISzpdtwXGRKG8kOAr9p1UkJSQyJ6alci/AAAAKAGf83RH/wAALF5faKmd8Z3K/iH2HXMlXmCAYRoxKKsjoOaLXnqUX4EAAAAfAZ/1akf/AAAGR+saQRj7D7hLVNK0YqcjslYhYQ15gAAAADtBm/pJqEFsmUwIZ//+nhAAAFZBUuve/kC31MM/frE489Ax8F8iXabA0Fc6jkPGWCoE20n+7dpTVY+n1QAAACdBnhhFFSwj/wAAG6CHtw23Ize9EAPMthsvyQSmHTdHLPK7zqaEw4EAAAAlAZ43dEf/AAAsW1Y41A7mzFRr/RJYzYOE5YP1Hd+g/fpLZNpMOAAAACMBnjlqR/8AACxZhLPfz6GW+bamxN2e6v/XBTW8QEP5wcRFuAAAAEpBmj5JqEFsmUwIX//+jLAAAFbqygU9Ak6rBvrMNjqRB7ph9wUH7dtvuca9LDvUSI6aX07l0wgwBit7LFD6ViVUv6wrfWIxHZDxxQAAACdBnlxFFSwj/wAAG6CHtw26qmNsZHwLkCXkHBROqT9oMsldC8Ik+L8AAAAiAZ57dEf/AAAsXl9onQXrcuKnE0hlcLFtDQDUF7VfEASBbwAAACEBnn1qR/8AACxJgHDcoNcWUmG7wUhCUKpALItu5o/7i/EAAABlQZpiSahBbJlMCF///oywAABXE1WXiAStveoKU6m3kcsIL2bPUXPUtCWGm9KfV/4cOy7sCFXJ05eB72xiBlAAmts/Pbibfub+BK6s78rRAhNba5j8MmSnQanG84thFybMsf2m/6AAAAAyQZ6ARRUsI/8AABuoynWI0bVmont9r8UTcb3BmQAoAf/+eiXoyBauz38JNhPlu9gli/EAAAAiAZ6/dEf/AAAsQpNNhCneflDsU2UXRqMFIdsDtnwYPYDYtwAAACIBnqFqR/8AACxFU9M8farRT+InI0G2f9jnalfiHh+6YN5hAAAAVkGapEmoQWyZTBRMM//+nhAAAFZBUvZaYnqnRU5Hygt1fzBKckmMmM5qAD+nDP5r0Xea18TVUpDtMeIEF/PEJNNm1FfSbjUq4SfNy8IwW8YjOxbqAompAAAAIAGew2pH/wAALFmmp3hThZlwKNqO/R1wlhZx85IClMOAAAAANkGayEnhClJlMCF//oywAABW6sqMxiG9a87JxrdQYuZYEUcT2M4AnDpp0dZ5gjA38TL3vGwhzAAAACVBnuZFNEwj/wAAG6CIi98q8Iy6TR4A9+TqzQrcT4OjrK+lx8spAAAAIQGfBXRH/wAALF6GDBtnjaQBFNy/7Yy5UPAYTU6DRiRhwAAAABsBnwdqR/8AACxJ8wcTOOGoJyGvoCTLF4lL2UEAAABEQZsLSahBaJlMCGf//p4QAABY+Zc62jVCd8CbH/4/Uv+75Atpt4I3fu8tx6AAKEj4rPBQV9ewuM8iN/IK5QbZBp7Lx6YAAAAiQZ8pRREsI/8AABugiIvfKvCMuk0eAPfUpikpL2RQ9ti9lQAAACoBn0pqR/8AACxJ8wXAroxTyNpbQAtx1wl1Ce23poCTJo90TGkouAHTpD0AAAA+QZtPSahBbJlMCGf//p4QAABYawpTUyOtHX9/S2qnNfTiUWxU+F7Iu0n50GAGkgoVquTiCQbUBXOWMKEWj80AAABJQZ9tRRUsI/8AABxNtLcNwTQA0diSTSMhDVGjiJY1OmZfNNuCDE0AGH8BUQlA2OeNiM+tz017aooP5fMJE72dM4gRuPnvh89egQAAADkBn4x0R/8AAC17VyYoVspUSl0h7aAO9ZaOJYXFHj2r3+KL/oEafVmK4lHDp3CmZ9Aq3U6IG49UWoAAAAAmAZ+Oakf/AAAteYSz3Ef8/MFEns5VatQTU1zyVlf327QbDblsv4AAAAA4QZuTSahBbJlMCF///oywAABZQrfmPlJgvo2/jeL5Vg/snu2fjq3SwlREBRxz6u2WBDnurr745eEAAAA6QZ+xRRUsI/8AABxNtLcNuRwv5h3ISS2xADd0pI6Lw1/AuUAugFViyhaznRecFJhieP5DhXmcnwN0gAAAACUBn9B0R/8AAC1+X2iEzGhhWuhrnH3G/0V1jp3tGT8gAE+gN3q2AAAAIwGf0mpH/wAALWmAcNyg12MRwpta4KSxZekfgOvmCu1j/9QhAAAAY0Gb10moQWyZTAhf//6MsAAAWVg7Mn3QsV4AB2jkoW+zPsLFXae60MO+xKvpNibo9E1e/gSYO5lm9uxqpJ9pvHq6opu/AF/GC+ogRlggk96vnK1b6iwbjTssODZqMIrV6qQ7+QAAACtBn/VFFSwj/wAAHE0Fj4Mbg3Yaw90XYT6xiFdlG9IIVRQH932vfowB4V0hAAAAJAGeFHRH/wAALWKTTYQcPOQkjHroaA4xzYIgeSmADJbiuikbpAAAACUBnhZqR/8AAC1lU9M8farRT+ImyBUm+Yu7c4YyoUJLhRVpYq2AAAAAQUGaGUmoQWyZTBRMM//+nhAAAFiBUu27SwIQrZkAJOr+pdsqhj7uwmVxlF/u+P+ykI33YP0APLIxe4RuwqTn0+YNAAAAIwGeOGpH/wAALXmEs9thH+pbMePYZwbHlABaZ2uDMfJpnl/AAAAAX0GaPUnhClJlMCGf/p4QAABYlL/nVP/Tl3i8B/Vn8+mAQ/PACdL55ca947KbTLfl8YO/QELE2hyUqqYKeMEPM0KygHaS40nB/e0qf9hcClPnqDKRHh5h6LldDty3wszAAAAAMUGeW0U0TCP/AAAcTbS3DboL3K5k1WyXgACM2XWvUCYomnlN8qrJUTVFkHJWS51rq2EAAAAkAZ56dEf/AAAtfl9oqajo57rNGn5GCFEKqnqjHdEeXdYSiwTLAAAAIwGefGpH/wAALWmAcNwx5zf4yDImZlA5J1rMKAFxfgrTIs39AAAAU0GaYUmoQWiZTAhn//6eEAAAWGsLWIAng1M9w7lZwHBboWiTTY13S8yF9A/rw2f3l7DKsT2BjLozhkSqO3+mJfFtZmvd6IdsjtyCbpjUz7hEc5MHAAAALkGen0URLCP/AAAcTbWL3xgFa0EivCEFMr2kNDV9AWHa0Bn9vNpNQa9anRWxAIIAAAAhAZ6+dEf/AAAte1gKIlc5L6Fj12bTfzsY/VZcRQf+N03BAAAAKQGeoGpH/wAALXmjzt6h2+m+1LQ3bU3pMVyrk/gP06hya3ZuOSHLYssEAAAAY0GapUmoQWyZTAhn//6eEAAAWzpKI3JWEVwO0BsLxt3rO6hKSm3Ph4WuWmHmb4XKX+z8PIBoT658Fw7a+VPna7joCwk92AS5uwTYtC5pB8Uwtymdm45J9r77xcQlBSu1346FxQAAAEJBnsNFFSwj/wAAHQhyumNIFUUALbWDMtbxpb0uZrWCKdCV+gzUFoK2umrXVAilEHCChVtaHxQ79UWcFKIIOpMTOKsAAAAjAZ7idEf/AAAtfoNmFZ5k2BJ3RKvFFx08RmTII1zejBby9UwAAAAlAZ7kakf/AAAtafMCA6X21Y9DtVBT6bLGOl9un5IDrWXh5+lUwAAAAE5BmulJqEFsmUwIZ//+nhAAAFq7roRHJANWlS3haqIHWJN/L9ESOJraCng7jqZNvoJPZVs4MgrUmWlsgKYQ5wT2lu11WZ7EV1n3NPLQ00UAAAAqQZ8HRRUsI/8AABz9tLcNuRzlSpChrouTEIYfxQrqU+yEsPWSqfNIYqmAAAAAJwGfJnRH/wAALoBY3lNtkf/w6b4i5EzK6EL/9KZld6bRc5EbSZZVMQAAAB8BnyhqR/8AAC6ZhLPcR/0SKdpSMQngffuY+GR7EVTAAAAAaEGbLUmoQWyZTAhn//6eEAAAWqwFP70wf/QArb881bFA2Y5sHa37J/A5CTl5Vumx9MJH0oN0mSOaCkYfRFVnd8j/yxZZYbXgVIGD2tY4E9rzEoRHrFEY/Tm9vsJJo9+Y9lFbptGzGRxhAAAAIUGfS0UVLCP/AAAc/bS3DbkcL+XQ17GS7lJ3SRVIgFOKsQAAACIBn2p0R/8AAC6eX2ipsAoEgwf75nrwu3fVvCgT39v18BuBAAAAHQGfbGpH/wAALpmEs9xJaZq4VlMfKjt+L62NBIqxAAAAOUGbcUmoQWyZTAhn//6eEAAAWqwFeU2/WgACZ+bVy2b9NW3SMsobUkuCO3A4UimoBT/DgiE6A1zgWAAAACNBn49FFSwj/wAAHP20tw25HC/l0Nhm1oF8DQL5G2rAKrYbdAAAABwBn650R/8AAC6eX2ippVPU+8IJjrAYLdbrsCnBAAAAOAGfsGpH/wAALpmEs9xJwwaH/qikGconykwMfe24iPN5Qk9okigS1AB8niFF9urUqvSJWmLUHVirAAAAg0GbtUmoQWyZTAhn//6eEAAAWqwFeU3kUBc1hEwAuXjhIIkV6OStQAVyuI9NkILfDuSuXmRR9CI5gin+QTcW/I7WIviwmLYbNfYJl60bG3JjUzyPlkcxmCAY4d7RJ/epqDeSmHW9vRZ7Wwz7pDn8MgmEHXMP23fKYmgqTYRB9k5mM/XbAAAAMEGf00UVLCP/AAAc/bS3DbkcL+XQ17HkHaVVT+R11uOArEibtEANxlrE0ghWXYQRVwAAACABn/J0R/8AAC6Ck1JCTtyQ/ENO6rTdnzixjb6twPbG3QAAACMBn/RqR/8AAC6ZhLPcSWmauFZTJcsQvw4wvJIQSiOpLPF5gQAAAEpBm/lJqEFsmUwIZ//+nhAAAFqsBd+IJ0GGNdADgY3xVNxA5tmCFQj9aKzf9qcIye6D24GlOUi2cxrPd4++WZNkzMy+ccTo2qENBAAAACtBnhdFFSwj/wAAHP20tw25HC/lTtn4YiqGepW1szWMeOZkSlQ9t5KkMjuXAAAAIAGeNnRH/wAALp5faKmlU9T7wi/h4g9l273uBHKNRAqZAAAAHgGeOGpH/wAALpmEs9xJaZsoFYGebWcgyo+aNHHVgAAAAFBBmj1JqEFsmUwIZ//+nhAAAFqs29Iv3PeqXBzPl2gBJrg1tZhRSbKssvG98RCeUlxjlxkurH4tq27ZavkPb4Rm8riYFvrQIdSUjjFCEmk0wAAAAC9BnltFFSwj/wAAHQiMlaXWORUaoqIWhxG6+/BTDanEDIkBaIJwpbYDoYpivLql4QAAABsBnnp0R/8AABFhnwc8bCeg72QvfDfhO2K+epgAAAAXAZ58akf/AAAuifMHEzjkFrUrS+PxAQ8AAABrQZphSahBbJlMCGf//p4QAABarAXpE2HjomJJQAzTtyvjqoAoBaxhnNFs4+GewL4L4u4zNLM18AA5o04dsCfYZprjqrH3RkpPQzGQB2AoumvUf6wphoPggD7zHOAB9ByN2qy04dTqFzG8o4EAAAAxQZ6fRRUsI/8AAB0AE3mfACWVVf6+0hIrc+LtD0yL+E+cJChIS5YdzhqIXrtuGrAF4AAAAB0Bnr50R/8AAC6bWAoifCf6UctIIlhBjSey83WNtQAAADMBnqBqR/8AAAa/0jCJT8wmGabV6eJJuFcAvwigBYtMICx68anJ9IcrIEZ5o7FV2lBg6pIAAABHQZqlSahBbJlMCGf//p4QAABarNvSL9z3qjvhOtItrlhNPVWLAE+E7MCPxp+u7+MO8NhoEbXchsjEIbHRnLySHgUvnMDqHB0AAAA5QZ7DRRUsI/8AAB0AE3mfAC2ATvzDBRrvfwyb1zP+R+0fxoeshOSxfc9o8JK0mnNcuQCU4qr8J0aBAAAAHQGe4nRH/wAALp6GDnjYT8Au8tmpcQ4747PH4XSAAAAAHQGe5GpH/wAABppO1d7biGnKLnC4oPsWJFtmuJdIAAAAT0Ga6UmoQWyZTAhn//6eEAAAXOwFP8JIAilODR6GXzRHL7ev7w/TBqUaU+Gblvo8NGVyNeT3arRoOVcPqVzb/eXTCnXUZYVuxYk2tRSWhcUAAAApQZ8HRRUsI/8AAB2ttLcNBVXil1kAAbqPXoaRHk3AiEji7O6iO/ayG1AAAAAaAZ8mdEf/AAAugucJ0BIxJQoQn/HDfXfoeEEAAAAWAZ8oakf/AAAvvtow3KDXFx6ZZxVBTQAAAEVBmy1JqEFsmUwIX//+jLAAAF2rxm4DTHC+oCxPvRlR8RE59IOu/uRQvcKVLApeiz7o6/lMZ5SnX0DErys5WubHU2Lja+8AAAAjQZ9LRRUsI/8AAB24fIo+Y51/ESd7fSvIwgG7IU38rimDS1EAAAAbAZ9qdEf/AAAGvwl4ZqHjXbeIyVSAsmbajnRpAAAAGwGfbGpH/wAAL77aMNyg1xcemWcfrqqoPneXSQAAAD5Bm3BJqEFsmUwIZ//+nhAAAFzs2oPAPf2CyyAE1tRuOmSPd6s+l7Y12Ry6/3Ch8Quoraco1qUwjI+TR79UgAAAAB9Bn45FFSwj/wAAHbh8izormWFzwLsGOrHiDouPQIS1AAAAKgGfr2pH/wAAL77aMNy9eo2KKpWKxAAJajaEuIzuyO85QFHM2whf7NHFCQAAAE9Bm7RJqEFsmUwIZ//+nhAAAF0uCs+GtW4RQAEQdFtZhkJL57V+UKB9tZLe9dtdMxM4x8Fm5QDA2uHHvGtZoTtcSEw2KvggcKk+BoWAOc9cAAAAPkGf0kUVLCP/AAAdr+k3a21QNgAgnkg1Z5L82NsCK+aWrG/YVlE6sWBl1Ll4oNa1o0XJBZRCuxYClq1p4ObTAAAAFwGf8XRH/wAAL7gDTYQpy8ikCCXIlheRAAAAIAGf82pH/wAABsJL2hv8dWip0Q6vETEtUbA+yQdQGLpBAAAAUUGb+EmoQWyZTAhn//6eEAAADSyFfFR2uj146Jf0bpZ6oAG5TL9Bg+uMSoSZhL6muhmPZvJg1ivyjfqjv3x3DFq+d7bIQD2A1tgvaNRxH78BvwAAAB1BnhZFFSwj/wAABDX9diJeTIyTP+UK9BH+tPwT4AAAAB8BnjV0R/8AAAbC7pouf8n7heefiYUQoFpZMJb/W0ukAAAAHAGeN2pH/wAAAwDzH5ixSIlM8ZRD1Ho4Rbz8nSUAAABZQZo8SahBbJlMCGf//p4QAABc7AU/vTZKKr7ZRMUAPjdZo57n7i8p3WJ6vSMoCzRJp6+85oEowtc83q3AQLl6UIfs1kdAJlVsAi+pdNne/heSpIHWbwkYnkAAAAAvQZ5aRRUsI/8AAB2ttLcM8IOwACKWwDhF0KJtzAYvXE/eJK6xdBpHJt/z1VyJ5dIAAAAZAZ55dEf/AAAvuANNhCnLyKYzZ/wI0rQLaQAAABwBnntqR/8AAC/SVLPcSWmtV+/oBC6YoUJNnUtQAAAAO0GaYEmoQWyZTAhn//6eEAAADTCdF2MFiRErA3IWJulCQmzH/vOeIBK8KRU/S90IjgW1Q67sgmSxdRSTAAAAH0GenkUVLCP/AAAEN5Oa8L/tx8J97zUYf1yQcGFMrTEAAAAQAZ69dEf/AAADAF0Fv2CrgAAAACEBnr9qR/8AAAMCjz6U1G17jqGjWYyh1FS+87/RIid9+jUAAABSQZqkSahBbJlMCGf//p4QAABc7NqD1zARYSviB/UOB39xH4ZNvhEiez7gvMTAZtcoTC0d2d4paMAe5452/UIOQyD/+PfD6XGsIp8IbWMqLc7IXAAAAChBnsJFFSwj/wAAHa/pN2txhAcXv7NQw0Uy/v98jhr9wAqN1r9nFlCfAAAAGgGe4XRH/wAAL7gDTYQpy8ijme8sglGksCHhAAAAGgGe42pH/wAABr/bRhuUGuLkclM2KfDFkhdIAAAATkGa6EmoQWyZTAhn//6eEAAAIsqdmY3LPeDjk/csUV7PaR60tvi9ZNdAuJiGEjZbHr/UARW7RmOz6k4pn2itMLOJnFCAims4bHH/NOwGzgAAABtBnwZFFSwj/wAABDeQ89f2V8ZKfNQ3+HxbQ7sAAAAOAZ8ldEf/AAADAAADAakAAAAZAZ8nakf/AAAGwkqXQAZ4ma+yC792nrDugQAAAF9BmyxJqEFsmUwIZ//+nhAAAF0ZUA1ALC5rLgPFRxZXkEmVCxo03SzCg2C8L69qwsTdWllI0rXoBN1UW4NrP2WDlsJIxDfySb3DjD8pqGf6Th4tVtSN/OQ3bFYhn4e+twAAACBBn0pFFSwj/wAAHa/pOshyqqL5bn/IdDW4lHnuR8pagQAAACcBn2l0R/8AAC+4A0HAp1v0UvVOus3vq0x7+IifXgmTHFgNG621ifEAAAAOAZ9rakf/AAADAAADAakAAAAcQZtwSahBbJlMCGf//p4QAAAipDQQBW+nT0ABswAAABBBn45FFSwj/wAAAwAAAwEHAAAADgGfrXRH/wAAAwAAAwGpAAAADgGfr2pH/wAAAwAAAwGpAAAAF0GbtEmoQWyZTAhn//6eEAAAAwAAAwM+AAAAQkGf0kUVLCP/AAAENsN8e7cxt3fnyPkS2UvoAZsN+1fEvdLl6nEXJeaPO5H1s7R8p0UFC5+yuijhUG/o2C66m8I2mAAAABsBn/F0R/8AAAbC7pm12eoTF6t2jYDfDHMUE+EAAAAtAZ/zakf/AAAGwkqXQAZ4ma+yDG1OJj2rIoAPs7218pBVfr6Uvkma9peOnqSBAAAAF0Gb+EmoQWyZTAhn//6eEAAAAwAAAwM/AAAAEEGeFkUVLCP/AAADAAADAQcAAAAOAZ41dEf/AAADAAADAakAAAAOAZ43akf/AAADAAADAakAAAAXQZo8SahBbJlMCGf//p4QAAADAAADAz4AAAAQQZ5aRRUsI/8AAAMAAAMBBwAAAA4Bnnl0R/8AAAMAAAMBqQAAACkBnntqR/8AAAavRpeihI51/1EvzPjg0Rdm1dEDi/yypu/F4a3mvelSQAAAAENBmmBJqEFsmUwIZ//+nhAAAA0onpyhexoAWDSPup3dcXTlhGWFVf+k5/C+Ap1CpXx5HwJlCGncWVy5FrbXUwUapLghAAAAKEGenkUVLCP/AAAdrZi1Bbkc2xvntJDhLPlZ4yu9T4XlEZYSunnhAn0AAAAbAZ69dEf/AAAv13S9skqpWcYGeM5jAmwUZKdJAAAAGQGev2pH/wAAL77aMNyj8DVT+WegVez4xoEAAAAZQZqkSahBbJlMCGf//p4QAAAM76isWYAO6AAAABNBnsJFFSwj/wAABBYEAHCFANSBAAAAEAGe4XRH/wAABpcJea6AakEAAAAlAZ7jakf/AAADAozngTCyqRCccJDJIw/OrQujLhGhA7Bzx/mVJAAAAFpBmuhJqEFsmUwIX//+jLAAACM/2CAALqbKwcLyRLYCHPqOLdiqpHsgCde81nd6zv/r4HiITAWAbWTu7izap4tCn8z+LfTN5eRNt3n+3Ml9tqqohEzKYCZdC/AAAAAfQZ8GRRUsI/8AAAsWKFt8rB65IOQWskRtFRRP3YL+jQAAABEBnyV0R/8AABHhoSLgeADKgAAAABwBnydqR/8AABHfghOMKI/vaDfl40J0UEC9EnRpAAAAKEGbLEmoQWyZTAhf//6MsAAAAwHUUW38xPn8ECvQAInoJan0kpo3hdwAAAAqQZ9KRRUsI/8AAAsYUCgFh5dAbqR/O9SRMjMS5Ps7sTH5rwfalkujT0aBAAAAHwGfaXRH/wAAEVYhMQpAenIjbXkDqx6gt+IO8DlcNpkAAAAeAZ9rakf/AAARX4/DSgi3JwtU8H5u7Ip3d2yYKKtNAAAARkGbcEmoQWyZTAhf//6MsAAABOD8xDrLSyLyxsuw+9a2AUD1E9K5TWFoSjnKsdIThAXKc3cWq4VeBLBwjKpTI9l5saCI3kEAAAA8QZ+ORRUsI/8AAB2ttLcNuxi/QANWJrYjyabnGY+r79zclqtNWy57zHd5UDukLEuFPUaizYJsY52idWmAAAAAHAGfrXRH/wAAL9d0vR+CLVl6QAEc7lsmvyWTCVgAAAAhAZ+vakf/AAAv0lSz3ElprVyb8aMppS8TWNE8GST/NifBAAAALUGbtEmoQWyZTAhX//44QAABau2zh+5DOLzpNjILxh4YqQApXXPe7M8HpeUoIAAAAChBn9JFFSwj/wAAHa/pN2twKHc6KDW/eZHPRj/Bn0IXk4fyGsM1VPo0AAAAHwGf8XRH/wAAL7gDTYQwHoyC4nWVyUhcwfhZ8ZwhtMEAAAAZAZ/zakf/AAAGv+saYmWt2bIVd1pNdS9SQQAAACtBm/hJqEFsmUwIR//94QAAAwBJL5u/rWwxus/uZYzD2wNqw1AH1BMgNBydAAAAHUGeFkUVLCP/AAADAZKY5tHbyziSIo1qWLIG8QihAAAADgGeNXRH/wAAAwAAAwGpAAAAGwGeN2pH/wAAAwJ9mmrvbcQ1Qoi30Xn8bBPVJQAAABZBmjlJqEFsmUwI//yEAAADAAADAMCAAAABK2WIhAAr//72c3wKa0czlS4Fdvdmo+XQkuX7EGD60AAAAwAAAwAATcVEzosKY8TZAAADAFxAEeCwCPCVC2EhH2RHE4GavQABwuRskvcnZ4ztNeo8zEm5MdLwC2BcExEADc3dLzJ0p45xFZe4hiXl7Uc4sOvaBc05WGkHhIgOYQF+eQl13XoU6qdVpkbzxVlHb14+9S28FyeWxTXIg6aJR/edX1vfCRkDAAADAANcPSJx4HRzJQNLdCTh9ra5OBp3SXmGXgKytG/SJ7/dREp9w6qezulJ0ay5HQ6hWMRYFviq8Wa+Jo+nCBNn+sie5zQUN+cTmnH6gURgAAqVpD9HIaExBzU+L8jwpqjJnzkhf6NNVcyuxC6TpawACq13jAAAWAAAAwAAAwAAAwP8AAAaV21vb3YAAABsbXZoZAAAAAAAAAAAAAAAAAAAA+gAACckAAEAAAEAAAAAAAAAAAAAAAABAAAAAAAAAAAAAAAAAAAAAQAAAAAAAAAAAAAAAAAAQAAAAAAAAAAAAAAAAAAAAAAAAAAAAAAAAAAAAAAAAAIAABmBdHJhawAAAFx0a2hkAAAAAwAAAAAAAAAAAAAAAQAAAAAAACckAAAAAAAAAAAAAAAAAAAAAAABAAAAAAAAAAAAAAAAAAAAAQAAAAAAAAAAAAAAAAAAQAAAAAJYAAABkAAAAAAAJGVkdHMAAAAcZWxzdAAAAAAAAAABAAAnJAAAAgAAAQAAAAAY+W1kaWEAAAAgbWRoZAAAAAAAAAAAAAAAAAAAMgAAAfUAVcQAAAAAAC1oZGxyAAAAAAAAAAB2aWRlAAAAAAAAAAAAAAAAVmlkZW9IYW5kbGVyAAAAGKRtaW5mAAAAFHZtaGQAAAABAAAAAAAAAAAAAAAkZGluZgAAABxkcmVmAAAAAAAAAAEAAAAMdXJsIAAAAAEAABhkc3RibAAAALBzdHNkAAAAAAAAAAEAAACgYXZjMQAAAAAAAAABAAAAAAAAAAAAAAAAAAAAAAJYAZAASAAAAEgAAAAAAAAAAQAAAAAAAAAAAAAAAAAAAAAAAAAAAAAAAAAAAAAAAAAAABj//wAAADZhdmNDAWQAH//hABlnZAAfrNlAmDPl4QAAAwABAAADAGQPGDGWAQAGaOvjyyLA/fj4AAAAABRidHJ0AAAAAAAAVGcAAFRnAAAAGHN0dHMAAAAAAAAAAQAAAfUAAAEAAAAAHHN0c3MAAAAAAAAAAwAAAAEAAAD7AAAB9QAAD2BjdHRzAAAAAAAAAeoAAAABAAACAAAAAAEAAAUAAAAAAQAAAgAAAAABAAAAAAAAAAEAAAEAAAAAAQAABQAAAAABAAACAAAAAAEAAAAAAAAAAQAAAQAAAAABAAAFAAAAAAEAAAIAAAAAAQAAAAAAAAABAAABAAAAAAEAAAUAAAAAAQAAAgAAAAABAAAAAAAAAAEAAAEAAAAAAQAABQAAAAABAAACAAAAAAEAAAAAAAAAAQAAAQAAAAABAAAFAAAAAAEAAAIAAAAAAQAAAAAAAAABAAABAAAAAAEAAAUAAAAAAQAAAgAAAAABAAAAAAAAAAEAAAEAAAAAAQAABQAAAAABAAACAAAAAAEAAAAAAAAAAQAAAQAAAAABAAAFAAAAAAEAAAIAAAAAAQAAAAAAAAABAAABAAAAAAEAAAQAAAAAAgAAAQAAAAABAAAFAAAAAAEAAAIAAAAAAQAAAAAAAAABAAABAAAAAAEAAAUAAAAAAQAAAgAAAAABAAAAAAAAAAEAAAEAAAAAAQAABAAAAAACAAABAAAAAAEAAAUAAAAAAQAAAgAAAAABAAAAAAAAAAEAAAEAAAAAAQAAAwAAAAABAAABAAAAAAEAAAUAAAAAAQAAAgAAAAABAAAAAAAAAAEAAAEAAAAAAQAABQAAAAABAAACAAAAAAEAAAAAAAAAAQAAAQAAAAABAAAFAAAAAAEAAAIAAAAAAQAAAAAAAAABAAABAAAAAAEAAAUAAAAAAQAAAgAAAAABAAAAAAAAAAEAAAEAAAAAAQAABQAAAAABAAACAAAAAAEAAAAAAAAAAQAAAQAAAAABAAAFAAAAAAEAAAIAAAAAAQAAAAAAAAABAAABAAAAAAEAAAUAAAAAAQAAAgAAAAABAAAAAAAAAAEAAAEAAAAAAQAABQAAAAABAAACAAAAAAEAAAAAAAAAAQAAAQAAAAABAAAFAAAAAAEAAAIAAAAAAQAAAAAAAAABAAABAAAAAAEAAAUAAAAAAQAAAgAAAAABAAAAAAAAAAEAAAEAAAAAAQAABQAAAAABAAACAAAAAAEAAAAAAAAAAQAAAQAAAAABAAAFAAAAAAEAAAIAAAAAAQAAAAAAAAABAAABAAAAAAEAAAUAAAAAAQAAAgAAAAABAAAAAAAAAAEAAAEAAAAAAQAABQAAAAABAAACAAAAAAEAAAAAAAAAAQAAAQAAAAABAAAFAAAAAAEAAAIAAAAAAQAAAAAAAAABAAABAAAAAAEAAAUAAAAAAQAAAgAAAAABAAAAAAAAAAEAAAEAAAAAAQAABQAAAAABAAACAAAAAAEAAAAAAAAAAQAAAQAAAAABAAAFAAAAAAEAAAIAAAAAAQAAAAAAAAABAAABAAAAAAEAAAUAAAAAAQAAAgAAAAABAAAAAAAAAAEAAAEAAAAAAQAABQAAAAABAAACAAAAAAEAAAAAAAAAAQAAAQAAAAABAAAFAAAAAAEAAAIAAAAAAQAAAAAAAAABAAABAAAAAAEAAAUAAAAAAQAAAgAAAAABAAAAAAAAAAEAAAEAAAAAAQAABQAAAAABAAACAAAAAAEAAAAAAAAAAQAAAQAAAAABAAAFAAAAAAEAAAIAAAAAAQAAAAAAAAABAAABAAAAAAEAAAUAAAAAAQAAAgAAAAABAAAAAAAAAAEAAAEAAAAAAQAABAAAAAACAAABAAAAAAEAAAQAAAAAAgAAAQAAAAABAAAFAAAAAAEAAAIAAAAAAQAAAAAAAAABAAABAAAAAAEAAAUAAAAAAQAAAgAAAAABAAAAAAAAAAEAAAEAAAAAAQAABQAAAAABAAACAAAAAAEAAAAAAAAAAQAAAQAAAAABAAAFAAAAAAEAAAIAAAAAAQAAAAAAAAABAAABAAAAAAEAAAUAAAAAAQAAAgAAAAABAAAAAAAAAAEAAAEAAAAAAQAABQAAAAABAAACAAAAAAEAAAAAAAAAAQAAAQAAAAABAAAFAAAAAAEAAAIAAAAAAQAAAAAAAAABAAABAAAAAAEAAAUAAAAAAQAAAgAAAAABAAAAAAAAAAEAAAEAAAAAAQAABQAAAAABAAACAAAAAAEAAAAAAAAAAQAAAQAAAAABAAAFAAAAAAEAAAIAAAAAAQAAAAAAAAABAAABAAAAAAEAAAUAAAAAAQAAAgAAAAABAAAAAAAAAAEAAAEAAAAAAQAABQAAAAABAAACAAAAAAEAAAAAAAAAAQAAAQAAAAABAAAFAAAAAAEAAAIAAAAAAQAAAAAAAAABAAABAAAAAAEAAAUAAAAAAQAAAgAAAAABAAAAAAAAAAEAAAEAAAAAAQAABQAAAAABAAACAAAAAAEAAAAAAAAAAQAAAQAAAAABAAAFAAAAAAEAAAIAAAAAAQAAAAAAAAABAAABAAAAAAEAAAUAAAAAAQAAAgAAAAABAAAAAAAAAAEAAAEAAAAAAQAABQAAAAABAAACAAAAAAEAAAAAAAAAAQAAAQAAAAABAAACAAAAAAEAAAUAAAAAAQAAAgAAAAABAAAAAAAAAAEAAAEAAAAAAQAAAwAAAAABAAABAAAAAAEAAAUAAAAAAQAAAgAAAAABAAAAAAAAAAEAAAEAAAAAAQAABQAAAAABAAACAAAAAAEAAAAAAAAAAQAAAQAAAAABAAACAAAAAAEAAAUAAAAAAQAAAgAAAAABAAAAAAAAAAEAAAEAAAAAAQAABQAAAAABAAACAAAAAAEAAAAAAAAAAQAAAQAAAAABAAAFAAAAAAEAAAIAAAAAAQAAAAAAAAABAAABAAAAAAEAAAIAAAAAAQAAAwAAAAABAAABAAAAAAEAAAUAAAAAAQAAAgAAAAABAAAAAAAAAAEAAAEAAAAAAQAABQAAAAABAAACAAAAAAEAAAAAAAAAAQAAAQAAAAABAAAFAAAAAAEAAAIAAAAAAQAAAAAAAAABAAABAAAAAAEAAAUAAAAAAQAAAgAAAAABAAAAAAAAAAEAAAEAAAAAAQAABQAAAAABAAACAAAAAAEAAAAAAAAAAQAAAQAAAAABAAAEAAAAAAIAAAEAAAAAAQAABQAAAAABAAACAAAAAAEAAAAAAAAAAQAAAQAAAAABAAACAAAAAAEAAAUAAAAAAQAAAgAAAAABAAAAAAAAAAEAAAEAAAAAAQAABQAAAAABAAACAAAAAAEAAAAAAAAAAQAAAQAAAAABAAAFAAAAAAEAAAIAAAAAAQAAAAAAAAABAAABAAAAAAEAAAUAAAAAAQAAAgAAAAABAAAAAAAAAAEAAAEAAAAAAQAABQAAAAABAAACAAAAAAEAAAAAAAAAAQAAAQAAAAABAAAFAAAAAAEAAAIAAAAAAQAAAAAAAAABAAABAAAAAAEAAAQAAAAAAgAAAQAAAAABAAADAAAAAAEAAAEAAAAAAQAABAAAAAACAAABAAAAAAEAAAUAAAAAAQAAAgAAAAABAAAAAAAAAAEAAAEAAAAAAQAABAAAAAACAAABAAAAAAEAAAUAAAAAAQAAAgAAAAABAAAAAAAAAAEAAAEAAAAAAQAABQAAAAABAAACAAAAAAEAAAAAAAAAAQAAAQAAAAABAAAFAAAAAAEAAAIAAAAAAQAAAAAAAAABAAABAAAAAAEAAAUAAAAAAQAAAgAAAAABAAAAAAAAAAEAAAEAAAAAAQAAAwAAAAABAAABAAAAAAEAAAUAAAAAAQAAAgAAAAABAAAAAAAAAAEAAAEAAAAAAQAABAAAAAACAAABAAAAAAEAAAUAAAAAAQAAAgAAAAABAAAAAAAAAAEAAAEAAAAAAQAABQAAAAABAAACAAAAAAEAAAAAAAAAAQAAAQAAAAABAAAFAAAAAAEAAAIAAAAAAQAAAAAAAAABAAABAAAAAAEAAAMAAAAAAQAAAQAAAAABAAAFAAAAAAEAAAIAAAAAAQAAAAAAAAABAAABAAAAAAEAAAUAAAAAAQAAAgAAAAABAAAAAAAAAAEAAAEAAAAAAQAABQAAAAABAAACAAAAAAEAAAAAAAAAAQAAAQAAAAABAAAFAAAAAAEAAAIAAAAAAQAAAAAAAAABAAABAAAAAAEAAAUAAAAAAQAAAgAAAAABAAAAAAAAAAEAAAEAAAAAAQAABQAAAAABAAACAAAAAAEAAAAAAAAAAQAAAQAAAAABAAAFAAAAAAEAAAIAAAAAAQAAAAAAAAABAAABAAAAAAEAAAUAAAAAAQAAAgAAAAABAAAAAAAAAAEAAAEAAAAAAQAABQAAAAABAAACAAAAAAEAAAAAAAAAAQAAAQAAAAABAAAFAAAAAAEAAAIAAAAAAQAAAAAAAAABAAABAAAAAAEAAAUAAAAAAQAAAgAAAAABAAAAAAAAAAEAAAEAAAAAAQAABQAAAAABAAACAAAAAAEAAAAAAAAAAQAAAQAAAAABAAAFAAAAAAEAAAIAAAAAAQAAAAAAAAABAAABAAAAAAEAAAQAAAAAAgAAAQAAAAABAAAFAAAAAAEAAAIAAAAAAQAAAAAAAAABAAABAAAAAAEAAAUAAAAAAQAAAgAAAAABAAAAAAAAAAEAAAEAAAAAAQAABQAAAAABAAACAAAAAAEAAAAAAAAAAQAAAQAAAAABAAAFAAAAAAEAAAIAAAAAAQAAAAAAAAABAAABAAAAAAEAAAUAAAAAAQAAAgAAAAABAAAAAAAAAAEAAAEAAAAAAQAABQAAAAABAAACAAAAAAEAAAAAAAAAAQAAAQAAAAABAAAFAAAAAAEAAAIAAAAAAQAAAAAAAAABAAABAAAAAAEAAAUAAAAAAQAAAgAAAAABAAAAAAAAAAEAAAEAAAAAAQAABQAAAAABAAACAAAAAAEAAAAAAAAAAQAAAQAAAAABAAAFAAAAAAEAAAIAAAAAAQAAAAAAAAABAAABAAAAAAEAAAUAAAAAAQAAAgAAAAABAAAAAAAAAAEAAAEAAAAAAQAABQAAAAABAAACAAAAAAEAAAAAAAAAAQAAAQAAAAABAAAFAAAAAAEAAAIAAAAAAQAAAAAAAAABAAABAAAAAAEAAAUAAAAAAQAAAgAAAAABAAAAAAAAAAEAAAEAAAAAAQAABQAAAAABAAACAAAAAAEAAAAAAAAAAQAAAQAAAAABAAAFAAAAAAEAAAIAAAAAAQAAAAAAAAABAAABAAAAAAEAAAUAAAAAAQAAAgAAAAABAAAAAAAAAAEAAAEAAAAAAQAABQAAAAABAAACAAAAAAEAAAAAAAAAAQAAAQAAAAACAAACAAAAABxzdHNjAAAAAAAAAAEAAAABAAAB9QAAAAEAAAfoc3RzegAAAAAAAAAAAAAB9QAABN8AAACYAAAALwAAABwAAAAhAAAAKQAAABcAAAAWAAAAFAAAAGQAAAAjAAAAIQAAACIAAAAmAAAAFAAAABIAAAASAAAAdAAAACoAAAAaAAAAIQAAACgAAAAWAAAAEgAAABQAAABgAAAAIQAAABQAAAAcAAAAGwAAABQAAAA4AAAAEgAAAFgAAAApAAAAHQAAABUAAABiAAAAJgAAADIAAABTAAAALwAAAB0AAAAgAAAAVQAAACIAAAAkAAAAFAAAAEYAAAAjAAAANgAAAEcAAABJAAAAGgAAACAAAABfAAAALAAAAEMAAAAzAAAAHwAAACYAAABOAAAAJgAAAB8AAAAaAAAAQQAAADIAAAAbAAAAHgAAAEcAAAApAAAAJAAAACEAAABBAAAAKAAAACAAAAAaAAAAUAAAACoAAAAeAAAAHgAAADgAAAAvAAAAJgAAACcAAABsAAAANwAAACAAAAAeAAAARQAAACgAAAAYAAAAHQAAADwAAAAyAAAAJgAAACEAAABLAAAAKgAAACAAAAAZAAAAWAAAAC0AAAAYAAAAHAAAAC8AAAApAAAAKwAAACUAAAB1AAAAKQAAAB4AAAAfAAAAdgAAADcAAAApAAAAKQAAAEgAAAAzAAAAJgAAACUAAABPAAAAIgAAABIAAAAnAAAATgAAACgAAAAdAAAAHgAAAEsAAAArAAAAMgAAAB0AAABJAAAAIgAAACAAAAASAAAAUgAAADkAAAAnAAAAKgAAAIAAAAA2AAAAIAAAACkAAABSAAAAIgAAADQAAAASAAAATwAAAC4AAAAtAAAALAAAAD8AAAAeAAAAHgAAABIAAABSAAAANgAAAB4AAABVAAAAMQAAADYAAABBAAAAKQAAACQAAAAeAAAASQAAAC0AAAAaAAAAKQAAAEQAAAApAAAAIQAAACAAAAA8AAAAJQAAABsAAAAlAAAAPwAAADQAAAAfAAAAIgAAAEYAAAAqAAAALAAAAB8AAABmAAAAJAAAABsAAAAfAAAATwAAADAAAAAYAAAAJQAAAFkAAABBAAAAIgAAACkAAABuAAAANQAAAC0AAAAfAAAATAAAADQAAAAiAAAAKQAAAIMAAABFAAAALAAAACwAAABkAAAAMwAAADkAAAAeAAAATgAAACgAAAAkAAAAKAAAAEYAAAAyAAAAKgAAACcAAACAAAAAMQAAAC4AAAAfAAAATwAAADIAAAAiAAAAIAAAAEAAAAA2AAAAIAAAACoAAABCAAAAnwAAAEEAAAAuAAAAMAAAAEgAAAAzAAAAZAAAADIAAAA9AAAAKwAAAHYAAABBAAAAJwAAACUAAAJNAAAAfAAAAEEAAAA3AAAALgAAAKMAAAA5AAAAKAAAAC8AAABBAAAASgAAABwAAAApAAAAhAAAAHgAAAAuAAAAQAAAAEAAAAA6AAAALQAAAFcAAAA5AAAAIwAAACoAAABPAAAARQAAAC4AAAAqAAAAQAAAADIAAAAcAAAAKAAAAGQAAAA7AAAAKQAAAC4AAAB5AAAANQAAADUAAABaAAAALQAAACgAAAAZAAAALgAAAFYAAAAtAAAAGgAAADoAAABLAAAAPAAAACwAAAAyAAAASwAAACwAAAAdAAAAMAAAAEkAAAAnAAAAJwAAACUAAAAzAAAAJQAAACUAAAAfAAAANgAAADEAAAAgAAAALAAAAFMAAAAvAAAAJAAAAFEAAAAkAAAATwAAAC8AAAAiAAAAcAAAADUAAAAkAAAALAAAAFgAAAA/AAAAJwAAAGQAAAAsAAAALAAAACMAAAA/AAAAKwAAACkAAAAnAAAATgAAACsAAAAmAAAAJQAAAGkAAAA2AAAAJgAAACYAAABaAAAAJAAAADoAAAApAAAAJQAAAB8AAABIAAAAJgAAAC4AAABCAAAATQAAAD0AAAAqAAAAPAAAAD4AAAApAAAAJwAAAGcAAAAvAAAAKAAAACkAAABFAAAAJwAAAGMAAAA1AAAAKAAAACcAAABXAAAAMgAAACUAAAAtAAAAZwAAAEYAAAAnAAAAKQAAAFIAAAAuAAAAKwAAACMAAABsAAAAJQAAACYAAAAhAAAAPQAAACcAAAAgAAAAPAAAAIcAAAA0AAAAJAAAACcAAABOAAAALwAAACQAAAAiAAAAVAAAADMAAAAfAAAAGwAAAG8AAAA1AAAAIQAAADcAAABLAAAAPQAAACEAAAAhAAAAUwAAAC0AAAAeAAAAGgAAAEkAAAAnAAAAHwAAAB8AAABCAAAAIwAAAC4AAABTAAAAQgAAABsAAAAkAAAAVQAAACEAAAAjAAAAIAAAAF0AAAAzAAAAHQAAACAAAAA/AAAAIwAAABQAAAAlAAAAVgAAACwAAAAeAAAAHgAAAFIAAAAfAAAAEgAAAB0AAABjAAAAJAAAACsAAAASAAAAIAAAABQAAAASAAAAEgAAABsAAABGAAAAHwAAADEAAAAbAAAAFAAAABIAAAASAAAAGwAAABQAAAASAAAALQAAAEcAAAAsAAAAHwAAAB0AAAAdAAAAFwAAABQAAAApAAAAXgAAACMAAAAVAAAAIAAAACwAAAAuAAAAIwAAACIAAABKAAAAQAAAACAAAAAlAAAAMQAAACwAAAAjAAAAHQAAAC8AAAAhAAAAEgAAAB8AAAAaAAABLwAAABRzdGNvAAAAAAAAAAEAAAAwAAAAYnVkdGEAAABabWV0YQAAAAAAAAAhaGRscgAAAAAAAAAAbWRpcmFwcGwAAAAAAAAAAAAAAAAtaWxzdAAAACWpdG9vAAAAHWRhdGEAAAABAAAAAExhdmY1OC43Ni4xMDA=\" type=\"video/mp4\">\n",
              "</video>\n"
            ]
          },
          "metadata": {},
          "execution_count": 125
        }
      ],
      "source": [
        "from base64 import b64encode\n",
        "import os\n",
        "\n",
        "# Input video path\n",
        "save_path = \"CartPole-v1/videos/non-greedy-episode-0.mp4\"\n",
        "\n",
        "# Compressed video path\n",
        "compressed_path = \"CartPole-v1/videos/non-greedy_compressed.mp4\"\n",
        "\n",
        "# Play video\n",
        "os.system(f\"ffmpeg -i {save_path} -vcodec libx264 {compressed_path}\")\n",
        "\n",
        "# Show video\n",
        "mp4 = open(compressed_path,'rb').read()\n",
        "data_url = \"data:video/mp4;base64,\" + b64encode(mp4).decode()\n",
        "HTML(\"\"\"\n",
        "<video width=640 heigh=480 controls>\n",
        "      <source src=\"%s\" type=\"video/mp4\">\n",
        "</video>\n",
        "\"\"\" % data_url)"
      ]
    }
  ],
  "metadata": {
    "kernelspec": {
      "display_name": "Python 3",
      "name": "python3"
    },
    "language_info": {
      "codemirror_mode": {
        "name": "ipython",
        "version": 3
      },
      "file_extension": ".py",
      "mimetype": "text/x-python",
      "name": "python",
      "nbconvert_exporter": "python",
      "pygments_lexer": "ipython3",
      "version": "2.7.17"
    },
    "vscode": {
      "interpreter": {
        "hash": "f92b2924b84ff19c1c3dc485f7644d4486f64738191026bf8e6de303969141b5"
      }
    },
    "colab": {
      "provenance": [],
      "gpuType": "T4"
    },
    "accelerator": "GPU"
  },
  "nbformat": 4,
  "nbformat_minor": 0
}