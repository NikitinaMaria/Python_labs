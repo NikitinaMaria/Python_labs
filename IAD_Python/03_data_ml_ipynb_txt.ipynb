{
  "cells": [
    {
      "cell_type": "markdown",
      "metadata": {
        "id": "WtVgaKFmHS0m"
      },
      "source": [
        "## Домашнее задание №3 (курс \"Практикум по программированию на языке Python\")"
      ]
    },
    {
      "cell_type": "markdown",
      "metadata": {
        "id": "0f7N6Az7HS0t"
      },
      "source": [
        "### Выполнил: <font color='red'>Никитина Мария Александровна, МФТИ, ФПМИ</font>\n",
        "\n",
        "### Тема: Основы анализа данных и машинного обучения\n",
        "\n",
        "#### Преподаватель: Мурат Апишев (mel-lain@yandex.ru)\n",
        "\n",
        "**Выдана**:   27 марта 2023\n",
        "\n",
        "**Дедлайн**:   21:00 9 апреля 2023\n",
        "\n",
        "**Среда выполнения**: Jupyter Notebook (Python 3.7+)\n",
        "\n",
        "#### Правила:\n",
        "\n",
        "Результат выполнения задания - Jupyter Notebook с кодом и подробными ответами в случае теоретических вопросов. __Максимальное число баллов за задание - 20__.\n",
        "\n",
        "Все ячейки должны быть \"выполненными\", при этом результат должен воспроизводиться при проверке (на Python 3.7). Если какой-то код не был запущен или отрабатывает с ошибками, то пункт не засчитывается. Задание, сданное после дедлайна, _не принимается_. Можно отправить недоделанное задание, выполненные пункты будут оценены.\n",
        "\n",
        "Готовое задание отправляется на почту преподавателя.\n",
        "\n",
        "Задание выполняется самостоятельно. Если какие-то студенты будут уличены в списывании, все они автоматически получат за эту работу 0 баллов. Если вы нашли в Интернете какой-то специфичный код, который собираетесь заимствовать, обязательно укажите это в задании - наверняка вы не единственный, кто найдёт и использует эту информацию.\n",
        "\n",
        "Удалять фрагменты формулировок заданий запрещается."
      ]
    },
    {
      "cell_type": "markdown",
      "metadata": {
        "id": "zqZ1r4i_HS0w"
      },
      "source": [
        "#### Постановка задачи:\n",
        "\n",
        "- В данной работе нужно решить ряд задач c использованием библиотек для обработки данных и машинного обучения, а также дать ичерпывающие ответы на поставленные вопросы.\n",
        "- В задачах 1-3 запрещается использовать циклы, генераторы списков и списковые включения, а также функции высшего порядка, необходимо написать тесты, проверяющие работу решения в обычных и крайних случаях.\n",
        "- Даже если это не указано явно в требованиях, код должен быть по возможности неизбыточным, работать с разумной сложностью и объёмом потребялемой памяти, проверяющие могут снизить балл за задание, выполненное без учёта этого требования.\n",
        "- Результирующий код должен быть читаемым, с единой системой отступов и адеквантными названиями переменных, проверяющие могут снизить балл за задание, выполненное без учёта этого требования.\n",
        "- Везде, где это требуется, должны быть отрисованы необходимые графики и даны комментарии и выводы."
      ]
    },
    {
      "cell_type": "markdown",
      "metadata": {
        "id": "NzzRy3gEHS00"
      },
      "source": [
        "__Задание 1 (0.5 балла):__ Проверить, что все элементы входного массива строго положительны."
      ]
    },
    {
      "cell_type": "code",
      "execution_count": 1,
      "metadata": {
        "id": "4uwfPo4cHS02"
      },
      "outputs": [],
      "source": [
        "import numpy as np\n",
        "\n",
        "def task_1(arr):\n",
        "    if arr == []:\n",
        "        return(True)\n",
        "    np_arr = np.array(arr)\n",
        "    minimum = np.min(np_arr)\n",
        "    if minimum <= 0:\n",
        "        return(False)\n",
        "    return(True)"
      ]
    },
    {
      "cell_type": "code",
      "source": [
        "print([])\n",
        "print(task_1([]))\n",
        "\n",
        "print('\\n[0]')\n",
        "print(task_1([0]))\n",
        "\n",
        "print('\\n[1]')\n",
        "print(task_1([1]))\n",
        "\n",
        "print('\\n[-1]')\n",
        "print(task_1([-1]))\n",
        "\n",
        "print('\\n[1, 2, 3]')\n",
        "print(task_1([1, 2, 3]))\n",
        "\n",
        "print('\\n[1, -2, 3]')\n",
        "print(task_1([1, -2, 3]))\n",
        "\n",
        "print('\\n[0, 2, 3]')\n",
        "print(task_1([0, 2, 3]))\n",
        "\n",
        "print('\\n[[1, 2, 3]\\n[1, 1, 1]]')\n",
        "print(task_1([[1, 2, 3], [1, 1, 1]]))\n",
        "\n",
        "print('\\n[[1, 2, 3]\\n[1, 1, -1]]')\n",
        "print(task_1([[1, 2, 3], [1, 1, -1]]))\n",
        "\n",
        "print('\\n[[1, 2, 3]\\n[1, 1, 1]\\n[0, 1, 0]]')\n",
        "print(task_1([[1, 2, 3], [1, 1, 1], [0, 1, 0]]))\n",
        "\n",
        "print('\\n[[1, -2.5, 3]\\n[1, -1, 1]\\n[0.1, 1.5, 0]]')\n",
        "print(task_1([[1, -2.5, 3], [1, -1, 1], [0.1, 1.5, 0]]))\n",
        "\n",
        "print('\\n[[1, 2.5, 3]\\n[1, 1, 1]\\n[0.1, 1.5, 0.0001]]')\n",
        "print(task_1([[1, 2.5, 3], [1, 1, 1], [0.1, 1.5, 0.0001]]))"
      ],
      "metadata": {
        "colab": {
          "base_uri": "https://localhost:8080/"
        },
        "id": "ACPTuYf9P6N5",
        "outputId": "160407e5-2fd9-4c0b-bf74-13abb2f4a3b1"
      },
      "execution_count": 2,
      "outputs": [
        {
          "output_type": "stream",
          "name": "stdout",
          "text": [
            "[]\n",
            "True\n",
            "\n",
            "[0]\n",
            "False\n",
            "\n",
            "[1]\n",
            "True\n",
            "\n",
            "[-1]\n",
            "False\n",
            "\n",
            "[1, 2, 3]\n",
            "True\n",
            "\n",
            "[1, -2, 3]\n",
            "False\n",
            "\n",
            "[0, 2, 3]\n",
            "False\n",
            "\n",
            "[[1, 2, 3]\n",
            "[1, 1, 1]]\n",
            "True\n",
            "\n",
            "[[1, 2, 3]\n",
            "[1, 1, -1]]\n",
            "False\n",
            "\n",
            "[[1, 2, 3]\n",
            "[1, 1, 1]\n",
            "[0, 1, 0]]\n",
            "False\n",
            "\n",
            "[[1, -2.5, 3]\n",
            "[1, -1, 1]\n",
            "[0.1, 1.5, 0]]\n",
            "False\n",
            "\n",
            "[[1, 2.5, 3]\n",
            "[1, 1, 1]\n",
            "[0.1, 1.5, 0.0001]]\n",
            "True\n"
          ]
        }
      ]
    },
    {
      "cell_type": "markdown",
      "metadata": {
        "id": "QqlytIeFHS07"
      },
      "source": [
        "__Задание 2 (0.5 балла):__ В векторе повторить все значения `n` раз. Пример: для массива `[1, 2, 3]` и `n` равного 3 ответом должен быть массив `[1, 1, 1, 2, 2, 2, 3, 3, 3]`."
      ]
    },
    {
      "cell_type": "code",
      "execution_count": 3,
      "metadata": {
        "id": "7rPnig8mHS09"
      },
      "outputs": [],
      "source": [
        "import numpy as np\n",
        "\n",
        "def task_2(arr, n):\n",
        "    arr = np.array(arr)\n",
        "    arr = np.repeat(arr, repeats=n)\n",
        "    return list(arr)"
      ]
    },
    {
      "cell_type": "code",
      "source": [
        "print('[1, 2, 3], 3')\n",
        "print(task_2([1, 2, 3], 3))\n",
        "\n",
        "print('\\n[], 5')\n",
        "print(task_2([], 5))\n",
        "\n",
        "print('\\n[0], 0')\n",
        "print(task_2([], 0))\n",
        "\n",
        "print('\\n[-1, 2.125], 10')\n",
        "print(task_2([-1, 2.125], 10))"
      ],
      "metadata": {
        "colab": {
          "base_uri": "https://localhost:8080/"
        },
        "id": "eZjA2VNPTU5f",
        "outputId": "3f02db24-1ca2-4e96-d0fa-d938f8dca1c8"
      },
      "execution_count": 4,
      "outputs": [
        {
          "output_type": "stream",
          "name": "stdout",
          "text": [
            "[1, 2, 3], 3\n",
            "[1, 1, 1, 2, 2, 2, 3, 3, 3]\n",
            "\n",
            "[], 5\n",
            "[]\n",
            "\n",
            "[0], 0\n",
            "[]\n",
            "\n",
            "[-1, 2.125], 10\n",
            "[-1.0, -1.0, -1.0, -1.0, -1.0, -1.0, -1.0, -1.0, -1.0, -1.0, 2.125, 2.125, 2.125, 2.125, 2.125, 2.125, 2.125, 2.125, 2.125, 2.125]\n"
          ]
        }
      ]
    },
    {
      "cell_type": "markdown",
      "metadata": {
        "id": "o9LJBh_dHS0_"
      },
      "source": [
        "__Задание 3 (1 балл):__ Для векторов `V` и `v` построить вектор, в котором на 0-й позиции будет находиться сумма первых `v[0]` элементов вектора `V`, на 1-й - следующих `v[1]` элементов, и т.д. Гарантируется, что элементов в `V` достаточное количество. Пример: для массивов `V=[1, 2, 3, 4, 5, 6, 7, 8, 9, 10]` и `v=[2, 1, 3]` ответом будет `[3, 3, 15]`."
      ]
    },
    {
      "cell_type": "code",
      "execution_count": 5,
      "metadata": {
        "id": "N6lvm0RLHS1A"
      },
      "outputs": [],
      "source": [
        "import numpy as np\n",
        "\n",
        "def task_3(V, v):\n",
        "    V = np.array(V)\n",
        "    v = np.array(v)\n",
        "    ind = np.hstack([[0], np.cumsum(v)])\n",
        "    return list(np.add.reduceat(np.hstack([V, [0]]), ind)[:-1])"
      ]
    },
    {
      "cell_type": "code",
      "source": [
        "V = [1, 2, 3, 4, 5, 6, 7, 8, 9, 10]\n",
        "v = [2, 1, 3]\n",
        "print(V)\n",
        "print(v)\n",
        "print(task_3(V, v), '\\n')\n",
        "\n",
        "v = [1, 1, 1, 1, 1]\n",
        "print(V)\n",
        "print(v)\n",
        "print(task_3(V, v), '\\n')\n",
        "\n",
        "V = [1, 2, 3, 4, 5, 6, 7, 8, 9, 10]\n",
        "v = [3, 4, 3]\n",
        "print(V)\n",
        "print(v)\n",
        "print(task_3(V, v), '\\n')\n",
        "\n",
        "v = [1, 3, 4, 2]\n",
        "print(V)\n",
        "print(v)\n",
        "print(task_3(V, v), '\\n')"
      ],
      "metadata": {
        "colab": {
          "base_uri": "https://localhost:8080/"
        },
        "id": "dHz3SxuQY8qI",
        "outputId": "33ab05d0-7b86-4de5-9523-d193b025146c"
      },
      "execution_count": 6,
      "outputs": [
        {
          "output_type": "stream",
          "name": "stdout",
          "text": [
            "[1, 2, 3, 4, 5, 6, 7, 8, 9, 10]\n",
            "[2, 1, 3]\n",
            "[3, 3, 15] \n",
            "\n",
            "[1, 2, 3, 4, 5, 6, 7, 8, 9, 10]\n",
            "[1, 1, 1, 1, 1]\n",
            "[1, 2, 3, 4, 5] \n",
            "\n",
            "[1, 2, 3, 4, 5, 6, 7, 8, 9, 10]\n",
            "[3, 4, 3]\n",
            "[6, 22, 27] \n",
            "\n",
            "[1, 2, 3, 4, 5, 6, 7, 8, 9, 10]\n",
            "[1, 3, 4, 2]\n",
            "[1, 9, 26, 19] \n",
            "\n"
          ]
        }
      ]
    },
    {
      "cell_type": "markdown",
      "metadata": {
        "id": "K6LLCjO3HS1C"
      },
      "source": [
        "Для решения следующих заданий скачайте набор данных 20 News Group с помощью следующего кода:"
      ]
    },
    {
      "cell_type": "code",
      "execution_count": 7,
      "metadata": {
        "id": "y241yroUHS1E"
      },
      "outputs": [],
      "source": [
        "import pandas as pd\n",
        "from sklearn.datasets import fetch_20newsgroups\n",
        "\n",
        "X_train = fetch_20newsgroups(subset='train')\n",
        "X_test = fetch_20newsgroups(subset='test')\n",
        "\n",
        "label_names = pd.DataFrame(columns=['label_id', 'label_name'],\n",
        "                           data=[(i, e) for i, e in enumerate(list(X_train.target_names))])\n",
        "data = pd.DataFrame()\n",
        "data['text'] = X_train.data + X_test.data\n",
        "data['is_train'] = [True] * len(X_train.data) + [False] * len(X_test.data)\n",
        "data['label_id'] = list(X_train.target) + list(X_test.target)"
      ]
    },
    {
      "cell_type": "code",
      "source": [
        "label_names.head()"
      ],
      "metadata": {
        "colab": {
          "base_uri": "https://localhost:8080/",
          "height": 206
        },
        "id": "Oa2IxXCWzbQC",
        "outputId": "f0a39f6e-3cc3-4045-84b6-9c0fa450cddf"
      },
      "execution_count": 8,
      "outputs": [
        {
          "output_type": "execute_result",
          "data": {
            "text/plain": [
              "   label_id                label_name\n",
              "0         0               alt.atheism\n",
              "1         1             comp.graphics\n",
              "2         2   comp.os.ms-windows.misc\n",
              "3         3  comp.sys.ibm.pc.hardware\n",
              "4         4     comp.sys.mac.hardware"
            ],
            "text/html": [
              "\n",
              "  <div id=\"df-4d8c3f4e-631d-4980-aef7-f67ef7306d98\">\n",
              "    <div class=\"colab-df-container\">\n",
              "      <div>\n",
              "<style scoped>\n",
              "    .dataframe tbody tr th:only-of-type {\n",
              "        vertical-align: middle;\n",
              "    }\n",
              "\n",
              "    .dataframe tbody tr th {\n",
              "        vertical-align: top;\n",
              "    }\n",
              "\n",
              "    .dataframe thead th {\n",
              "        text-align: right;\n",
              "    }\n",
              "</style>\n",
              "<table border=\"1\" class=\"dataframe\">\n",
              "  <thead>\n",
              "    <tr style=\"text-align: right;\">\n",
              "      <th></th>\n",
              "      <th>label_id</th>\n",
              "      <th>label_name</th>\n",
              "    </tr>\n",
              "  </thead>\n",
              "  <tbody>\n",
              "    <tr>\n",
              "      <th>0</th>\n",
              "      <td>0</td>\n",
              "      <td>alt.atheism</td>\n",
              "    </tr>\n",
              "    <tr>\n",
              "      <th>1</th>\n",
              "      <td>1</td>\n",
              "      <td>comp.graphics</td>\n",
              "    </tr>\n",
              "    <tr>\n",
              "      <th>2</th>\n",
              "      <td>2</td>\n",
              "      <td>comp.os.ms-windows.misc</td>\n",
              "    </tr>\n",
              "    <tr>\n",
              "      <th>3</th>\n",
              "      <td>3</td>\n",
              "      <td>comp.sys.ibm.pc.hardware</td>\n",
              "    </tr>\n",
              "    <tr>\n",
              "      <th>4</th>\n",
              "      <td>4</td>\n",
              "      <td>comp.sys.mac.hardware</td>\n",
              "    </tr>\n",
              "  </tbody>\n",
              "</table>\n",
              "</div>\n",
              "      <button class=\"colab-df-convert\" onclick=\"convertToInteractive('df-4d8c3f4e-631d-4980-aef7-f67ef7306d98')\"\n",
              "              title=\"Convert this dataframe to an interactive table.\"\n",
              "              style=\"display:none;\">\n",
              "        \n",
              "  <svg xmlns=\"http://www.w3.org/2000/svg\" height=\"24px\"viewBox=\"0 0 24 24\"\n",
              "       width=\"24px\">\n",
              "    <path d=\"M0 0h24v24H0V0z\" fill=\"none\"/>\n",
              "    <path d=\"M18.56 5.44l.94 2.06.94-2.06 2.06-.94-2.06-.94-.94-2.06-.94 2.06-2.06.94zm-11 1L8.5 8.5l.94-2.06 2.06-.94-2.06-.94L8.5 2.5l-.94 2.06-2.06.94zm10 10l.94 2.06.94-2.06 2.06-.94-2.06-.94-.94-2.06-.94 2.06-2.06.94z\"/><path d=\"M17.41 7.96l-1.37-1.37c-.4-.4-.92-.59-1.43-.59-.52 0-1.04.2-1.43.59L10.3 9.45l-7.72 7.72c-.78.78-.78 2.05 0 2.83L4 21.41c.39.39.9.59 1.41.59.51 0 1.02-.2 1.41-.59l7.78-7.78 2.81-2.81c.8-.78.8-2.07 0-2.86zM5.41 20L4 18.59l7.72-7.72 1.47 1.35L5.41 20z\"/>\n",
              "  </svg>\n",
              "      </button>\n",
              "      \n",
              "  <style>\n",
              "    .colab-df-container {\n",
              "      display:flex;\n",
              "      flex-wrap:wrap;\n",
              "      gap: 12px;\n",
              "    }\n",
              "\n",
              "    .colab-df-convert {\n",
              "      background-color: #E8F0FE;\n",
              "      border: none;\n",
              "      border-radius: 50%;\n",
              "      cursor: pointer;\n",
              "      display: none;\n",
              "      fill: #1967D2;\n",
              "      height: 32px;\n",
              "      padding: 0 0 0 0;\n",
              "      width: 32px;\n",
              "    }\n",
              "\n",
              "    .colab-df-convert:hover {\n",
              "      background-color: #E2EBFA;\n",
              "      box-shadow: 0px 1px 2px rgba(60, 64, 67, 0.3), 0px 1px 3px 1px rgba(60, 64, 67, 0.15);\n",
              "      fill: #174EA6;\n",
              "    }\n",
              "\n",
              "    [theme=dark] .colab-df-convert {\n",
              "      background-color: #3B4455;\n",
              "      fill: #D2E3FC;\n",
              "    }\n",
              "\n",
              "    [theme=dark] .colab-df-convert:hover {\n",
              "      background-color: #434B5C;\n",
              "      box-shadow: 0px 1px 3px 1px rgba(0, 0, 0, 0.15);\n",
              "      filter: drop-shadow(0px 1px 2px rgba(0, 0, 0, 0.3));\n",
              "      fill: #FFFFFF;\n",
              "    }\n",
              "  </style>\n",
              "\n",
              "      <script>\n",
              "        const buttonEl =\n",
              "          document.querySelector('#df-4d8c3f4e-631d-4980-aef7-f67ef7306d98 button.colab-df-convert');\n",
              "        buttonEl.style.display =\n",
              "          google.colab.kernel.accessAllowed ? 'block' : 'none';\n",
              "\n",
              "        async function convertToInteractive(key) {\n",
              "          const element = document.querySelector('#df-4d8c3f4e-631d-4980-aef7-f67ef7306d98');\n",
              "          const dataTable =\n",
              "            await google.colab.kernel.invokeFunction('convertToInteractive',\n",
              "                                                     [key], {});\n",
              "          if (!dataTable) return;\n",
              "\n",
              "          const docLinkHtml = 'Like what you see? Visit the ' +\n",
              "            '<a target=\"_blank\" href=https://colab.research.google.com/notebooks/data_table.ipynb>data table notebook</a>'\n",
              "            + ' to learn more about interactive tables.';\n",
              "          element.innerHTML = '';\n",
              "          dataTable['output_type'] = 'display_data';\n",
              "          await google.colab.output.renderOutput(dataTable, element);\n",
              "          const docLink = document.createElement('div');\n",
              "          docLink.innerHTML = docLinkHtml;\n",
              "          element.appendChild(docLink);\n",
              "        }\n",
              "      </script>\n",
              "    </div>\n",
              "  </div>\n",
              "  "
            ]
          },
          "metadata": {},
          "execution_count": 8
        }
      ]
    },
    {
      "cell_type": "code",
      "source": [
        "data.head()"
      ],
      "metadata": {
        "colab": {
          "base_uri": "https://localhost:8080/",
          "height": 206
        },
        "id": "D5eY87RCzhhi",
        "outputId": "ab1b4486-7ede-474a-c9cf-0cd88dab394e"
      },
      "execution_count": 9,
      "outputs": [
        {
          "output_type": "execute_result",
          "data": {
            "text/plain": [
              "                                                text  is_train  label_id\n",
              "0  From: lerxst@wam.umd.edu (where's my thing)\\nS...      True         7\n",
              "1  From: guykuo@carson.u.washington.edu (Guy Kuo)...      True         4\n",
              "2  From: twillis@ec.ecn.purdue.edu (Thomas E Will...      True         4\n",
              "3  From: jgreen@amber (Joe Green)\\nSubject: Re: W...      True         1\n",
              "4  From: jcm@head-cfa.harvard.edu (Jonathan McDow...      True        14"
            ],
            "text/html": [
              "\n",
              "  <div id=\"df-26763c5c-0af8-4e72-b8f7-19315f7919d6\">\n",
              "    <div class=\"colab-df-container\">\n",
              "      <div>\n",
              "<style scoped>\n",
              "    .dataframe tbody tr th:only-of-type {\n",
              "        vertical-align: middle;\n",
              "    }\n",
              "\n",
              "    .dataframe tbody tr th {\n",
              "        vertical-align: top;\n",
              "    }\n",
              "\n",
              "    .dataframe thead th {\n",
              "        text-align: right;\n",
              "    }\n",
              "</style>\n",
              "<table border=\"1\" class=\"dataframe\">\n",
              "  <thead>\n",
              "    <tr style=\"text-align: right;\">\n",
              "      <th></th>\n",
              "      <th>text</th>\n",
              "      <th>is_train</th>\n",
              "      <th>label_id</th>\n",
              "    </tr>\n",
              "  </thead>\n",
              "  <tbody>\n",
              "    <tr>\n",
              "      <th>0</th>\n",
              "      <td>From: lerxst@wam.umd.edu (where's my thing)\\nS...</td>\n",
              "      <td>True</td>\n",
              "      <td>7</td>\n",
              "    </tr>\n",
              "    <tr>\n",
              "      <th>1</th>\n",
              "      <td>From: guykuo@carson.u.washington.edu (Guy Kuo)...</td>\n",
              "      <td>True</td>\n",
              "      <td>4</td>\n",
              "    </tr>\n",
              "    <tr>\n",
              "      <th>2</th>\n",
              "      <td>From: twillis@ec.ecn.purdue.edu (Thomas E Will...</td>\n",
              "      <td>True</td>\n",
              "      <td>4</td>\n",
              "    </tr>\n",
              "    <tr>\n",
              "      <th>3</th>\n",
              "      <td>From: jgreen@amber (Joe Green)\\nSubject: Re: W...</td>\n",
              "      <td>True</td>\n",
              "      <td>1</td>\n",
              "    </tr>\n",
              "    <tr>\n",
              "      <th>4</th>\n",
              "      <td>From: jcm@head-cfa.harvard.edu (Jonathan McDow...</td>\n",
              "      <td>True</td>\n",
              "      <td>14</td>\n",
              "    </tr>\n",
              "  </tbody>\n",
              "</table>\n",
              "</div>\n",
              "      <button class=\"colab-df-convert\" onclick=\"convertToInteractive('df-26763c5c-0af8-4e72-b8f7-19315f7919d6')\"\n",
              "              title=\"Convert this dataframe to an interactive table.\"\n",
              "              style=\"display:none;\">\n",
              "        \n",
              "  <svg xmlns=\"http://www.w3.org/2000/svg\" height=\"24px\"viewBox=\"0 0 24 24\"\n",
              "       width=\"24px\">\n",
              "    <path d=\"M0 0h24v24H0V0z\" fill=\"none\"/>\n",
              "    <path d=\"M18.56 5.44l.94 2.06.94-2.06 2.06-.94-2.06-.94-.94-2.06-.94 2.06-2.06.94zm-11 1L8.5 8.5l.94-2.06 2.06-.94-2.06-.94L8.5 2.5l-.94 2.06-2.06.94zm10 10l.94 2.06.94-2.06 2.06-.94-2.06-.94-.94-2.06-.94 2.06-2.06.94z\"/><path d=\"M17.41 7.96l-1.37-1.37c-.4-.4-.92-.59-1.43-.59-.52 0-1.04.2-1.43.59L10.3 9.45l-7.72 7.72c-.78.78-.78 2.05 0 2.83L4 21.41c.39.39.9.59 1.41.59.51 0 1.02-.2 1.41-.59l7.78-7.78 2.81-2.81c.8-.78.8-2.07 0-2.86zM5.41 20L4 18.59l7.72-7.72 1.47 1.35L5.41 20z\"/>\n",
              "  </svg>\n",
              "      </button>\n",
              "      \n",
              "  <style>\n",
              "    .colab-df-container {\n",
              "      display:flex;\n",
              "      flex-wrap:wrap;\n",
              "      gap: 12px;\n",
              "    }\n",
              "\n",
              "    .colab-df-convert {\n",
              "      background-color: #E8F0FE;\n",
              "      border: none;\n",
              "      border-radius: 50%;\n",
              "      cursor: pointer;\n",
              "      display: none;\n",
              "      fill: #1967D2;\n",
              "      height: 32px;\n",
              "      padding: 0 0 0 0;\n",
              "      width: 32px;\n",
              "    }\n",
              "\n",
              "    .colab-df-convert:hover {\n",
              "      background-color: #E2EBFA;\n",
              "      box-shadow: 0px 1px 2px rgba(60, 64, 67, 0.3), 0px 1px 3px 1px rgba(60, 64, 67, 0.15);\n",
              "      fill: #174EA6;\n",
              "    }\n",
              "\n",
              "    [theme=dark] .colab-df-convert {\n",
              "      background-color: #3B4455;\n",
              "      fill: #D2E3FC;\n",
              "    }\n",
              "\n",
              "    [theme=dark] .colab-df-convert:hover {\n",
              "      background-color: #434B5C;\n",
              "      box-shadow: 0px 1px 3px 1px rgba(0, 0, 0, 0.15);\n",
              "      filter: drop-shadow(0px 1px 2px rgba(0, 0, 0, 0.3));\n",
              "      fill: #FFFFFF;\n",
              "    }\n",
              "  </style>\n",
              "\n",
              "      <script>\n",
              "        const buttonEl =\n",
              "          document.querySelector('#df-26763c5c-0af8-4e72-b8f7-19315f7919d6 button.colab-df-convert');\n",
              "        buttonEl.style.display =\n",
              "          google.colab.kernel.accessAllowed ? 'block' : 'none';\n",
              "\n",
              "        async function convertToInteractive(key) {\n",
              "          const element = document.querySelector('#df-26763c5c-0af8-4e72-b8f7-19315f7919d6');\n",
              "          const dataTable =\n",
              "            await google.colab.kernel.invokeFunction('convertToInteractive',\n",
              "                                                     [key], {});\n",
              "          if (!dataTable) return;\n",
              "\n",
              "          const docLinkHtml = 'Like what you see? Visit the ' +\n",
              "            '<a target=\"_blank\" href=https://colab.research.google.com/notebooks/data_table.ipynb>data table notebook</a>'\n",
              "            + ' to learn more about interactive tables.';\n",
              "          element.innerHTML = '';\n",
              "          dataTable['output_type'] = 'display_data';\n",
              "          await google.colab.output.renderOutput(dataTable, element);\n",
              "          const docLink = document.createElement('div');\n",
              "          docLink.innerHTML = docLinkHtml;\n",
              "          element.appendChild(docLink);\n",
              "        }\n",
              "      </script>\n",
              "    </div>\n",
              "  </div>\n",
              "  "
            ]
          },
          "metadata": {},
          "execution_count": 9
        }
      ]
    },
    {
      "cell_type": "markdown",
      "metadata": {
        "id": "gbuE6GXRHS1F"
      },
      "source": [
        "__Задание 4 (1 балл):__ Используя возможности библиотеки pandas\n",
        "\n",
        "- сделайте join таблиц `data` и `label_names`, удалив из итоговой таблицы поле `label_id`\n",
        "- посчитайте количество обучающих и тестовых данных\n",
        "- постройте круговую диаграмму, показывающую долю каждого класса в обучающих данных"
      ]
    },
    {
      "cell_type": "code",
      "source": [
        "# join tables and delete the label_id field \n",
        "df = pd.merge(data, label_names, on = 'label_id')\n",
        "df.drop('label_id', axis=1, inplace=True)\n",
        "\n",
        "# counting the amount of training and test data\n",
        "train_count = df[df['is_train']].shape[0]\n",
        "test_count = df[df['is_train'] == False].shape[0]\n",
        "print(f'Счетчик тренировочных данных: {train_count}')\n",
        "print(f'Счетчик тестовых данных: {test_count}')\n",
        "\n",
        "# Pie charts\n",
        "df['is_train'].value_counts().plot.pie()"
      ],
      "metadata": {
        "colab": {
          "base_uri": "https://localhost:8080/",
          "height": 458
        },
        "id": "E0Vn5YDKgMEH",
        "outputId": "62df6c56-7e8a-42f7-f09e-54ba5b1e4650"
      },
      "execution_count": 10,
      "outputs": [
        {
          "output_type": "stream",
          "name": "stdout",
          "text": [
            "Счетчик тренировочных данных: 11314\n",
            "Счетчик тестовых данных: 7532\n"
          ]
        },
        {
          "output_type": "execute_result",
          "data": {
            "text/plain": [
              "<Axes: ylabel='is_train'>"
            ]
          },
          "metadata": {},
          "execution_count": 10
        },
        {
          "output_type": "display_data",
          "data": {
            "text/plain": [
              "<Figure size 640x480 with 1 Axes>"
            ],
            "image/png": "[encoded data removed]"
          },
          "metadata": {}
        }
      ]
    },
    {
      "cell_type": "code",
      "source": [
        "df.head()"
      ],
      "metadata": {
        "colab": {
          "base_uri": "https://localhost:8080/",
          "height": 206
        },
        "id": "LYEiW3FB5i4e",
        "outputId": "be75350f-5c05-455a-84c3-45d81689cafa"
      },
      "execution_count": 11,
      "outputs": [
        {
          "output_type": "execute_result",
          "data": {
            "text/plain": [
              "                                                text  is_train label_name\n",
              "0  From: lerxst@wam.umd.edu (where's my thing)\\nS...      True  rec.autos\n",
              "1  From: CPKJP@vm.cc.latech.edu (Kevin Parker)\\nS...      True  rec.autos\n",
              "2  From: jimf@centerline.com (Jim Frost)\\nSubject...      True  rec.autos\n",
              "3  From: eliot@lanmola.engr.washington.edu (eliot...      True  rec.autos\n",
              "4  From: sjp@hpuerca.atl.hp.com (Steve Phillips)\\...      True  rec.autos"
            ],
            "text/html": [
              "\n",
              "  <div id=\"df-e2f8e1a3-1452-4179-a6d3-20ee3fc3ecbd\">\n",
              "    <div class=\"colab-df-container\">\n",
              "      <div>\n",
              "<style scoped>\n",
              "    .dataframe tbody tr th:only-of-type {\n",
              "        vertical-align: middle;\n",
              "    }\n",
              "\n",
              "    .dataframe tbody tr th {\n",
              "        vertical-align: top;\n",
              "    }\n",
              "\n",
              "    .dataframe thead th {\n",
              "        text-align: right;\n",
              "    }\n",
              "</style>\n",
              "<table border=\"1\" class=\"dataframe\">\n",
              "  <thead>\n",
              "    <tr style=\"text-align: right;\">\n",
              "      <th></th>\n",
              "      <th>text</th>\n",
              "      <th>is_train</th>\n",
              "      <th>label_name</th>\n",
              "    </tr>\n",
              "  </thead>\n",
              "  <tbody>\n",
              "    <tr>\n",
              "      <th>0</th>\n",
              "      <td>From: lerxst@wam.umd.edu (where's my thing)\\nS...</td>\n",
              "      <td>True</td>\n",
              "      <td>rec.autos</td>\n",
              "    </tr>\n",
              "    <tr>\n",
              "      <th>1</th>\n",
              "      <td>From: CPKJP@vm.cc.latech.edu (Kevin Parker)\\nS...</td>\n",
              "      <td>True</td>\n",
              "      <td>rec.autos</td>\n",
              "    </tr>\n",
              "    <tr>\n",
              "      <th>2</th>\n",
              "      <td>From: jimf@centerline.com (Jim Frost)\\nSubject...</td>\n",
              "      <td>True</td>\n",
              "      <td>rec.autos</td>\n",
              "    </tr>\n",
              "    <tr>\n",
              "      <th>3</th>\n",
              "      <td>From: eliot@lanmola.engr.washington.edu (eliot...</td>\n",
              "      <td>True</td>\n",
              "      <td>rec.autos</td>\n",
              "    </tr>\n",
              "    <tr>\n",
              "      <th>4</th>\n",
              "      <td>From: sjp@hpuerca.atl.hp.com (Steve Phillips)\\...</td>\n",
              "      <td>True</td>\n",
              "      <td>rec.autos</td>\n",
              "    </tr>\n",
              "  </tbody>\n",
              "</table>\n",
              "</div>\n",
              "      <button class=\"colab-df-convert\" onclick=\"convertToInteractive('df-e2f8e1a3-1452-4179-a6d3-20ee3fc3ecbd')\"\n",
              "              title=\"Convert this dataframe to an interactive table.\"\n",
              "              style=\"display:none;\">\n",
              "        \n",
              "  <svg xmlns=\"http://www.w3.org/2000/svg\" height=\"24px\"viewBox=\"0 0 24 24\"\n",
              "       width=\"24px\">\n",
              "    <path d=\"M0 0h24v24H0V0z\" fill=\"none\"/>\n",
              "    <path d=\"M18.56 5.44l.94 2.06.94-2.06 2.06-.94-2.06-.94-.94-2.06-.94 2.06-2.06.94zm-11 1L8.5 8.5l.94-2.06 2.06-.94-2.06-.94L8.5 2.5l-.94 2.06-2.06.94zm10 10l.94 2.06.94-2.06 2.06-.94-2.06-.94-.94-2.06-.94 2.06-2.06.94z\"/><path d=\"M17.41 7.96l-1.37-1.37c-.4-.4-.92-.59-1.43-.59-.52 0-1.04.2-1.43.59L10.3 9.45l-7.72 7.72c-.78.78-.78 2.05 0 2.83L4 21.41c.39.39.9.59 1.41.59.51 0 1.02-.2 1.41-.59l7.78-7.78 2.81-2.81c.8-.78.8-2.07 0-2.86zM5.41 20L4 18.59l7.72-7.72 1.47 1.35L5.41 20z\"/>\n",
              "  </svg>\n",
              "      </button>\n",
              "      \n",
              "  <style>\n",
              "    .colab-df-container {\n",
              "      display:flex;\n",
              "      flex-wrap:wrap;\n",
              "      gap: 12px;\n",
              "    }\n",
              "\n",
              "    .colab-df-convert {\n",
              "      background-color: #E8F0FE;\n",
              "      border: none;\n",
              "      border-radius: 50%;\n",
              "      cursor: pointer;\n",
              "      display: none;\n",
              "      fill: #1967D2;\n",
              "      height: 32px;\n",
              "      padding: 0 0 0 0;\n",
              "      width: 32px;\n",
              "    }\n",
              "\n",
              "    .colab-df-convert:hover {\n",
              "      background-color: #E2EBFA;\n",
              "      box-shadow: 0px 1px 2px rgba(60, 64, 67, 0.3), 0px 1px 3px 1px rgba(60, 64, 67, 0.15);\n",
              "      fill: #174EA6;\n",
              "    }\n",
              "\n",
              "    [theme=dark] .colab-df-convert {\n",
              "      background-color: #3B4455;\n",
              "      fill: #D2E3FC;\n",
              "    }\n",
              "\n",
              "    [theme=dark] .colab-df-convert:hover {\n",
              "      background-color: #434B5C;\n",
              "      box-shadow: 0px 1px 3px 1px rgba(0, 0, 0, 0.15);\n",
              "      filter: drop-shadow(0px 1px 2px rgba(0, 0, 0, 0.3));\n",
              "      fill: #FFFFFF;\n",
              "    }\n",
              "  </style>\n",
              "\n",
              "      <script>\n",
              "        const buttonEl =\n",
              "          document.querySelector('#df-e2f8e1a3-1452-4179-a6d3-20ee3fc3ecbd button.colab-df-convert');\n",
              "        buttonEl.style.display =\n",
              "          google.colab.kernel.accessAllowed ? 'block' : 'none';\n",
              "\n",
              "        async function convertToInteractive(key) {\n",
              "          const element = document.querySelector('#df-e2f8e1a3-1452-4179-a6d3-20ee3fc3ecbd');\n",
              "          const dataTable =\n",
              "            await google.colab.kernel.invokeFunction('convertToInteractive',\n",
              "                                                     [key], {});\n",
              "          if (!dataTable) return;\n",
              "\n",
              "          const docLinkHtml = 'Like what you see? Visit the ' +\n",
              "            '<a target=\"_blank\" href=https://colab.research.google.com/notebooks/data_table.ipynb>data table notebook</a>'\n",
              "            + ' to learn more about interactive tables.';\n",
              "          element.innerHTML = '';\n",
              "          dataTable['output_type'] = 'display_data';\n",
              "          await google.colab.output.renderOutput(dataTable, element);\n",
              "          const docLink = document.createElement('div');\n",
              "          docLink.innerHTML = docLinkHtml;\n",
              "          element.appendChild(docLink);\n",
              "        }\n",
              "      </script>\n",
              "    </div>\n",
              "  </div>\n",
              "  "
            ]
          },
          "metadata": {},
          "execution_count": 11
        }
      ]
    },
    {
      "cell_type": "markdown",
      "metadata": {
        "id": "PLc5h9IyHS1G"
      },
      "source": [
        "__Задание 5 (2 балла):__ Каждый объект представляет собой текст. Чаще всего тексты предобрабатывают перед тем, как пытаться выделять из них признаки. Опишите функцию `preprocess`, которая получает на вход сырой текст и возвращает предобработанный. Примените эту функцию к элементу `text` каждого объекта и результат запишите в столбец `pp_text` (далее под текстом подразумевается именно содержимое этого столбца). За пределами `preprocess` циклами пользоваться запрещено (т.е. предобработка должна применяться средствами DataFrame). Функция должна выполнять следующий набор операций:\n",
        "\n",
        "- привести текст к нижнему регистру\n",
        "- заменить все символы '\\n', '\\t' и '\\r' на пробелы\n",
        "- заменить в тексте все символы, не являющиеся английскими буквами, на пробелы\n",
        "- сделать split текста по пробелам, удалив все пустые слова\n",
        "- вернуть получившийся список слов\n",
        "\n",
        "Для ускорения `preprocess` может использовать внешние переменные, например, скомпилированные регулярные выражения."
      ]
    },
    {
      "cell_type": "code",
      "source": [
        "import re\n",
        "\n",
        "def preprocess(text):    \n",
        "    text = text.lower()\n",
        "    text = re.sub(r'\\n|\\t|\\r', ' ', text)\n",
        "    text = re.sub('[^a-z]', ' ', text)\n",
        "    return text.split()\n",
        "\n",
        "def task_5():\n",
        "    df['pp_text'] = df['text'].map(preprocess)"
      ],
      "metadata": {
        "id": "c7mZ0mmOCr_b"
      },
      "execution_count": 12,
      "outputs": []
    },
    {
      "cell_type": "code",
      "source": [
        "task_5()\n",
        "df.head()"
      ],
      "metadata": {
        "colab": {
          "base_uri": "https://localhost:8080/",
          "height": 206
        },
        "id": "9_I7MtXPCi9P",
        "outputId": "abab4172-8209-4f79-b9fc-0ec6a5b9c774"
      },
      "execution_count": 13,
      "outputs": [
        {
          "output_type": "execute_result",
          "data": {
            "text/plain": [
              "                                                text  is_train label_name  \\\n",
              "0  From: lerxst@wam.umd.edu (where's my thing)\\nS...      True  rec.autos   \n",
              "1  From: CPKJP@vm.cc.latech.edu (Kevin Parker)\\nS...      True  rec.autos   \n",
              "2  From: jimf@centerline.com (Jim Frost)\\nSubject...      True  rec.autos   \n",
              "3  From: eliot@lanmola.engr.washington.edu (eliot...      True  rec.autos   \n",
              "4  From: sjp@hpuerca.atl.hp.com (Steve Phillips)\\...      True  rec.autos   \n",
              "\n",
              "                                             pp_text  \n",
              "0  [from, lerxst, wam, umd, edu, where, s, my, th...  \n",
              "1  [from, cpkjp, vm, cc, latech, edu, kevin, park...  \n",
              "2  [from, jimf, centerline, com, jim, frost, subj...  \n",
              "3  [from, eliot, lanmola, engr, washington, edu, ...  \n",
              "4  [from, sjp, hpuerca, atl, hp, com, steve, phil...  "
            ],
            "text/html": [
              "\n",
              "  <div id=\"df-2821575c-3ad6-4a64-80d9-d7edf17d9530\">\n",
              "    <div class=\"colab-df-container\">\n",
              "      <div>\n",
              "<style scoped>\n",
              "    .dataframe tbody tr th:only-of-type {\n",
              "        vertical-align: middle;\n",
              "    }\n",
              "\n",
              "    .dataframe tbody tr th {\n",
              "        vertical-align: top;\n",
              "    }\n",
              "\n",
              "    .dataframe thead th {\n",
              "        text-align: right;\n",
              "    }\n",
              "</style>\n",
              "<table border=\"1\" class=\"dataframe\">\n",
              "  <thead>\n",
              "    <tr style=\"text-align: right;\">\n",
              "      <th></th>\n",
              "      <th>text</th>\n",
              "      <th>is_train</th>\n",
              "      <th>label_name</th>\n",
              "      <th>pp_text</th>\n",
              "    </tr>\n",
              "  </thead>\n",
              "  <tbody>\n",
              "    <tr>\n",
              "      <th>0</th>\n",
              "      <td>From: lerxst@wam.umd.edu (where's my thing)\\nS...</td>\n",
              "      <td>True</td>\n",
              "      <td>rec.autos</td>\n",
              "      <td>[from, lerxst, wam, umd, edu, where, s, my, th...</td>\n",
              "    </tr>\n",
              "    <tr>\n",
              "      <th>1</th>\n",
              "      <td>From: CPKJP@vm.cc.latech.edu (Kevin Parker)\\nS...</td>\n",
              "      <td>True</td>\n",
              "      <td>rec.autos</td>\n",
              "      <td>[from, cpkjp, vm, cc, latech, edu, kevin, park...</td>\n",
              "    </tr>\n",
              "    <tr>\n",
              "      <th>2</th>\n",
              "      <td>From: jimf@centerline.com (Jim Frost)\\nSubject...</td>\n",
              "      <td>True</td>\n",
              "      <td>rec.autos</td>\n",
              "      <td>[from, jimf, centerline, com, jim, frost, subj...</td>\n",
              "    </tr>\n",
              "    <tr>\n",
              "      <th>3</th>\n",
              "      <td>From: eliot@lanmola.engr.washington.edu (eliot...</td>\n",
              "      <td>True</td>\n",
              "      <td>rec.autos</td>\n",
              "      <td>[from, eliot, lanmola, engr, washington, edu, ...</td>\n",
              "    </tr>\n",
              "    <tr>\n",
              "      <th>4</th>\n",
              "      <td>From: sjp@hpuerca.atl.hp.com (Steve Phillips)\\...</td>\n",
              "      <td>True</td>\n",
              "      <td>rec.autos</td>\n",
              "      <td>[from, sjp, hpuerca, atl, hp, com, steve, phil...</td>\n",
              "    </tr>\n",
              "  </tbody>\n",
              "</table>\n",
              "</div>\n",
              "      <button class=\"colab-df-convert\" onclick=\"convertToInteractive('df-2821575c-3ad6-4a64-80d9-d7edf17d9530')\"\n",
              "              title=\"Convert this dataframe to an interactive table.\"\n",
              "              style=\"display:none;\">\n",
              "        \n",
              "  <svg xmlns=\"http://www.w3.org/2000/svg\" height=\"24px\"viewBox=\"0 0 24 24\"\n",
              "       width=\"24px\">\n",
              "    <path d=\"M0 0h24v24H0V0z\" fill=\"none\"/>\n",
              "    <path d=\"M18.56 5.44l.94 2.06.94-2.06 2.06-.94-2.06-.94-.94-2.06-.94 2.06-2.06.94zm-11 1L8.5 8.5l.94-2.06 2.06-.94-2.06-.94L8.5 2.5l-.94 2.06-2.06.94zm10 10l.94 2.06.94-2.06 2.06-.94-2.06-.94-.94-2.06-.94 2.06-2.06.94z\"/><path d=\"M17.41 7.96l-1.37-1.37c-.4-.4-.92-.59-1.43-.59-.52 0-1.04.2-1.43.59L10.3 9.45l-7.72 7.72c-.78.78-.78 2.05 0 2.83L4 21.41c.39.39.9.59 1.41.59.51 0 1.02-.2 1.41-.59l7.78-7.78 2.81-2.81c.8-.78.8-2.07 0-2.86zM5.41 20L4 18.59l7.72-7.72 1.47 1.35L5.41 20z\"/>\n",
              "  </svg>\n",
              "      </button>\n",
              "      \n",
              "  <style>\n",
              "    .colab-df-container {\n",
              "      display:flex;\n",
              "      flex-wrap:wrap;\n",
              "      gap: 12px;\n",
              "    }\n",
              "\n",
              "    .colab-df-convert {\n",
              "      background-color: #E8F0FE;\n",
              "      border: none;\n",
              "      border-radius: 50%;\n",
              "      cursor: pointer;\n",
              "      display: none;\n",
              "      fill: #1967D2;\n",
              "      height: 32px;\n",
              "      padding: 0 0 0 0;\n",
              "      width: 32px;\n",
              "    }\n",
              "\n",
              "    .colab-df-convert:hover {\n",
              "      background-color: #E2EBFA;\n",
              "      box-shadow: 0px 1px 2px rgba(60, 64, 67, 0.3), 0px 1px 3px 1px rgba(60, 64, 67, 0.15);\n",
              "      fill: #174EA6;\n",
              "    }\n",
              "\n",
              "    [theme=dark] .colab-df-convert {\n",
              "      background-color: #3B4455;\n",
              "      fill: #D2E3FC;\n",
              "    }\n",
              "\n",
              "    [theme=dark] .colab-df-convert:hover {\n",
              "      background-color: #434B5C;\n",
              "      box-shadow: 0px 1px 3px 1px rgba(0, 0, 0, 0.15);\n",
              "      filter: drop-shadow(0px 1px 2px rgba(0, 0, 0, 0.3));\n",
              "      fill: #FFFFFF;\n",
              "    }\n",
              "  </style>\n",
              "\n",
              "      <script>\n",
              "        const buttonEl =\n",
              "          document.querySelector('#df-2821575c-3ad6-4a64-80d9-d7edf17d9530 button.colab-df-convert');\n",
              "        buttonEl.style.display =\n",
              "          google.colab.kernel.accessAllowed ? 'block' : 'none';\n",
              "\n",
              "        async function convertToInteractive(key) {\n",
              "          const element = document.querySelector('#df-2821575c-3ad6-4a64-80d9-d7edf17d9530');\n",
              "          const dataTable =\n",
              "            await google.colab.kernel.invokeFunction('convertToInteractive',\n",
              "                                                     [key], {});\n",
              "          if (!dataTable) return;\n",
              "\n",
              "          const docLinkHtml = 'Like what you see? Visit the ' +\n",
              "            '<a target=\"_blank\" href=https://colab.research.google.com/notebooks/data_table.ipynb>data table notebook</a>'\n",
              "            + ' to learn more about interactive tables.';\n",
              "          element.innerHTML = '';\n",
              "          dataTable['output_type'] = 'display_data';\n",
              "          await google.colab.output.renderOutput(dataTable, element);\n",
              "          const docLink = document.createElement('div');\n",
              "          docLink.innerHTML = docLinkHtml;\n",
              "          element.appendChild(docLink);\n",
              "        }\n",
              "      </script>\n",
              "    </div>\n",
              "  </div>\n",
              "  "
            ]
          },
          "metadata": {},
          "execution_count": 13
        }
      ]
    },
    {
      "cell_type": "markdown",
      "metadata": {
        "id": "yxHu82qoHS1I"
      },
      "source": [
        "__Задание 6 (2 балла):__ Каждое уникальное слово текста представляет собой признак. Посчитайте, сколько в обучающих текстах есть уникальных слов, отобразите график (plot) частот встречаемости слов в обучающей коллекции, \n",
        "отсортировав слова по убыванию частоты встречаемости (по оси X идут все слова из словаря коллекции в порядке убывания частоты встречаемости, по оси Y указываются значения частот).\n",
        "\n",
        "Для уменьшения признакового пространства словарь фильтруют. Удалите из словаря\n",
        "\n",
        "- все слова, встречающиеся более 9000-х раз\n",
        "- все слова, встречающиеся менее 3-х раз\n",
        "- все слова длиной менее 3 символов\n",
        "- все слова длиной более 20 символов\n",
        "- все слова, состоящие из одного и того же символа\n",
        "\n",
        "Профильтруйте обучающую коллекцию по новому словарю и снова посчитайте число уникальных слов в словаре и снова постройте гистограмму частот."
      ]
    },
    {
      "cell_type": "code",
      "execution_count": 14,
      "metadata": {
        "id": "C02bG-44HS1J"
      },
      "outputs": [],
      "source": [
        "from collections import Counter\n",
        "import matplotlib.pyplot as plt\n",
        "\n",
        "all_words = []\n",
        "for text in df['pp_text']:\n",
        "    all_words += text\n",
        "vocabulary = Counter(all_words)\n",
        "\n",
        "def plot(vocabulary, title, ticks):\n",
        "    plt.bar(range(len(vocabulary)), list(vocabulary.values()), align='center')\n",
        "    plt.xticks(range(0, len(vocabulary), ticks), list(vocabulary.keys())[::ticks])\n",
        "    plt.ylim(0, 700)\n",
        "    plt.xlabel('Words')\n",
        "    plt.ylabel('Number of words')\n",
        "    plt.title(title)\n",
        "    plt.show()\n",
        "\n",
        "def task_6():\n",
        "    filtered = set()\n",
        "    for word in vocabulary.keys():\n",
        "        if not (vocabulary[word] > 9000 or vocabulary[word] < 3 or len(word) < 3 or len(word) > 20 or len(set(word)) == 1):\n",
        "            filtered.add(word)\n",
        "\n",
        "    num_words = len(vocabulary.keys())\n",
        "    num_filtered_words = len(filtered)\n",
        "\n",
        "    filtered_vocabulary = {word: vocabulary[word] for word in filtered}\n",
        "    filtered_vocabulary = dict(sorted(filtered_vocabulary.items(), key=lambda x: x[1], reverse=True))\n",
        "    \n",
        "    plot(dict(sorted(vocabulary.items(), key=lambda x: x[1], reverse=True)), 'Word distribution before filtering', 18000)\n",
        "    plot(filtered_vocabulary, 'Word distribution after filtering', 10000)\n",
        "\n",
        "    return filtered_vocabulary"
      ]
    },
    {
      "cell_type": "code",
      "source": [
        "filtered_vocabulary = task_6()"
      ],
      "metadata": {
        "colab": {
          "base_uri": "https://localhost:8080/",
          "height": 927
        },
        "id": "GNVLvzy4GuNC",
        "outputId": "6499df91-5227-4b54-d2bf-639b5894333d"
      },
      "execution_count": 15,
      "outputs": [
        {
          "output_type": "display_data",
          "data": {
            "text/plain": [
              "<Figure size 640x480 with 1 Axes>"
            ],
            "image/png": "[encoded data removed]"
          },
          "metadata": {}
        },
        {
          "output_type": "display_data",
          "data": {
            "text/plain": [
              "<Figure size 640x480 with 1 Axes>"
            ],
            "image/png": "[encoded data removed]"
          },
          "metadata": {}
        }
      ]
    },
    {
      "cell_type": "markdown",
      "metadata": {
        "id": "VZlC5T9dHS1K"
      },
      "source": [
        "__Задание 7 (1.5 балла):__ Для построения моделей данные нужно перевести в числовой вид. Для этого воспользуйтесь представлением \"мешка слов\", в котором признаками являются слова, а значениями - частоты их встречаемости в документе. Построить представление мешка слов можно с помощью класса CountVectorizer из sklearn. Подготовьте векторизатор, подав ему обучающие текстовые данные из `data` (приведите тексты к формату входа векторизатора) и полученный выше словарь.\n",
        "\n",
        "Примените полученный векторизатор к обучающим и тестовым данным, на выходе должны получиться два numpy array (первая размерность - число объектов, вторая - число слов в словаре)."
      ]
    },
    {
      "cell_type": "code",
      "source": [
        "vocabulary = dict(sorted(vocabulary.items(), key=lambda x: x[1], reverse=True))\n",
        "\n",
        "new_vocabulary = {}\n",
        "i = len(vocabulary) - 1\n",
        "for item in vocabulary.keys():\n",
        "    new_vocabulary[item] = i\n",
        "    i -= 1"
      ],
      "metadata": {
        "id": "mO2MG15iWbSA"
      },
      "execution_count": 16,
      "outputs": []
    },
    {
      "cell_type": "code",
      "execution_count": 17,
      "metadata": {
        "id": "m1Dbaw8QHS1K"
      },
      "outputs": [],
      "source": [
        "from sklearn.feature_extraction.text import CountVectorizer\n",
        "\n",
        "def task_7():\n",
        "    corpus_train = []\n",
        "    for item in df[df['is_train']]['pp_text'].values:\n",
        "        corpus_train.append(' '.join(item))\n",
        "\n",
        "    corpus_test = []\n",
        "    for item in df[df['is_train'] == False]['pp_text'].values:\n",
        "        corpus_test.append(' '.join(item))\n",
        "\n",
        "    vectorizer = CountVectorizer(vocabulary=new_vocabulary)\n",
        "\n",
        "    X_train = vectorizer.fit_transform(corpus_train)\n",
        "    vocab = vectorizer.vocabulary_\n",
        "\n",
        "    X_train = vectorizer.transform(corpus_train)\n",
        "    X_test = vectorizer.transform(corpus_test)\n",
        "\n",
        "    X_train = X_train.toarray()\n",
        "    X_test = X_test.toarray()\n",
        "\n",
        "    assert len(vectorizer.vocabulary_) == len(vocabulary)\n",
        "\n",
        "    return X_train, X_test"
      ]
    },
    {
      "cell_type": "code",
      "source": [
        "X_train, X_test = task_7()"
      ],
      "metadata": {
        "id": "nFwCH7XSR5tf"
      },
      "execution_count": 18,
      "outputs": []
    },
    {
      "cell_type": "markdown",
      "metadata": {
        "id": "uv7sYGDtHS1L"
      },
      "source": [
        "__Задание 8 (1.5 балла):__ Модель логистической регрессии хорошо работает для простых задач классификации текстов, примените её к полученным данным. Для этого настройте модель на обучающих данных, сделайте предсказание для тестовых и измерьте качество с помощью метрик accuracy и F1-score с микро- и макро-усреднением. Попробуйте подобрать оптимальное значение коэффициента регуляризации С с помощью GridSearchCV."
      ]
    },
    {
      "cell_type": "markdown",
      "source": [
        "*Модель логистической регрессии есть в другом ноутбуке*"
      ],
      "metadata": {
        "id": "A_69CU71Q-Qk"
      }
    },
    {
      "cell_type": "code",
      "execution_count": 10,
      "metadata": {
        "id": "Xbed1z4IHS1M"
      },
      "outputs": [],
      "source": [
        "from sklearn.linear_model import LogisticRegression\n",
        "from sklearn.metrics import accuracy_score, f1_score\n",
        "from sklearn.model_selection import GridSearchCV\n",
        "\n",
        "def task_8():\n",
        "    # vectorizer = ...\n",
        "    pass\n",
        "\n",
        "    # assert len(vectorizer) == len(vocabulary)"
      ]
    },
    {
      "cell_type": "markdown",
      "metadata": {
        "id": "rhcO20eiHS1N"
      },
      "source": [
        "__Задание 9 (1.5 балл):__ Ошибки классификации удобно анализировать с помощью матрицы ошибок. Сделав предсказание на тесте постройте и визуализируйте эту матрицу с помощью функции plot_confusion_matrix в двух вариантах: с абсолютными и относительными (нормированными) значеними. Определите классы, которые чаще всего путаются между собой."
      ]
    },
    {
      "cell_type": "code",
      "execution_count": null,
      "metadata": {
        "id": "gyAxD7WPHS1O"
      },
      "outputs": [],
      "source": [
        "from sklearn.metrics import plot_confusion_matrix\n",
        "\n",
        "def task_9():\n",
        "    pass"
      ]
    },
    {
      "cell_type": "markdown",
      "metadata": {
        "id": "WAu6MZjTHS1P"
      },
      "source": [
        "__Задание 10 (2.5 балла):__ Установите библиотеку XGBoost и обучите модель градиентного бустинга для решения поставленной задачи классификации. Попробуйте подобрать оптимальную модель, выбрав 2-3 важных параметра обучения. Укажите, какие параметры в большей, а какие - в меньшей степени оказали влияние на итоговое качество модели."
      ]
    },
    {
      "cell_type": "code",
      "execution_count": null,
      "metadata": {
        "id": "inxXuGZgHS1P"
      },
      "outputs": [],
      "source": [
        "from xgboost import XGBClassifier\n",
        "\n",
        "def task_10():\n",
        "    pass"
      ]
    },
    {
      "cell_type": "markdown",
      "metadata": {
        "id": "Kz0_5agLHS1Q"
      },
      "source": [
        "__Задание 11 (3 балла):__ Часто в обработке текстов возникает задача выделения тем, обсуждаемых в них. Одним из способов решения это задачи является кластеризация графа совстречаемостей слов. Для текстов, находящихся в поле `pp_text` постройте словарь \"слово\" в \"слово\" в \"счетчик совстречаемости\", для слова A и B достаточно хранить A -> B -> counter, хранить B -> A -> counter не нужно. Счетчик увеличивается на 1, если пара слов встретилась в одном тексте внутри окна с длиной 10 слов."
      ]
    },
    {
      "cell_type": "code",
      "execution_count": null,
      "metadata": {
        "id": "ebXKvCgxHS1R"
      },
      "outputs": [],
      "source": [
        "def task_11():\n",
        "    pass"
      ]
    },
    {
      "cell_type": "markdown",
      "metadata": {
        "id": "aEWxYRD6HS1S"
      },
      "source": [
        "__Задание 12 (3 балла):__ Приняв каждое слово за вершину, а ребра между ними - за наличие совместной встречаемости, постройте граф совстречаемостей. Все ребра равнозначны, ребро добавляется между словами, если значение счетчика совместной встречамости этих слов выше заданного порога T. Примените к получившему графу алгоритм выделения сообществ greedy_modularity_communities из библиотеки NetworkX и напечайте получившиеся вообщества. Можно ли их как-то интерпретировать?\n",
        "\n",
        "Пробуйте варьировать значение T от 70 до 120 и удалять слишком большие (и потому заведомо бесполезные) сообщества и сообщества из 1 слова."
      ]
    },
    {
      "cell_type": "code",
      "execution_count": null,
      "metadata": {
        "id": "s4n_L-WVHS1T"
      },
      "outputs": [],
      "source": [
        "from networkx import Graph\n",
        "from networkx.algorithms import community\n",
        "\n",
        "def task_12():\n",
        "    # community.greedy_modularity_communities(...)\n",
        "    pass"
      ]
    }
  ],
  "metadata": {
    "kernelspec": {
      "display_name": "Python 3",
      "language": "python",
      "name": "python3"
    },
    "language_info": {
      "codemirror_mode": {
        "name": "ipython",
        "version": 3
      },
      "file_extension": ".py",
      "mimetype": "text/x-python",
      "name": "python",
      "nbconvert_exporter": "python",
      "pygments_lexer": "ipython3",
      "version": "3.8.8"
    },
    "colab": {
      "provenance": []
    },
    "gpuClass": "standard"
  },
  "nbformat": 4,
  "nbformat_minor": 0
}