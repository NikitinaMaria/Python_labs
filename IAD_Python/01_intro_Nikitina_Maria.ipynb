{
  "cells": [
    {
      "cell_type": "markdown",
      "metadata": {
        "id": "PgG9ip9lfISm"
      },
      "source": [
        "## Домашнее задание №1 (курс \"Практикум по программированию на языке Python\")"
      ]
    },
    {
      "cell_type": "markdown",
      "metadata": {
        "id": "jlqBOklRfISo"
      },
      "source": [
        "### Выполнил: <font color='red'>Никитина Мария Александровна, МФТИ, ФПМИ</font>\n",
        "\n",
        "### Тема: Введение в язык Python\n",
        "\n",
        "**Автор**: Мурат Апишев\n",
        "\n",
        "**Выдана**:   16 февраля 2023\n",
        "\n",
        "**Дедлайн**:  21:00 3 марта 2023\n",
        "\n",
        "**Среда выполнения**: Jupyter Notebook (Python 3.7+)\n",
        "\n",
        "#### Правила:\n",
        "\n",
        "Результат выполнения задания - Jupyter Notebook с кодом. __Максимальное число баллов за задание - 20__.\n",
        "\n",
        "Все ячейки должны быть \"выполненными\", при этом результат должен воспроизводиться при проверке (на Python 3.7). Если какой-то код не был запущен или отрабатывает с ошибками, то пункт не засчитывается. Задание, сданное после дедлайна, _не принимается_. Можно отправить недоделанное задание, выполненные пункты будут оценены.\n",
        "\n",
        "Готовое задание отправляется на почту mel-lain@yandex.ru.\n",
        "\n",
        "Задание выполняется самостоятельно. Если какие-то студенты будут уличены в списывании, все они автоматически получат за эту работу 0 баллов. Если вы нашли в Интернете какой-то специфичный код, который собираетесь заимствовать, обязательно укажите это в задании - наверняка вы не единственный, кто найдёт и использует эту информацию.\n",
        "\n",
        "__Удалять фрагменты формулировок заданий запрещается.__"
      ]
    },
    {
      "cell_type": "markdown",
      "metadata": {
        "id": "LHKnfth2fISo"
      },
      "source": [
        "#### Постановка задачи:\n",
        "\n",
        "- В данной работе нужно решить набор задач, проверяющих владение базовыми инструментами языка.\n",
        "- Каждая задача представляет собой написание одной или более функций, а также набора тестов, проверяющих работу этой функции в общих и крайних случаях.\n",
        "- Отсутствие тестов автоматически уменьшает количество баллов за задание как минимум в два раза, некачественные тесты также будут штрафоваться.\n",
        "- Если в задании указано использовать несколько разных вариантов решения, подразумевается использование различных инструментов (циклы, списковые включения, генераторы, встроенные функции, функции модулей стандартной библотеки и т.п.), замена, например, цикла for на цикл while не является иным способом решения.\n",
        "- Даже если это не указано явно в требованиях, код должен быть по возможности неизбыточным, работать с разумной сложностью и объёмом потребялемой памяти, проверяющие могут снизить балл за задание, выполненное без учёта этого требования.\n",
        "- Результирующий код должен быть читаемым, с единой системой отступов и адеквантными названиями переменных, проверяющие могут снизить балл за задание, выполненное без учёта этого требования."
      ]
    },
    {
      "cell_type": "markdown",
      "metadata": {
        "id": "GR8kTQQGfISp"
      },
      "source": [
        "__Задание 1 (0.5 балла):__ Дано натуральное число. Требуется определить, является ли год с данным номером високосным. Если год является високосным, то выведите YES, иначе выведите NO. Напомним, что в соответствии с григорианским календарем, год является високосным, если его номер кратен 4, но не кратен 100, а также если он кратен 400."
      ]
    },
    {
      "cell_type": "code",
      "execution_count": null,
      "metadata": {
        "id": "R4PPcDwHfISp"
      },
      "outputs": [],
      "source": [
        "def task_01_func(year):\n",
        "    if year % 400 == 0 or (year % 100 != 0 and year % 4 == 0):\n",
        "        print('YES')\n",
        "    else:\n",
        "        print('NO')"
      ]
    },
    {
      "cell_type": "code",
      "source": [
        "task_01_func(2023)\n",
        "task_01_func(2000)\n",
        "task_01_func(1900)\n",
        "task_01_func(2020)\n",
        "task_01_func(1968)"
      ],
      "metadata": {
        "colab": {
          "base_uri": "https://localhost:8080/"
        },
        "id": "O3tw9DQNiJ-D",
        "outputId": "ccc05717-d02d-4928-ba18-f5782739a471"
      },
      "execution_count": null,
      "outputs": [
        {
          "output_type": "stream",
          "name": "stdout",
          "text": [
            "NO\n",
            "YES\n",
            "NO\n",
            "YES\n",
            "YES\n"
          ]
        }
      ]
    },
    {
      "cell_type": "markdown",
      "metadata": {
        "id": "BOkU41n7fISq"
      },
      "source": [
        "__Задание 2 (0.5 балла):__ Дано натуральное число. Найдите число знаков в его десятичной записи. Предложите как минимум два различных решения."
      ]
    },
    {
      "cell_type": "code",
      "execution_count": null,
      "metadata": {
        "id": "xINvavyPfISq"
      },
      "outputs": [],
      "source": [
        "def task_02_func(number):\n",
        "    count = 0\n",
        "    while number > 0:\n",
        "        number //= 10\n",
        "        count += 1\n",
        "    return count\n",
        "\n",
        "def task_02_func_2(number):\n",
        "    # int is needed in order to correctly calculate the length of numbers \n",
        "    # in exponential form like 5e+20\n",
        "    num = str(int(number))\n",
        "    return (len(num))"
      ]
    },
    {
      "cell_type": "code",
      "source": [
        "print(task_02_func(1), ' ', task_02_func_2(1))\n",
        "print(task_02_func(100000), ' ', task_02_func_2(100000))\n",
        "print(task_02_func(74850894357), ' ', task_02_func_2(74850894357))\n",
        "print(task_02_func(5e+20), ' ', task_02_func_2(5e+20))"
      ],
      "metadata": {
        "colab": {
          "base_uri": "https://localhost:8080/"
        },
        "id": "QmUJ38kElxar",
        "outputId": "d94f7b73-8e80-4ada-d9cf-40e9a8ceb74e"
      },
      "execution_count": null,
      "outputs": [
        {
          "output_type": "stream",
          "name": "stdout",
          "text": [
            "1   1\n",
            "6   6\n",
            "11   11\n",
            "21   21\n"
          ]
        }
      ]
    },
    {
      "cell_type": "markdown",
      "metadata": {
        "id": "Csrch8FLfISr"
      },
      "source": [
        "__Задание 3 (0.5 балла):__ По данному натуральном n вычислите сумму 1!+2!+3!+...+n!. В решении этой задачи с помощью циклов можно использовать только один цикл. Предложите как минимум два различных решения."
      ]
    },
    {
      "cell_type": "code",
      "execution_count": null,
      "metadata": {
        "collapsed": true,
        "id": "5peW45g4fISr"
      },
      "outputs": [],
      "source": [
        "from math import factorial\n",
        "\n",
        "def task_03_func(n):\n",
        "    sum = 0\n",
        "    add = 1\n",
        "    for i in range(n):\n",
        "        add *= i + 1\n",
        "        sum += add\n",
        "    return sum\n",
        "\n",
        "def task_03_func_2(n):\n",
        "    lst = [factorial(x + 1) for x in range(n)]\n",
        "    return sum(lst)"
      ]
    },
    {
      "cell_type": "code",
      "source": [
        "print(task_03_func(1), ' ', task_03_func_2(1))\n",
        "print(task_03_func(5), ' ', task_03_func_2(5))\n",
        "print(task_03_func(10), ' ', task_03_func_2(10))"
      ],
      "metadata": {
        "colab": {
          "base_uri": "https://localhost:8080/"
        },
        "id": "vWMO22DDq_Yd",
        "outputId": "8ec42526-9149-42ba-8671-1dbc0ff65373"
      },
      "execution_count": null,
      "outputs": [
        {
          "output_type": "stream",
          "name": "stdout",
          "text": [
            "1   1\n",
            "153   153\n",
            "4037913   4037913\n"
          ]
        }
      ]
    },
    {
      "cell_type": "markdown",
      "metadata": {
        "id": "P8JoMjpCfISr"
      },
      "source": [
        "__Задание 4 (0.5 балла):__ Определить, является ли введённая строка палиндромом (то есть одинаково читается с обеих сторон). Предложите как минимум три различных решения."
      ]
    },
    {
      "cell_type": "code",
      "execution_count": null,
      "metadata": {
        "collapsed": true,
        "id": "NtG0DPVJfISs"
      },
      "outputs": [],
      "source": [
        "def task_04_func(s):\n",
        "    for i in range(len(s) // 2):\n",
        "        if s[i] != s[len(s) - 1 - i]:\n",
        "            print(s, ' isn\\'t a palindrome')\n",
        "            break\n",
        "    else:\n",
        "        print(s, ' is a palindrome')\n",
        "\n",
        "def task_04_func_2(s):\n",
        "    if s == s[::-1]:\n",
        "        print(s, ' is a palindrome')\n",
        "    else:\n",
        "        print(s, ' isn\\'t a palindrome')\n",
        "\n",
        "# from https://pythobyte.com/python-palindrome-59613/\n",
        "def task_04_func_3(s):\n",
        "    reversed_s = ''.join(reversed(s))\n",
        "    if reversed_s == s:\n",
        "        print(s,' is a palindrome')\n",
        "    else:\n",
        "        print(s, ' isn\\'t a palindrome')"
      ]
    },
    {
      "cell_type": "code",
      "source": [
        "print('Tests of the first function:')\n",
        "task_04_func('Taco cat')\n",
        "task_04_func('Tac o cat')\n",
        "task_04_func('tac o cat')\n",
        "task_04_func('tac_o_cat')\n",
        "task_04_func('level')\n",
        "task_04_func('level_')\n",
        "task_04_func('Some_words')\n",
        "print()\n",
        "\n",
        "print('Tests of the second function:')\n",
        "task_04_func_2('Taco cat')\n",
        "task_04_func_2('Tac o cat')\n",
        "task_04_func_2('tac o cat')\n",
        "task_04_func_2('tac_o_cat')\n",
        "task_04_func_2('level')\n",
        "task_04_func_2('level_')\n",
        "task_04_func_2('Some_words')\n",
        "print()\n",
        "\n",
        "print('Tests of the third function:')\n",
        "task_04_func_3('Taco cat')\n",
        "task_04_func_3('Tac o cat')\n",
        "task_04_func_3('tac o cat')\n",
        "task_04_func_3('tac_o_cat')\n",
        "task_04_func_3('level')\n",
        "task_04_func_3('level_')\n",
        "task_04_func_3('Some_words')"
      ],
      "metadata": {
        "colab": {
          "base_uri": "https://localhost:8080/"
        },
        "id": "VAbjul5eMUfB",
        "outputId": "2b154449-41f9-4518-dfe4-4a80102751cd"
      },
      "execution_count": null,
      "outputs": [
        {
          "output_type": "stream",
          "name": "stdout",
          "text": [
            "Tests of the first function:\n",
            "Taco cat  isn't a palindrome\n",
            "Tac o cat  isn't a palindrome\n",
            "tac o cat  is a palindrome\n",
            "tac_o_cat  is a palindrome\n",
            "level  is a palindrome\n",
            "level_  isn't a palindrome\n",
            "Some_words  isn't a palindrome\n",
            "\n",
            "Tests of the second function:\n",
            "Taco cat  isn't a palindrome\n",
            "Tac o cat  isn't a palindrome\n",
            "tac o cat  is a palindrome\n",
            "tac_o_cat  is a palindrome\n",
            "level  is a palindrome\n",
            "level_  isn't a palindrome\n",
            "Some_words  isn't a palindrome\n",
            "\n",
            "Tests of the third function:\n",
            "Taco cat  isn't a palindrome\n",
            "Tac o cat  isn't a palindrome\n",
            "tac o cat  is a palindrome\n",
            "tac_o_cat  is a palindrome\n",
            "level  is a palindrome\n",
            "level_  isn't a palindrome\n",
            "Some_words  isn't a palindrome\n"
          ]
        }
      ]
    },
    {
      "cell_type": "markdown",
      "metadata": {
        "id": "cW-nwmcPfISs"
      },
      "source": [
        "__Задание 5 (1 балл):__ Дан текст в виде строки. Напишите функцию, которая возвращает словарь, где ключами являются уникальные слова из этого текста, а значениями - число раз, которое данное слово встретилось в тексте. Считать, что слова разделяются пробелами. Предложите как минимум два различных решения."
      ]
    },
    {
      "cell_type": "code",
      "execution_count": null,
      "metadata": {
        "collapsed": true,
        "id": "HUkeh7kzfISs"
      },
      "outputs": [],
      "source": [
        "from collections import Counter\n",
        "\n",
        "def task_05_func(text):\n",
        "    return dict(Counter(text.split()))\n",
        "\n",
        "def task_05_func_2(text):\n",
        "    words = text.split()\n",
        "    d = dict.fromkeys(words)\n",
        "    for word in words:\n",
        "        if d[word] == None:\n",
        "            d[word] = 1\n",
        "        else:\n",
        "            d[word] += 1\n",
        "    return d"
      ]
    },
    {
      "cell_type": "code",
      "source": [
        "print('Tests of the first function:')\n",
        "print(task_05_func('Taco cat'))\n",
        "# commas for beauty\n",
        "print(task_05_func('to be, or not to be, that is the question'))\n",
        "print(task_05_func(' '))\n",
        "print(task_05_func('cat cat cat cat cat cats'))\n",
        "print(task_05_func('cat and 5 cats'))\n",
        "print()\n",
        "\n",
        "print('Tests of the second function:')\n",
        "print(task_05_func_2('Taco cat'))\n",
        "print(task_05_func_2('to be, or not to be, that is the question'))\n",
        "print(task_05_func_2(' '))\n",
        "print(task_05_func_2('cat cat cat cat cat cats'))\n",
        "print(task_05_func_2('cat and 5 cats'))"
      ],
      "metadata": {
        "colab": {
          "base_uri": "https://localhost:8080/"
        },
        "id": "5CmDnjmoabrQ",
        "outputId": "a7e92e81-555d-4d7b-a2f4-9fd73e004c09"
      },
      "execution_count": null,
      "outputs": [
        {
          "output_type": "stream",
          "name": "stdout",
          "text": [
            "Tests of the first function:\n",
            "{'Taco': 1, 'cat': 1}\n",
            "{'to': 2, 'be,': 2, 'or': 1, 'not': 1, 'that': 1, 'is': 1, 'the': 1, 'question': 1}\n",
            "{}\n",
            "{'cat': 5, 'cats': 1}\n",
            "{'cat': 1, 'and': 1, '5': 1, 'cats': 1}\n",
            "\n",
            "Tests of the second function:\n",
            "{'Taco': 1, 'cat': 1}\n",
            "{'to': 2, 'be,': 2, 'or': 1, 'not': 1, 'that': 1, 'is': 1, 'the': 1, 'question': 1}\n",
            "{}\n",
            "{'cat': 5, 'cats': 1}\n",
            "{'cat': 1, 'and': 1, '5': 1, 'cats': 1}\n"
          ]
        }
      ]
    },
    {
      "cell_type": "markdown",
      "metadata": {
        "id": "3ved1U6SfISs"
      },
      "source": [
        "__Задание 6 (1 балл):__ Напишите функцию, которая принимает на вход строку и символ и возвращает:\n",
        "\n",
        "- если символ встретился в строке один раз - кортеж (индекс вхождения, None);\n",
        "- если два и более раз - кортеж (индекс первого вхождения, индекс последнего вхождения);\n",
        "- если ни разу - кортеж (None, None).\n",
        "\n",
        "Запрещается делать более одного прохода по каждому элементу строки."
      ]
    },
    {
      "cell_type": "code",
      "execution_count": null,
      "metadata": {
        "collapsed": true,
        "id": "InlB9Ny4fISt"
      },
      "outputs": [],
      "source": [
        "def task_06_func(input_str, input_char):\n",
        "    start = input_str.find(input_char)\n",
        "    if start == -1:\n",
        "        return (None, None)\n",
        "    finish = input_str.rfind(input_char, start + 1)\n",
        "    if finish == -1:\n",
        "        return (start, None)\n",
        "    return (start, finish)"
      ]
    },
    {
      "cell_type": "code",
      "source": [
        "print(task_06_func('Taco cat', 'c'))\n",
        "print(task_06_func('Taco cat', '1'))\n",
        "print(task_06_func('Taco cat', 'T'))\n",
        "print(task_06_func('Lalalalala', 'l'))\n",
        "print(task_06_func(' ', ' '))"
      ],
      "metadata": {
        "colab": {
          "base_uri": "https://localhost:8080/"
        },
        "id": "46dmrAd9jMpI",
        "outputId": "5bdbb186-e530-4dcb-f034-aa776a27d06d"
      },
      "execution_count": null,
      "outputs": [
        {
          "output_type": "stream",
          "name": "stdout",
          "text": [
            "(2, 5)\n",
            "(None, None)\n",
            "(0, None)\n",
            "(2, 8)\n",
            "(0, None)\n"
          ]
        }
      ]
    },
    {
      "cell_type": "markdown",
      "metadata": {
        "id": "3yVDWM2wfISt"
      },
      "source": [
        "__Задание 7 (1 балл):__ Дан список целых чисел. Напишите функцию, которая возвращает копию этого списка, из которой удалены отрицательные числа, а все прочие числа возведены в квадрат. Также возвращаемая последовательность должна быть отсортирована по убыванию. Предложите как минимум три различных решения."
      ]
    },
    {
      "cell_type": "code",
      "execution_count": null,
      "metadata": {
        "collapsed": true,
        "id": "qLL1RgCAfISt"
      },
      "outputs": [],
      "source": [
        "def task_07_func(lst):\n",
        "    lst = [x ** 2 for x in lst if x >=0]\n",
        "    return sorted(lst, reverse=True)\n",
        "\n",
        "def task_07_func_2(lst):\n",
        "    f = filter(lambda x: x >= 0, lst)\n",
        "    lst = list(f)\n",
        "    for i in range(len(lst)):\n",
        "        lst[i] = lst[i] ** 2\n",
        "    lst.sort(reverse=True)\n",
        "    return lst\n",
        "\n",
        "# Taken from the website\n",
        "# https://tproger.ru/translations/sorting-algorithms-in-python/\n",
        "def selection_sort(nums):\n",
        "    for i in range(len(nums)):\n",
        "        max_value_index = i\n",
        "        for j in range(i + 1, len(nums)):\n",
        "            if nums[j] > nums[max_value_index]:\n",
        "                max_value_index = j\n",
        "        nums[i], nums[max_value_index] = nums[max_value_index], nums[i]\n",
        "\n",
        "def task_07_func_3(lst):\n",
        "    i = len(lst) - 1\n",
        "    while i >= 0:\n",
        "        if lst[i] < 0:\n",
        "            lst.pop(i)\n",
        "        else:\n",
        "            lst[i] = lst[i] ** 2\n",
        "        i -= 1\n",
        "    selection_sort(lst)\n",
        "    return lst"
      ]
    },
    {
      "cell_type": "code",
      "source": [
        "print('Tests of the first function:')\n",
        "print(task_07_func([5, 2, 7, -9, -1]))\n",
        "print(task_07_func([-1, -5, -2, -4, -3]))\n",
        "print(task_07_func([1, 2, 3, 4, 5, 6, 7]))\n",
        "print(task_07_func([-10, 10, -5, 7, 5, -7]), '\\n')\n",
        "\n",
        "print('Tests of the second function:')\n",
        "print(task_07_func_2([5, 2, 7, -9, -1]))\n",
        "print(task_07_func_2([-1, -5, -2, -4, -3]))\n",
        "print(task_07_func_2([1, 2, 3, 4, 5, 6, 7]))\n",
        "print(task_07_func_2([-10, 10, -5, 7, 5, -7]), '\\n')\n",
        "\n",
        "print('Tests of the third function:')\n",
        "print(task_07_func_3([5, 2, 7, -9, -1]))\n",
        "print(task_07_func_3([-1, -5, -2, -4, -3]))\n",
        "print(task_07_func_3([1, 2, 3, 4, 5, 6, 7]))\n",
        "print(task_07_func_3([-10, 10, -5, 7, 5, -7]), '\\n')"
      ],
      "metadata": {
        "colab": {
          "base_uri": "https://localhost:8080/"
        },
        "id": "Dgqovtcgm1Mv",
        "outputId": "dfb5bb68-9ffa-4e31-fa39-39758f3eee86"
      },
      "execution_count": null,
      "outputs": [
        {
          "output_type": "stream",
          "name": "stdout",
          "text": [
            "Tests of the first function:\n",
            "[49, 25, 4]\n",
            "[]\n",
            "[49, 36, 25, 16, 9, 4, 1]\n",
            "[100, 49, 25] \n",
            "\n",
            "Tests of the second function:\n",
            "[49, 25, 4]\n",
            "[]\n",
            "[49, 36, 25, 16, 9, 4, 1]\n",
            "[100, 49, 25] \n",
            "\n",
            "Tests of the third function:\n",
            "[49, 25, 4]\n",
            "[]\n",
            "[49, 36, 25, 16, 9, 4, 1]\n",
            "[100, 49, 25] \n",
            "\n"
          ]
        }
      ]
    },
    {
      "cell_type": "markdown",
      "metadata": {
        "id": "lH1-wIpdfISt"
      },
      "source": [
        "__Задание 8 (1 балл):__ Напишите функцию, которая принимает на вход список кортежей одинаковой длины и индекс `index` элемента в кортеже и возвращает генератор, итерирование по которому позволит получит все кортежи входного списка, отсортированные по убыванию элементов этих кортежей с индексом `index`."
      ]
    },
    {
      "cell_type": "code",
      "execution_count": null,
      "metadata": {
        "id": "6Wp6-sQ6fISt"
      },
      "outputs": [],
      "source": [
        "def task_08_func(lst, index):\n",
        "    lst.sort(key=lambda x: x[index], reverse=True)\n",
        "    for i in range(len(lst)):\n",
        "        yield lst[i]"
      ]
    },
    {
      "cell_type": "code",
      "source": [
        "for e in task_08_func([(1, 2, 3), (5, 7, 1), (7, 1, 7), (0, 1, 0), (5, -5, 5)], 1):\n",
        "    print(e, end='   ')\n",
        "print()\n",
        "\n",
        "for e in task_08_func([(1, 2, 3), (5, 7, 1), (7, 1, 7), (0, 1, 0), (5, -5, 5)], 0):\n",
        "    print(e, end='   ')\n",
        "print()\n",
        "\n",
        "for e in task_08_func([], 1):\n",
        "    print(e, end='   ')\n",
        "print(None)\n",
        "\n",
        "for e in task_08_func([(1, 2, 3, 4, 5)], 1):\n",
        "    print(e, end='   ')\n",
        "print()\n",
        "\n",
        "for e in task_08_func([('Cat', 'Murka', 5), ('Dog', 'Max', 17), \n",
        "                       ('Cat', 'Barsik', 7), ('Horse', 'Star', 450), \n",
        "                       ('Dog', 'Laika', 15)], 1):\n",
        "    print(e, end='   ')"
      ],
      "metadata": {
        "colab": {
          "base_uri": "https://localhost:8080/"
        },
        "id": "RDUv8TFS5wZU",
        "outputId": "0d68eeb8-508f-4563-baf3-49171dab45c3"
      },
      "execution_count": null,
      "outputs": [
        {
          "output_type": "stream",
          "name": "stdout",
          "text": [
            "(5, 7, 1)   (1, 2, 3)   (7, 1, 7)   (0, 1, 0)   (5, -5, 5)   \n",
            "(7, 1, 7)   (5, 7, 1)   (5, -5, 5)   (1, 2, 3)   (0, 1, 0)   \n",
            "None\n",
            "(1, 2, 3, 4, 5)   \n",
            "('Horse', 'Star', 450)   ('Cat', 'Murka', 5)   ('Dog', 'Max', 17)   ('Dog', 'Laika', 15)   ('Cat', 'Barsik', 7)   "
          ]
        }
      ]
    },
    {
      "cell_type": "markdown",
      "metadata": {
        "id": "RVdLAl60fISt"
      },
      "source": [
        "__Задание 9 (1 балл):__ Напишите функцию, которая получает на вход натуральное число `n` и выводит первые `n` строк треугольника Паскаля."
      ]
    },
    {
      "cell_type": "code",
      "execution_count": null,
      "metadata": {
        "collapsed": true,
        "id": "lNPvJpLxfISu"
      },
      "outputs": [],
      "source": [
        "def task_09_func(n):\n",
        "    #String containing 1 is considered zero\n",
        "    arr = [1]\n",
        "    print('1'.center(53))\n",
        "    for _ in range(n):\n",
        "        arr = [sum(x) for x in zip([0] + arr, arr + [0])]\n",
        "        str1 = ''\n",
        "        for item in arr:\n",
        "            str1 += '%4d' % item\n",
        "        print(str1.center(50))"
      ]
    },
    {
      "cell_type": "code",
      "source": [
        "print('n = 0:')\n",
        "task_09_func(0)\n",
        "\n",
        "print('n = 5:')\n",
        "task_09_func(5)\n",
        "\n",
        "print('n = 10:')\n",
        "task_09_func(10)"
      ],
      "metadata": {
        "colab": {
          "base_uri": "https://localhost:8080/"
        },
        "id": "t8pk5fl6K9K8",
        "outputId": "6b73f3a9-34f5-44eb-9d29-6a1de8d192ac"
      },
      "execution_count": null,
      "outputs": [
        {
          "output_type": "stream",
          "name": "stdout",
          "text": [
            "n = 0:\n",
            "                          1                          \n",
            "n = 5:\n",
            "                          1                          \n",
            "                        1   1                     \n",
            "                      1   2   1                   \n",
            "                    1   3   3   1                 \n",
            "                  1   4   6   4   1               \n",
            "                1   5  10  10   5   1             \n",
            "n = 10:\n",
            "                          1                          \n",
            "                        1   1                     \n",
            "                      1   2   1                   \n",
            "                    1   3   3   1                 \n",
            "                  1   4   6   4   1               \n",
            "                1   5  10  10   5   1             \n",
            "              1   6  15  20  15   6   1           \n",
            "            1   7  21  35  35  21   7   1         \n",
            "          1   8  28  56  70  56  28   8   1       \n",
            "        1   9  36  84 126 126  84  36   9   1     \n",
            "      1  10  45 120 210 252 210 120  45  10   1   \n"
          ]
        }
      ]
    },
    {
      "cell_type": "markdown",
      "metadata": {
        "id": "y_C2E2-HfISu"
      },
      "source": [
        "__Задание 10 (1 балл):__ Напишите функцию, которая принимает на вход абсолютный путь к директории и две строки с расширениями файлов. В результате её выполнения у всех файлов в указанной директории, имеющих первое расширение, расширение должно измениться на второе. В конце работы функция должна возвращать кортеж из двух элементов:\n",
        "\n",
        "1. сколько всего в директории файлов (именно файлов, не директорий);\n",
        "2. у скольки из них расширение было изменено.\n",
        "\n",
        "Допускается только один проход по каждому файлу из указанной директории."
      ]
    },
    {
      "cell_type": "code",
      "execution_count": 13,
      "metadata": {
        "collapsed": true,
        "id": "aIQ7fyB3fISu"
      },
      "outputs": [],
      "source": [
        "from pathlib import *\n",
        "\n",
        "def task_10_func(dir_path, prev_extension, next_extension):\n",
        "    files = 0\n",
        "    changes = 0\n",
        "    for item in Path(dir_path).iterdir():\n",
        "        if item.is_file():\n",
        "            files += 1\n",
        "            if Path(item).suffix == prev_extension:\n",
        "                changes += 1\n",
        "                Path(item).rename(Path(item).with_suffix(next_extension))\n",
        "    return (files, changes)"
      ]
    },
    {
      "cell_type": "code",
      "source": [
        "Path('Task_10').mkdir()\n",
        "Path('Task_10/Some_dir').mkdir()\n",
        "Path('Task_10/Some_dir/Text.ipynb').touch()\n",
        "Path('Task_10/Text.txt').touch()\n",
        "Path('Task_10/Movies.ipynb').touch()\n",
        "Path('Task_10/Films.rtf').touch()\n",
        "Path('Task_10/Songs.ipynb').touch()\n",
        "Path('Task_10/Music.xls').touch()\n",
        "Path('Task_10/Content.txt').touch()"
      ],
      "metadata": {
        "id": "hOVWMZXf1scF"
      },
      "execution_count": 22,
      "outputs": []
    },
    {
      "cell_type": "code",
      "source": [
        "print(task_10_func('/content/Task_10', '.ipynb', '.txt'))\n",
        "print(task_10_func('/content', '.txt', '.rtf'))"
      ],
      "metadata": {
        "colab": {
          "base_uri": "https://localhost:8080/"
        },
        "id": "oBU7b50RUGAK",
        "outputId": "cd5cbc20-5cae-4e8b-93b1-96c06c56a614"
      },
      "execution_count": 23,
      "outputs": [
        {
          "output_type": "stream",
          "name": "stdout",
          "text": [
            "(6, 2)\n",
            "(0, 0)\n"
          ]
        }
      ]
    },
    {
      "cell_type": "markdown",
      "metadata": {
        "id": "LkP5mnVofISu"
      },
      "source": [
        "__Задание 11 (1 балл):__ Описать функцию, которая принимает на вход два списка и возвращает список уникальных элементов, которые есть в первом входном списке и отсутствуют во втором. Запрещается использовать циклы и списковые включения/генераторы списков."
      ]
    },
    {
      "cell_type": "code",
      "execution_count": null,
      "metadata": {
        "collapsed": true,
        "id": "ua0yty6ZfISv"
      },
      "outputs": [],
      "source": [
        "def task_11_func(first_list, second_list):\n",
        "    return list(set(first_list) - set(second_list))"
      ]
    },
    {
      "cell_type": "code",
      "source": [
        "print('Lists:', [1, 2, 3, 4, 5], [1, 3, 5], \n",
        "      'Answer:', task_11_func([1, 2, 3, 4, 5], [1, 3, 5]))\n",
        "print('Lists:', [1, 1, 1, 1, 1], [1], \n",
        "      'Answer:', task_11_func([1, 1, 1, 1, 1], [1]))\n",
        "print('Lists:', [1, 1, 1, 1, 1], [], \n",
        "      'Answer:', task_11_func([1, 1, 1, 1, 1], []))\n",
        "print('Lists:', [], [1, 2, 3, 4, 5], \n",
        "      'Answer:', task_11_func([], [1, 2, 3, 4, 5]))\n",
        "print('Lists:', ['Cat', 5, 'Dog', 7, 'Horse'], [1, 'Bear', 4, 5], \n",
        "      'Answer:', task_11_func(['Cat', 5, 'Dog', 7, 'Horse'], [1, 'Bear', 4, 5]))\n",
        "print('Lists:', [1, 2, 3, 4, 5], [7, 8], \n",
        "      'Answer:', task_11_func([1, 2, 3, 4, 5], [7, 8]))"
      ],
      "metadata": {
        "colab": {
          "base_uri": "https://localhost:8080/"
        },
        "id": "ULabVjXaBsS5",
        "outputId": "bf0a670a-0f64-471c-f78f-e1ee2c838615"
      },
      "execution_count": null,
      "outputs": [
        {
          "output_type": "stream",
          "name": "stdout",
          "text": [
            "Lists: [1, 2, 3, 4, 5] [1, 3, 5] Answer: [2, 4]\n",
            "Lists: [1, 1, 1, 1, 1] [1] Answer: []\n",
            "Lists: [1, 1, 1, 1, 1] [] Answer: [1]\n",
            "Lists: [] [1, 2, 3, 4, 5] Answer: []\n",
            "Lists: ['Cat', 5, 'Dog', 7, 'Horse'] [1, 'Bear', 4, 5] Answer: ['Dog', 'Horse', 'Cat', 7]\n",
            "Lists: [1, 2, 3, 4, 5] [7, 8] Answer: [1, 2, 3, 4, 5]\n"
          ]
        }
      ]
    },
    {
      "cell_type": "markdown",
      "metadata": {
        "id": "F1YzsYokfISv"
      },
      "source": [
        "__Задание 12 (1 балл):__ Напишите функцию, которая получает на вход путь к файлу, в котором в каждой строке записано одно вещественное число, а также путь к выходному файлу. Функция должна прочитать содержимое файла, игнорировать строки с нечётными индексами, а строки с чётными индексами должна увеличить на минимальное из чисел, содержащихся в этом файле. Полученные числа нужно записать в выходной файл с точностью 5 знаков после запятой.\n",
        "\n",
        "Требуется сделать не более двух проходов по входному файлу, расход памяти на протяжении работы должен быть O(1) (то есть никак не зависеть от числа строк во входном файле)."
      ]
    },
    {
      "cell_type": "code",
      "execution_count": 29,
      "metadata": {
        "collapsed": true,
        "id": "dk7y2FUOfISv"
      },
      "outputs": [],
      "source": [
        "# Nothing changes in the source file, \n",
        "# and only the changed even lines will be written to the second file\n",
        "\n",
        "def task_12_func(input_path, output_path):\n",
        "    fout = open(output_path, 'w')\n",
        "    min = None\n",
        "    with open(input_path, 'r') as fin:\n",
        "        for line in fin.readlines():\n",
        "            if (min is None) or (min > float(line)):\n",
        "                min = float(line)\n",
        "    # The numbering of lines in the file starts with 1\n",
        "    i = 1\n",
        "    with open(input_path, 'r') as fin:\n",
        "        for line in fin.readlines():\n",
        "            if i % 2 == 0:\n",
        "                fout.write('%.5f' % (float(line) + min) + '\\n')\n",
        "            i += 1;\n",
        "    fout.close()"
      ]
    },
    {
      "cell_type": "code",
      "source": [
        "Path('input.txt').touch()\n",
        "with open('input.txt', 'w') as fout:\n",
        "    fout.write('1\\n25\\n5.3743\\n-1.3746\\n-15.3746287\\n100\\n17.1\\n15.3746287')\n",
        "Path('input1.txt').touch()"
      ],
      "metadata": {
        "id": "eEiV45JYFD1m"
      },
      "execution_count": 32,
      "outputs": []
    },
    {
      "cell_type": "code",
      "source": [
        "task_12_func('input.txt', 'output.txt')\n",
        "task_12_func('input1.txt', 'output1.txt')"
      ],
      "metadata": {
        "id": "7aw42P6DtC-E"
      },
      "execution_count": 33,
      "outputs": []
    },
    {
      "cell_type": "markdown",
      "metadata": {
        "id": "HaJNtwmUfISv"
      },
      "source": [
        "__Задание 13 (1 балл):__ Написать функцию, которая принимает на вход число `n`, которое может быть либо натуральным, либо -1, и возвращает генератор чисел Фиббоначи. Если входной параметр равен натуральному числу, то генератор должен выдавать последовательно числа Фиббоначи до `n`-го. Если `n` равно -1, то генератор должен быть бесконечным."
      ]
    },
    {
      "cell_type": "code",
      "execution_count": null,
      "metadata": {
        "id": "bWiAS9FdfISv"
      },
      "outputs": [],
      "source": [
        "from itertools import accumulate\n",
        "\n",
        "def task_13_func(n):\n",
        "    i, j = 0, 1\n",
        "    if n == -1:\n",
        "        while True:\n",
        "            yield i\n",
        "            i, j = j, i + j\n",
        "    else:\n",
        "        for _ in range(n):\n",
        "            yield i\n",
        "            i, j = j, i + j"
      ]
    },
    {
      "cell_type": "code",
      "source": [
        "print('n = -1 (5):')\n",
        "gen = task_13_func(-1)\n",
        "for _ in range(5):\n",
        "    print(next(gen), end='   ')\n",
        "\n",
        "print('\\n\\nn = 5:')\n",
        "for e in task_13_func(5):\n",
        "    print(e, end='   ')\n",
        "\n",
        "print('\\n\\nn = -1 (1):')\n",
        "gen = task_13_func(-1)\n",
        "for _ in range(1):\n",
        "    print(next(gen), end='   ')\n",
        "\n",
        "print('\\n\\nn = 1:')\n",
        "for e in task_13_func(1):\n",
        "    print(e, end='   ')\n",
        "\n",
        "print('\\n\\nn = -1 (10):')\n",
        "gen = task_13_func(-1)\n",
        "for _ in range(10):\n",
        "    print(next(gen), end='   ')\n",
        "\n",
        "print('\\n\\nn = 10:')\n",
        "for e in task_13_func(10):\n",
        "    print(e, end='   ')"
      ],
      "metadata": {
        "colab": {
          "base_uri": "https://localhost:8080/"
        },
        "id": "bfF3PuDnFVmi",
        "outputId": "08275138-4839-4995-ad17-caa979aeff3d"
      },
      "execution_count": null,
      "outputs": [
        {
          "output_type": "stream",
          "name": "stdout",
          "text": [
            "n = -1 (5):\n",
            "0   1   1   2   3   \n",
            "\n",
            "n = 5:\n",
            "0   1   1   2   3   \n",
            "\n",
            "n = -1 (1):\n",
            "0   \n",
            "\n",
            "n = 1:\n",
            "0   \n",
            "\n",
            "n = -1 (10):\n",
            "0   1   1   2   3   5   8   13   21   34   \n",
            "\n",
            "n = 10:\n",
            "0   1   1   2   3   5   8   13   21   34   "
          ]
        }
      ]
    },
    {
      "cell_type": "markdown",
      "metadata": {
        "id": "VXvS_0tjfISw"
      },
      "source": [
        "__Задание 14 (1 балл):__ Написать функцию, которая принимает на вход произвольный объект, проверяет его тип, и для целого числа возвращает список всех магических методов объекта, начинающихся с `__a`, для строк - с `__s`. Для всех прочих типов должен возвращаться список немагических методов. В задании запрещается использовать циклы и списковые включения/генераторы списков."
      ]
    },
    {
      "cell_type": "code",
      "execution_count": null,
      "metadata": {
        "collapsed": true,
        "id": "QzmFeADbfISw"
      },
      "outputs": [],
      "source": [
        "import re\n",
        "\n",
        "def task_14_func(n):\n",
        "    if type(n) == int:\n",
        "        return list(filter(lambda x: re.search(\"__a\", x), dir(n)))\n",
        "    if type(n) == str:\n",
        "        return list(filter(lambda x: re.search(\"__s\", x), dir(n)))\n",
        "    return list(filter(lambda x: not re.search(\"__$\", x), dir(n)))"
      ]
    },
    {
      "cell_type": "code",
      "source": [
        "print(task_14_func(10))\n",
        "print(task_14_func('Cat'))\n",
        "print(task_14_func([10]))\n",
        "print(task_14_func((10, 'Cat')))\n",
        "print(task_14_func(None))"
      ],
      "metadata": {
        "colab": {
          "base_uri": "https://localhost:8080/"
        },
        "id": "pnLK7Pvp0Rh5",
        "outputId": "1e8cc375-ba24-4d33-e9cd-5db25ae5db03"
      },
      "execution_count": null,
      "outputs": [
        {
          "output_type": "stream",
          "name": "stdout",
          "text": [
            "['__abs__', '__add__', '__and__']\n",
            "['__setattr__', '__sizeof__', '__str__', '__subclasshook__']\n",
            "['append', 'clear', 'copy', 'count', 'extend', 'index', 'insert', 'pop', 'remove', 'reverse', 'sort']\n",
            "['count', 'index']\n",
            "[]\n"
          ]
        }
      ]
    },
    {
      "cell_type": "markdown",
      "metadata": {
        "id": "qZS4I_NOfISw"
      },
      "source": [
        "__Задание 15 (1.5 балла):__ Написать функцию, которая во входной строке заменяет вхождения всех английских заглавных букв на их номер в таблице ASCII, затем производит сплит по минимальной из цифр строки. Предложите как минимум два различных решения, одно из которых не должно использовать циклы. При использовании циклов допускается не более двух проходов по строке."
      ]
    },
    {
      "cell_type": "code",
      "execution_count": null,
      "metadata": {
        "id": "-drlvRNdfISw"
      },
      "outputs": [],
      "source": [
        "import re\n",
        "\n",
        "def task_15_func(n):\n",
        "    matches = set(re.findall('[A-Z]', n))\n",
        "    for item in n:\n",
        "        if item in matches:\n",
        "            n = n.replace(item, str(ord(item)))\n",
        "    min = 10\n",
        "    for item in n:\n",
        "        if item.isdigit() and min > int(item):\n",
        "            min = int(item)\n",
        "    if min != 10:\n",
        "        word_list = re.split(str(min), n)\n",
        "    else:\n",
        "        word_list = [n]\n",
        "    return word_list"
      ]
    },
    {
      "cell_type": "code",
      "source": [
        "def swap(item):\n",
        "    return str(ord(item[0]))\n",
        "\n",
        "def task_15_func_1(n):\n",
        "    word = re.subn('[A-Z]', swap, n)[0]\n",
        "    numbers = re.findall('[0-9]', word)\n",
        "    if numbers:\n",
        "        minimum = min(numbers)\n",
        "        word_list = re.split(str(minimum), word)\n",
        "    else:\n",
        "        word_list = [word]\n",
        "    return word_list"
      ],
      "metadata": {
        "id": "-d84Hbec22gy"
      },
      "execution_count": null,
      "outputs": []
    },
    {
      "cell_type": "code",
      "source": [
        "print(task_15_func_1('LaLala'), task_15_func('LaLala'))\n",
        "print(task_15_func_1('some words'), task_15_func('some words'))\n",
        "print(task_15_func_1('Taco Cat'), task_15_func('Taco Cat'))"
      ],
      "metadata": {
        "colab": {
          "base_uri": "https://localhost:8080/"
        },
        "id": "S3AjwUfB2RDa",
        "outputId": "e4f47502-7121-4873-de12-9747702f97ee"
      },
      "execution_count": null,
      "outputs": [
        {
          "output_type": "stream",
          "name": "stdout",
          "text": [
            "['7', 'a7', 'ala'] ['7', 'a7', 'ala']\n",
            "['some words'] ['some words']\n",
            "['8', 'aco 67at'] ['8', 'aco 67at']\n"
          ]
        }
      ]
    },
    {
      "cell_type": "markdown",
      "metadata": {
        "id": "b-5--k0lfISw"
      },
      "source": [
        "__Задание 16 (1.5 балла):__ Написать функцию, которая принимает на вход строку и извлекает из неё мобильные телефонные номера с помощью регулярных выражений. Функция должна поддерживать общепринятые варианты написания номера, как со всевозможными разделителями, так и без них (обеспечьте поддержку не менее 10 различных случаев). Возвращаемым значением функции является список всех найденных в строке номеров, если их не было, нужно вернуть пустой список."
      ]
    },
    {
      "cell_type": "code",
      "execution_count": null,
      "metadata": {
        "id": "s7QTqaWLfISw"
      },
      "outputs": [],
      "source": [
        "# I can't find how to write | correctly inside the expression\n",
        "def task_16_func(n):\n",
        "    numbers = re.findall(r'\\+?[0-9]{1,4} ?\\([0-9]{3}\\) ?[0-9]{3} ?[0-9]{2} ?[0-9]{2}'\n",
        "                        r'|'\n",
        "                        r'\\+?[0-9]{1,4} ?[0-9]{3} ?[0-9]{3} ?[0-9]{2} ?[0-9]{2}', n)\n",
        "    return numbers"
      ]
    },
    {
      "cell_type": "code",
      "source": [
        "print(task_16_func('Номер Петрова: +77 (916) 875 4789, номер Иванова: 89767895589'))\n",
        "print(task_16_func('Номер Петрова: +77 916 875 4789, номер Иванова: 8 9767895589'))\n",
        "print(task_16_func('Номер Петрова: 77 916 875 4789, номер Иванова: 8 976 78955 89'))\n",
        "print(task_16_func('Номер Петрова: +7978999 916 875 4789, номер Иванова: +8 9767895589'))\n",
        "print(task_16_func('Номер Петрова: +77 (916 875 4789, номер Иванова: 8 976 789 55 89'))\n",
        "print(task_16_func('Номер Петрова: +77 916) 875 4789, номер Иванова: 8 976789558 9'))"
      ],
      "metadata": {
        "colab": {
          "base_uri": "https://localhost:8080/"
        },
        "id": "wxpCz_vxMtvJ",
        "outputId": "5a52914b-bf2a-4b87-d6a0-4ce6a4aa24b5"
      },
      "execution_count": null,
      "outputs": [
        {
          "output_type": "stream",
          "name": "stdout",
          "text": [
            "['+77 (916) 875 4789', '89767895589']\n",
            "['+77 916 875 4789', '8 9767895589']\n",
            "['77 916 875 4789', '8 976 78955 89']\n",
            "['8999 916 875 4789', '+8 9767895589']\n",
            "['8 976 789 55 89']\n",
            "[]\n"
          ]
        }
      ]
    },
    {
      "cell_type": "markdown",
      "metadata": {
        "id": "eIEaCsljfISw"
      },
      "source": [
        "__Задание 17 (5 баллов):__ Опишем бинарное дерево, представленное в виде вложенных кортежей, в каждом узле дерева хранится вещественное число и ссылка на левое и правое поддерево.\n",
        "\n",
        "Пример: для сбалансированного дерева\n",
        "\n",
        "```\n",
        "        v_0\n",
        "       /   \\\n",
        "   v_11     v_12\n",
        "  /  \\       /  \\\n",
        "v_21 v_22  v_23 v_24\n",
        "```\n",
        "\n",
        "представление в виде кортежей будет выглядеть так:\n",
        "\n",
        "```\n",
        "(v_0,\n",
        "    (v_11,\n",
        "        (v_21, None, None),\n",
        "        (v_22, None, None)\n",
        "    ),\n",
        "    (v_12,\n",
        "        (v_23, None, None),\n",
        "        (v_24, None, None)\n",
        "    )\n",
        ")\n",
        "```\n",
        "\n",
        "Необходимо написать функцию, которая принимает на вход бинарное дерево (не обязательно сбалансированное), закодированное описанным способом в виде кортежа, производит его обход в глубину и для каждой листовой вершины вычисляет сумму всех значений от корня до неё включительно. Функция ничего не возвращает, вместо этого она выводит получаемые суммы в порядке следования листовых вершин (слева направо).\n",
        "\n",
        "Реализуйте два решения: на основе рекурсии и на основе циклов."
      ]
    },
    {
      "cell_type": "code",
      "execution_count": null,
      "metadata": {
        "id": "Ctt3AT29fISx"
      },
      "outputs": [],
      "source": [
        "def task_17_func(n, sum):\n",
        "    now, left, right = n\n",
        "    new_sum = now + sum\n",
        "    if left is None and right is None:\n",
        "        print(new_sum)\n",
        "    if left:\n",
        "        task_17_func(left, new_sum)\n",
        "    if right:\n",
        "        task_17_func(right, new_sum)\n",
        "\n",
        "def task_17_func_1(n):\n",
        "    sum = 0\n",
        "    nodes = [(n, sum)]\n",
        "    while nodes:\n",
        "        now, sum = nodes.pop()\n",
        "        new_sum = sum + now[0]\n",
        "        if now[1] is None and now[2] is None:\n",
        "            print(new_sum)\n",
        "        if now[2]:\n",
        "            nodes.append((now[2], new_sum))\n",
        "        if now[1]:\n",
        "            nodes.append((now[1], new_sum))"
      ]
    },
    {
      "cell_type": "code",
      "source": [
        "print('Test_1:')\n",
        "task_17_func((1, \\\n",
        "              (2, (3, None, None), (4, None, None)), \\\n",
        "              (5, (6, None, None), (7, None, None))), 0)\n",
        "print('Test_2:')\n",
        "task_17_func((1, None, None), 0)\n",
        "print('Test_3:')\n",
        "task_17_func((1, \\\n",
        "              (2, \\\n",
        "                (3, \\\n",
        "                  (4, None, \\\n",
        "                    (5, None, None)),\\\n",
        "                  None),\\\n",
        "                None), \\\n",
        "              None), 0)\n"
      ],
      "metadata": {
        "colab": {
          "base_uri": "https://localhost:8080/"
        },
        "id": "ZmYLkID8keBp",
        "outputId": "5edab3c6-5203-4b0f-fe0c-5f9c26d844a8"
      },
      "execution_count": null,
      "outputs": [
        {
          "output_type": "stream",
          "name": "stdout",
          "text": [
            "Test_1:\n",
            "6\n",
            "7\n",
            "12\n",
            "13\n",
            "Test_2:\n",
            "1\n",
            "Test_3:\n",
            "15\n"
          ]
        }
      ]
    },
    {
      "cell_type": "code",
      "source": [
        "print('Test_1:')\n",
        "task_17_func_1((1, \\\n",
        "              (2, (3, None, None), (4, None, None)), \\\n",
        "              (5, (6, None, None), (7, None, None))))\n",
        "print('Test_2:')\n",
        "task_17_func_1((1, None, None))\n",
        "print('Test_3:')\n",
        "task_17_func_1((1, \\\n",
        "              (2, \\\n",
        "                (3, \\\n",
        "                  (4, None, \\\n",
        "                    (5, None, None)),\\\n",
        "                  None),\\\n",
        "                None), \\\n",
        "              None))\n"
      ],
      "metadata": {
        "colab": {
          "base_uri": "https://localhost:8080/"
        },
        "outputId": "76eff4ef-85b8-4544-8223-4278d9e1f9ee",
        "id": "u0Yva_HPwY8F"
      },
      "execution_count": null,
      "outputs": [
        {
          "output_type": "stream",
          "name": "stdout",
          "text": [
            "Test_1:\n",
            "6\n",
            "7\n",
            "12\n",
            "13\n",
            "Test_2:\n",
            "1\n",
            "Test_3:\n",
            "15\n"
          ]
        }
      ]
    }
  ],
  "metadata": {
    "kernelspec": {
      "display_name": "Python 3",
      "language": "python",
      "name": "python3"
    },
    "language_info": {
      "codemirror_mode": {
        "name": "ipython",
        "version": 3
      },
      "file_extension": ".py",
      "mimetype": "text/x-python",
      "name": "python",
      "nbconvert_exporter": "python",
      "pygments_lexer": "ipython3",
      "version": "3.8.8"
    },
    "colab": {
      "provenance": []
    }
  },
  "nbformat": 4,
  "nbformat_minor": 0
}