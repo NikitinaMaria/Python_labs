{
  "cells": [
    {
      "cell_type": "markdown",
      "metadata": {
        "id": "I2kJZtWTd6uS"
      },
      "source": [
        "## Домашнее задание №2 (курс \"Практикум по программированию на языке Python\")"
      ]
    },
    {
      "cell_type": "markdown",
      "metadata": {
        "id": "obGsuCXPd6uW"
      },
      "source": [
        "### Выполнил: <font color='red'>Никитина Мария Александровна, МФТИ, ФПМИ</font>\n",
        "\n",
        "### Тема: Объектно-ориентированное программирование\n",
        "\n",
        "#### Преподаватель: Мурат Апишев (mel-lain@yandex.ru)\n",
        "\n",
        "**Выдана**:   11 марта 2023\n",
        "\n",
        "**Дедлайн**:   21:00 26 марта 2023\n",
        "\n",
        "**Среда выполнения**: Jupyter Notebook (Python 3.7+)\n",
        "\n",
        "#### Правила:\n",
        "\n",
        "Результат выполнения задания - Jupyter Notebook с кодом и подробными ответами в случае теоретических вопросов. __Максимальное число баллов за задание - 20__.\n",
        "\n",
        "Все ячейки должны быть \"выполненными\", при этом результат должен воспроизводиться при проверке (на Python 3.7). Если какой-то код не был запущен или отрабатывает с ошибками, то пункт не засчитывается. Задание, сданное после дедлайна, _не принимается_. Можно отправить недоделанное задание, выполненные пункты будут оценены.\n",
        "\n",
        "Готовое задание отправляется на почту преподавателя.\n",
        "\n",
        "Задание выполняется самостоятельно. Если какие-то студенты будут уличены в списывании, все они автоматически получат за эту работу 0 баллов. Если вы нашли в Интернете какой-то специфичный код, который собираетесь заимствовать, обязательно укажите это в задании - наверняка вы не единственный, кто найдёт и использует эту информацию.\n",
        "\n",
        "Удалять фрагменты формулировок заданий запрещается."
      ]
    },
    {
      "cell_type": "markdown",
      "metadata": {
        "id": "WUqw0vNEd6uX"
      },
      "source": [
        "#### Постановка задачи:\n",
        "\n",
        "- В данной работе нужно\n",
        "    - ответить на ряд теоретических вопросов;\n",
        "    - решить набор задач, проверяющих владение ООП-инструментами языка;\n",
        "    - решить задачу на проектирование кода.\n",
        "- Ответы на теоретические вопросы должны быть полными и обоснованными.\n",
        "- Каждая задача представляет собой написание функции или класса, а также набора тестов, проверяющих работу решения в общих и крайних случаях.\n",
        "- Отсутствие тестов автоматически уменьшает количество баллов за задание как минимум в два раза, некачественные тесты также будут штрафоваться.\n",
        "- Даже если это не указано явно в требованиях, код должен быть по возможности неизбыточным, работать с разумной сложностью и объёмом потребялемой памяти, проверяющие могут снизить балл за задание, выполненное без учёта этого требования.\n",
        "- Результирующий код должен быть читаемым, с единой системой отступов и адеквантными названиями переменных, проверяющие могут снизить балл за задание, выполненное без учёта этого требования."
      ]
    },
    {
      "cell_type": "markdown",
      "metadata": {
        "id": "MEueiGf8d6uY"
      },
      "source": [
        "__Задание 1 (2 балла):__ Дайте подробные ответы на следующие вопросы:\n",
        "\n",
        "1. В чём смысл инкапсуляции? Приведите пример конкретной ситуации в коде, в которой нарушение инкапсуляции приводит к проблемам.\n",
        "2. Какой метод называется статическим? Что такое параметр `self`?\n",
        "3. В чём отличия методов `__new__` и `__init__`?\n",
        "4. Какие виды отношений классов вы знаете? Для каждого приведите примеры. Укажите взаимные различия.\n",
        "5. Зачем нужны фабрики? Опишите смысл использования фабричного метода, фабрики и абстрактной фабрики, а также их взаимные отличия."
      ]
    },
    {
      "cell_type": "markdown",
      "source": [
        "1. Инкапсуляция имеет два значения: связь данных и методов, которые используют эти данный, а также определение уровня доступа к данным (private, public, mangled). Пример нарушения:"
      ],
      "metadata": {
        "id": "ykTLkImbRjJJ"
      }
    },
    {
      "cell_type": "code",
      "source": [
        "class Student:\n",
        "    def __init__(self):\n",
        "        self.__desire_to_sleep = 10\n",
        "    \n",
        "    def sleep(self, hours=5):\n",
        "        self.__desire_to_sleep = max(0, self.__desire_to_sleep - hours)\n",
        "        if self.__desire_to_sleep < 10:\n",
        "            print('I can work')\n",
        "    \n",
        "    def study(self):\n",
        "        if self.__desire_to_sleep < 10:\n",
        "            print('I worked')\n",
        "        else:\n",
        "            print('I died')\n",
        "\n",
        "student = Student()\n",
        "student.sleep()\n",
        "student._Student__desire_to_sleep = 10\n",
        "student.study()"
      ],
      "metadata": {
        "colab": {
          "base_uri": "https://localhost:8080/"
        },
        "id": "MlmY44lZSWoJ",
        "outputId": "83f6b167-f36b-461b-f01e-1ea0dccfbffb"
      },
      "execution_count": 57,
      "outputs": [
        {
          "output_type": "stream",
          "name": "stdout",
          "text": [
            "I can work\n",
            "I died\n"
          ]
        }
      ]
    },
    {
      "cell_type": "markdown",
      "source": [
        "2. Метод класса называется статическим, если он не получает на вход `self`. То есть функция, которую просто определили внутри пространства имён класса. Например, `__new__`. `self` предоставляет экземпляр класса, на который ссылается метод. Интерпретатор Python автоматически добавляет первым аргументом ссылку на объект, из которого этот метод вызывается.\n",
        "\n",
        "3. `__init__` -- не конструктор, она ничего не создаёт и не возвращает. Она получает на вход готовый объект и инициализирует его атрибуты. Созданием объекта занимается функция `__new__` (взято из лекции).\n",
        "\n",
        "4. **Наследование** -- возможность создания наследников, получающих все свойства родителей с возможностью их переопределения и расширения. Это вертикальная связь. Преимущество: переиспользование -- есть связная архитектура, в которой понятно, что от чего следует и что расширяет. Недостаток: чем глубже и разветвлённей система наследований, тем сложнее её изменять и редактировать. Частный случай: **реализация** -- наследование интерфейсов.\n",
        "\n",
        "  **Ассоциация** -- - горизонтальная связь между объектами двух классов (может быть \"один ко многим\"). Формально классы друг от друга не зависят, но объекты этих классов могут использовать друг друга, чтобы получить какую-то функциональность. В отличие от наследования, изменять такую систему проще. **Композиция** - вложенность объекта одного класса в другой (главный управляет жизненным циклом зависимого). **Агрегация** - вложенность объекта одного класса в другой (объекты остаются независимыми)"
      ],
      "metadata": {
        "id": "sckQrW5ZXUMm"
      }
    },
    {
      "cell_type": "code",
      "source": [
        "# Наследование\n",
        "class Human:\n",
        "    def __init__(self):\n",
        "        self._desire_to_sleep = 10\n",
        "    \n",
        "    def sleep(self, hours=5):\n",
        "        self._desire_to_sleep = max(0, self._desire_to_sleep - hours)\n",
        "        if self._desire_to_sleep < 10:\n",
        "            print('I can work')\n",
        "\n",
        "class Student(Human):\n",
        "    def study(self):\n",
        "        if self._desire_to_sleep < 10:\n",
        "            print('I worked')\n",
        "        else:\n",
        "            print('I died')\n",
        "\n",
        "human = Human()\n",
        "human.sleep()\n",
        "\n",
        "student = Student()\n",
        "student.sleep()\n",
        "student.study()"
      ],
      "metadata": {
        "colab": {
          "base_uri": "https://localhost:8080/"
        },
        "id": "Q8JsjE8zcydO",
        "outputId": "e230156e-2194-4bf1-dcae-c5bec60eafa6"
      },
      "execution_count": 58,
      "outputs": [
        {
          "output_type": "stream",
          "name": "stdout",
          "text": [
            "I can work\n",
            "I can work\n",
            "I worked\n"
          ]
        }
      ]
    },
    {
      "cell_type": "code",
      "source": [
        "# Ассоциация (агрегация)\n",
        "class Money():\n",
        "    def __init__(self, amount):\n",
        "        self.amount = amount\n",
        "\n",
        "    def year(self):\n",
        "        return (self.amount * 6)\n",
        "\n",
        "class Student:\n",
        "    def __init__(self, energy, scolarship):\n",
        "        self.energy = energy\n",
        "        self.scolarship = scolarship\n",
        "    \n",
        "    def study(self):\n",
        "        if self.energy > 0:\n",
        "            print(f'I studied for a term and got a scholarship: {self.scolarship.year()} rubles')\n",
        "        else:\n",
        "            print('I\\'m expelled')\n",
        "\n",
        "money = Money(5000)\n",
        "student = Student(10, money)\n",
        "student.study()"
      ],
      "metadata": {
        "colab": {
          "base_uri": "https://localhost:8080/"
        },
        "id": "Nxwobh7hgH-F",
        "outputId": "2344e072-5504-4a4e-f3ce-4cf64209eb8b"
      },
      "execution_count": 59,
      "outputs": [
        {
          "output_type": "stream",
          "name": "stdout",
          "text": [
            "I studied for a term and got a scholarship: 30000 rubles\n"
          ]
        }
      ]
    },
    {
      "cell_type": "code",
      "source": [
        "# Ассоциация (композиция)\n",
        "class Money():\n",
        "    def __init__(self, amount):\n",
        "        self.amount = amount\n",
        "\n",
        "    def year(self):\n",
        "        return (self.amount * 6)\n",
        "\n",
        "class Student:\n",
        "    def __init__(self, energy):\n",
        "        self.energy = energy\n",
        "        self.scolarship = Money(5000)\n",
        "    \n",
        "    def study(self):\n",
        "        if self.energy > 0:\n",
        "            print(f'I studied for a term and got a scholarship: {self.scolarship.year()} rubles')\n",
        "        else:\n",
        "            print('I\\'m expelled')\n",
        "\n",
        "student = Student(10)\n",
        "student.study()"
      ],
      "metadata": {
        "colab": {
          "base_uri": "https://localhost:8080/"
        },
        "id": "XpDxPuTFjI50",
        "outputId": "b398a640-2b5f-431e-85e7-21f1bfc1a0f9"
      },
      "execution_count": 60,
      "outputs": [
        {
          "output_type": "stream",
          "name": "stdout",
          "text": [
            "I studied for a term and got a scholarship: 30000 rubles\n"
          ]
        }
      ]
    },
    {
      "cell_type": "markdown",
      "source": [
        "5. **Фабрика** - это общая идея создания объекта с помощью какой-то другой сущности. **Простая фабрика**: есть класс, у которого есть генерирующий метод. В этот метод указывается, что хотим сгенерировать. **Фабричный метод** позволяет расширять варианты производства и при этом изменять код только локально, а не полностью. Каждый конкретный производитель получает возможность создавать конкретный продукт с помощью одного и того же метода. **Абстрактная фабрика** -- шаблон предназначен для создания систем взаимосвязанных объектов без указания их конкретных классов. Например, есть набор одних и тех же элементов графического интерфейса. В каждой операционной системе должны отображаться все эти элементы, при этом в каждой OS собственный стиль отображения. Таким образом можно создавать большое количество взаимосвязанных объектов. (Взято из лекции)."
      ],
      "metadata": {
        "id": "geOpMvhbuB-k"
      }
    },
    {
      "cell_type": "markdown",
      "metadata": {
        "id": "stqcSYI-d6uY"
      },
      "source": [
        "__Задание 2 (1 балл):__ Опишите класс комплексных чисел. У пользователя должна быть возможность создать его объект на основе числа и в алгебраической форме, и в полярной. Класс должен поддерживать основные математические операции (+, -, \\*, /) за счет перегрузки соответствующих магических методов. Также он должен поддерживать возможность получить число в алгебраической и полярной форме. Допускается использование модуля `math`."
      ]
    },
    {
      "cell_type": "code",
      "execution_count": 61,
      "metadata": {
        "id": "x5UOyBUcd6uZ"
      },
      "outputs": [],
      "source": [
        "import math\n",
        "\n",
        "class ComplexNumber:\n",
        "    def __init__(self, re=None, img=None, module=None, arg=None):\n",
        "        if module is None and arg is None:\n",
        "            self.re = re\n",
        "            self.img = img\n",
        "            self.module = math.sqrt(re ** 2 + img ** 2)\n",
        "            self.arg = math.atan2(img, re)\n",
        "        elif (not module is None) and (not arg is None):\n",
        "            self.module = module\n",
        "            self.arg = arg\n",
        "            self.re = module * math.cos(arg)\n",
        "            self.img = module * math.sin(arg)\n",
        "    \n",
        "    def alg_form(self):\n",
        "        if self.img >= 0:\n",
        "            return \"{0:.5f} + {1:.5f}i\".format(self.re, self.img)\n",
        "        else:\n",
        "            return \"{0:.5f} - {1:.5f}i\".format(self.re, -self.img)\n",
        "    \n",
        "    def polar_form(self):\n",
        "        return \"{0:.5f} * exp({1:.5f}i)\".format(self.module, self.arg)\n",
        "    \n",
        "    def __add__(self, other):\n",
        "        return ComplexNumber(self.re + other.re, self.img + other.img)\n",
        "\n",
        "    def __sub__(self, other):\n",
        "        return ComplexNumber(self.re - other.re, self.img - other.img)\n",
        "    \n",
        "    def __mul__(self, other):\n",
        "        return ComplexNumber(self.re * other.re - self.img * other.img,\n",
        "                             self.re * other.img + self.img * other.re)\n",
        "    \n",
        "    def __truediv__(self, other):\n",
        "        denominator = other.re ** 2 + other.img ** 2\n",
        "        try:\n",
        "            return ComplexNumber((self.re * other.re + self.img * other.img) / denominator,\n",
        "                             (self.img * other.re - self.re * other.img) / denominator)\n",
        "        except:\n",
        "            print('Division by zero!')\n"
      ]
    },
    {
      "cell_type": "code",
      "source": [
        "a = ComplexNumber(1, 2)\n",
        "b = ComplexNumber(module=1, arg=math.pi)\n",
        "print('a: ', a.polar_form())\n",
        "print('b: ', b.alg_form())\n",
        "\n",
        "c = a + b\n",
        "print('a + b: ', c.alg_form())\n",
        "\n",
        "c = a - b\n",
        "print('a - b: ', c.alg_form())\n",
        "\n",
        "c = a * b\n",
        "print('a * b: ', c.alg_form())\n",
        "\n",
        "c = a / b\n",
        "print('a / b: ', c.alg_form())"
      ],
      "metadata": {
        "colab": {
          "base_uri": "https://localhost:8080/"
        },
        "id": "eTjFtAxJ5gsa",
        "outputId": "e0c4113a-76d3-42a1-94d7-1ed21616bdfb"
      },
      "execution_count": 62,
      "outputs": [
        {
          "output_type": "stream",
          "name": "stdout",
          "text": [
            "a:  2.23607 * exp(1.10715i)\n",
            "b:  -1.00000 + 0.00000i\n",
            "a + b:  0.00000 + 2.00000i\n",
            "a - b:  2.00000 + 2.00000i\n",
            "a * b:  -1.00000 - 2.00000i\n",
            "a / b:  -1.00000 - 2.00000i\n"
          ]
        }
      ]
    },
    {
      "cell_type": "code",
      "source": [
        "a = ComplexNumber(module=1, arg=1)\n",
        "b = ComplexNumber(module=0, arg=0)\n",
        "print('a: ', a.polar_form())\n",
        "print('b: ', b.alg_form())\n",
        "\n",
        "c = a + b\n",
        "print('a + b: ', c.alg_form())\n",
        "\n",
        "c = a - b\n",
        "print('a - b: ', c.alg_form())\n",
        "\n",
        "c = a * b\n",
        "print('a * b: ', c.alg_form())\n",
        "\n",
        "c = a / b"
      ],
      "metadata": {
        "colab": {
          "base_uri": "https://localhost:8080/"
        },
        "id": "TaydHJFlFb2V",
        "outputId": "dc0663d3-74e5-4982-c1a9-ca7b1758b4e5"
      },
      "execution_count": 63,
      "outputs": [
        {
          "output_type": "stream",
          "name": "stdout",
          "text": [
            "a:  1.00000 * exp(1.00000i)\n",
            "b:  0.00000 + 0.00000i\n",
            "a + b:  0.54030 + 0.84147i\n",
            "a - b:  0.54030 + 0.84147i\n",
            "a * b:  0.00000 + 0.00000i\n",
            "Division by zero!\n"
          ]
        }
      ]
    },
    {
      "cell_type": "code",
      "source": [
        "a = ComplexNumber(-1, 2)\n",
        "b = ComplexNumber(3, -4)\n",
        "print('a: ', a.polar_form())\n",
        "print('b: ', b.alg_form())\n",
        "\n",
        "c = a + b\n",
        "print('a + b: ', c.alg_form())\n",
        "\n",
        "c = a - b\n",
        "print('a - b: ', c.alg_form())\n",
        "\n",
        "c = a * b\n",
        "print('a * b: ', c.alg_form())\n",
        "\n",
        "c = a / b\n",
        "print('a / b: ', c.alg_form())"
      ],
      "metadata": {
        "colab": {
          "base_uri": "https://localhost:8080/"
        },
        "id": "Pj4O8V91FaLf",
        "outputId": "c3cd942e-5882-45df-c529-ed4f86043c74"
      },
      "execution_count": 64,
      "outputs": [
        {
          "output_type": "stream",
          "name": "stdout",
          "text": [
            "a:  2.23607 * exp(2.03444i)\n",
            "b:  3.00000 - 4.00000i\n",
            "a + b:  2.00000 - 2.00000i\n",
            "a - b:  -4.00000 + 6.00000i\n",
            "a * b:  5.00000 + 10.00000i\n",
            "a / b:  -0.44000 + 0.08000i\n"
          ]
        }
      ]
    },
    {
      "cell_type": "markdown",
      "metadata": {
        "id": "ZdVWWqB4d6ua"
      },
      "source": [
        "__Задание 3 (2 балла):__ Опишите класс для векторов в N-мерном пространстве. В качестве основы  используйте список значений координат вектора, задаваемый `list`. Обеспечьте поддержку следующих операций: сложение, вычитание (с созданием нового вектора-результата), скалярное произведение, косинус угла, евклидова норма. Все операции, которые можно перегрузить с помощью магических методов, должны быть реализованы именно через них. Класс должен производить проверку консистентности аргументов для каждой операции и в случаях ошибок выбрасывать исключение `ValueError` с исчерпывающим объяснением ошибки."
      ]
    },
    {
      "cell_type": "code",
      "execution_count": 65,
      "metadata": {
        "id": "ldsqvu9ad6ua"
      },
      "outputs": [],
      "source": [
        "import math\n",
        "\n",
        "class Vector:\n",
        "    def __init__(self, vector_values_list):\n",
        "        if not isinstance(vector_values_list, list):\n",
        "            raise ValueError(\"Coordinates should be provided as a list\")\n",
        "        self.values = vector_values_list\n",
        "\n",
        "    def norm(self):\n",
        "        return math.sqrt(sum([x ** 2 for x in self.values]))\n",
        "\n",
        "    def __add__(self, other):\n",
        "        if not isinstance(other, Vector):\n",
        "            raise ValueError(\"A Vector can only be added to a Vector\")\n",
        "        if len(self.values) != len(other.values):\n",
        "            raise ValueError(\"Vectors must have the same dimension\")\n",
        "        return Vector([self.values[i] + other.values[i] for i in range(len(self.values))])\n",
        "\n",
        "    def __sub__(self, other):\n",
        "        if not isinstance(other, Vector):\n",
        "            raise ValueError(\"Can only take the dot product of two Vectors\")\n",
        "        if len(self.values) != len(other.values):\n",
        "            raise ValueError(\"Vectors must have the same dimension\")\n",
        "        return Vector([self.values[i] - other.values[i] for i in range(len(self.values))])\n",
        "\n",
        "    def dot(self, other):\n",
        "        if not isinstance(other, Vector):\n",
        "            raise ValueError(\"It is possible to calculate the scalar product only of two Vectors\")\n",
        "        if len(self.values) != len(other.values):\n",
        "            raise ValueError(\"Vectors must have the same dimension\")\n",
        "        return sum([self.values[i] * other.values[i] for i in range(len(self.values))])\n",
        "\n",
        "    def cos(self, other):\n",
        "        if not isinstance(other, Vector):\n",
        "            raise ValueError(\"It is possible calculate the cosine of the angle only between two Vectors\")\n",
        "        if len(self.values) != len(other.values):\n",
        "            raise ValueError(\"Vectors must have the same dimension\")\n",
        "\n",
        "        dot_vectors = self.dot(other)\n",
        "        norm_vectors = self.norm() * other.norm()\n",
        "        if norm_vectors == 0:\n",
        "            raise ValueError(\"One of the Vectors has zero norm\")\n",
        "        return dot_vectors / norm_vectors"
      ]
    },
    {
      "cell_type": "code",
      "source": [
        "import numpy as np\n",
        "\n",
        "a = Vector([1, -1, 1, -1, 1])\n",
        "b = Vector([1, 2, 3, 4, 5])\n",
        "a_np = np.array([1, -1, 1, -1, 1])\n",
        "b_np = np.array([1, 2, 3, 4, 5])\n",
        "\n",
        "c = a + b\n",
        "print('a + b: ', c.values, '; check: ', list(a_np + b_np))\n",
        "\n",
        "c = a - b\n",
        "print('a - b: ', c.values, '; check: ', list(a_np - b_np))\n",
        "\n",
        "c = a.dot(b)\n",
        "print('a * b: ', c, '; check: ', a_np.dot(b_np))\n",
        "\n",
        "c = a.cos(b)\n",
        "check = a_np.dot(b_np) / np.linalg.norm(a_np) / np.linalg.norm(b_np)\n",
        "print('cos: ', c, '; check: ', check)"
      ],
      "metadata": {
        "colab": {
          "base_uri": "https://localhost:8080/"
        },
        "id": "fT4rl-PVO5ak",
        "outputId": "e7d9d0d8-0042-4be3-f27b-25f0af6e2fa1"
      },
      "execution_count": 66,
      "outputs": [
        {
          "output_type": "stream",
          "name": "stdout",
          "text": [
            "a + b:  [2, 1, 4, 3, 6] ; check:  [2, 1, 4, 3, 6]\n",
            "a - b:  [0, -3, -2, -5, -4] ; check:  [0, -3, -2, -5, -4]\n",
            "a * b:  3 ; check:  3\n",
            "cos:  0.18090680674665816 ; check:  0.18090680674665818\n"
          ]
        }
      ]
    },
    {
      "cell_type": "code",
      "source": [
        "a = Vector([1, -1, 1])\n",
        "b = Vector([1, 2, 3, 4, 5])\n",
        "\n",
        "c = a + b"
      ],
      "metadata": {
        "colab": {
          "base_uri": "https://localhost:8080/",
          "height": 321
        },
        "id": "I3T9-RgvSFYr",
        "outputId": "f04e3618-0661-4fb5-d90f-6dec17e14fea"
      },
      "execution_count": 67,
      "outputs": [
        {
          "output_type": "error",
          "ename": "ValueError",
          "evalue": "ignored",
          "traceback": [
            "\u001b[0;31m---------------------------------------------------------------------------\u001b[0m",
            "\u001b[0;31mValueError\u001b[0m                                Traceback (most recent call last)",
            "\u001b[0;32m<ipython-input-67-067ae9a235a3>\u001b[0m in \u001b[0;36m<module>\u001b[0;34m\u001b[0m\n\u001b[1;32m      2\u001b[0m \u001b[0mb\u001b[0m \u001b[0;34m=\u001b[0m \u001b[0mVector\u001b[0m\u001b[0;34m(\u001b[0m\u001b[0;34m[\u001b[0m\u001b[0;36m1\u001b[0m\u001b[0;34m,\u001b[0m \u001b[0;36m2\u001b[0m\u001b[0;34m,\u001b[0m \u001b[0;36m3\u001b[0m\u001b[0;34m,\u001b[0m \u001b[0;36m4\u001b[0m\u001b[0;34m,\u001b[0m \u001b[0;36m5\u001b[0m\u001b[0;34m]\u001b[0m\u001b[0;34m)\u001b[0m\u001b[0;34m\u001b[0m\u001b[0;34m\u001b[0m\u001b[0m\n\u001b[1;32m      3\u001b[0m \u001b[0;34m\u001b[0m\u001b[0m\n\u001b[0;32m----> 4\u001b[0;31m \u001b[0mc\u001b[0m \u001b[0;34m=\u001b[0m \u001b[0ma\u001b[0m \u001b[0;34m+\u001b[0m \u001b[0mb\u001b[0m\u001b[0;34m\u001b[0m\u001b[0;34m\u001b[0m\u001b[0m\n\u001b[0m",
            "\u001b[0;32m<ipython-input-65-29bcbde9e2e8>\u001b[0m in \u001b[0;36m__add__\u001b[0;34m(self, other)\u001b[0m\n\u001b[1;32m     14\u001b[0m             \u001b[0;32mraise\u001b[0m \u001b[0mValueError\u001b[0m\u001b[0;34m(\u001b[0m\u001b[0;34m\"A Vector can only be added to a Vector\"\u001b[0m\u001b[0;34m)\u001b[0m\u001b[0;34m\u001b[0m\u001b[0;34m\u001b[0m\u001b[0m\n\u001b[1;32m     15\u001b[0m         \u001b[0;32mif\u001b[0m \u001b[0mlen\u001b[0m\u001b[0;34m(\u001b[0m\u001b[0mself\u001b[0m\u001b[0;34m.\u001b[0m\u001b[0mvalues\u001b[0m\u001b[0;34m)\u001b[0m \u001b[0;34m!=\u001b[0m \u001b[0mlen\u001b[0m\u001b[0;34m(\u001b[0m\u001b[0mother\u001b[0m\u001b[0;34m.\u001b[0m\u001b[0mvalues\u001b[0m\u001b[0;34m)\u001b[0m\u001b[0;34m:\u001b[0m\u001b[0;34m\u001b[0m\u001b[0;34m\u001b[0m\u001b[0m\n\u001b[0;32m---> 16\u001b[0;31m             \u001b[0;32mraise\u001b[0m \u001b[0mValueError\u001b[0m\u001b[0;34m(\u001b[0m\u001b[0;34m\"Vectors must have the same dimension\"\u001b[0m\u001b[0;34m)\u001b[0m\u001b[0;34m\u001b[0m\u001b[0;34m\u001b[0m\u001b[0m\n\u001b[0m\u001b[1;32m     17\u001b[0m         \u001b[0;32mreturn\u001b[0m \u001b[0mVector\u001b[0m\u001b[0;34m(\u001b[0m\u001b[0;34m[\u001b[0m\u001b[0mself\u001b[0m\u001b[0;34m.\u001b[0m\u001b[0mvalues\u001b[0m\u001b[0;34m[\u001b[0m\u001b[0mi\u001b[0m\u001b[0;34m]\u001b[0m \u001b[0;34m+\u001b[0m \u001b[0mother\u001b[0m\u001b[0;34m.\u001b[0m\u001b[0mvalues\u001b[0m\u001b[0;34m[\u001b[0m\u001b[0mi\u001b[0m\u001b[0;34m]\u001b[0m \u001b[0;32mfor\u001b[0m \u001b[0mi\u001b[0m \u001b[0;32min\u001b[0m \u001b[0mrange\u001b[0m\u001b[0;34m(\u001b[0m\u001b[0mlen\u001b[0m\u001b[0;34m(\u001b[0m\u001b[0mself\u001b[0m\u001b[0;34m.\u001b[0m\u001b[0mvalues\u001b[0m\u001b[0;34m)\u001b[0m\u001b[0;34m)\u001b[0m\u001b[0;34m]\u001b[0m\u001b[0;34m)\u001b[0m\u001b[0;34m\u001b[0m\u001b[0;34m\u001b[0m\u001b[0m\n\u001b[1;32m     18\u001b[0m \u001b[0;34m\u001b[0m\u001b[0m\n",
            "\u001b[0;31mValueError\u001b[0m: Vectors must have the same dimension"
          ]
        }
      ]
    },
    {
      "cell_type": "code",
      "source": [
        "c = a - b"
      ],
      "metadata": {
        "id": "CeQsBGz6SK0q"
      },
      "execution_count": null,
      "outputs": []
    },
    {
      "cell_type": "code",
      "source": [
        "c = a.dot(b)"
      ],
      "metadata": {
        "id": "AF3Ei5BWSRSK"
      },
      "execution_count": null,
      "outputs": []
    },
    {
      "cell_type": "code",
      "source": [
        "c = a.cos(b)"
      ],
      "metadata": {
        "id": "Sm8SJjzMSUSi"
      },
      "execution_count": null,
      "outputs": []
    },
    {
      "cell_type": "code",
      "source": [
        "a = Vector([1, 2, 3])\n",
        "b = 1\n",
        "\n",
        "c = a + b"
      ],
      "metadata": {
        "id": "GUjeGL1HSb-T"
      },
      "execution_count": null,
      "outputs": []
    },
    {
      "cell_type": "code",
      "source": [
        "a = Vector([1, 2, 3, 4, 5])\n",
        "b = Vector([0, 0, 0, 0, 0])\n",
        "\n",
        "c = a.cos(b)"
      ],
      "metadata": {
        "id": "O84ofKDPSptS"
      },
      "execution_count": null,
      "outputs": []
    },
    {
      "cell_type": "markdown",
      "metadata": {
        "id": "WjCXa051d6ub"
      },
      "source": [
        "__Задание 4 (2 балл):__ Опишите декоратор, который принимает на вход функцию и при каждом её вызове печатает строку \"This function was called N times\", где N - число раз, которое это функция была вызвана на текущий момент (пока функция существует как объект, это число, очевидно, может только неубывать)."
      ]
    },
    {
      "cell_type": "code",
      "execution_count": null,
      "metadata": {
        "id": "89768CYJd6ub"
      },
      "outputs": [],
      "source": [
        "def calls_counter(callable_obj):\n",
        "    count = 0\n",
        "\n",
        "    def __ntimes(*args, **kw):\n",
        "        nonlocal count\n",
        "        count += 1\n",
        "        result = callable_obj(*args, **kw)\n",
        "        print(f\"This function was called {count} times\")\n",
        "        return result\n",
        "    return __ntimes"
      ]
    },
    {
      "cell_type": "code",
      "source": [
        "@calls_counter\n",
        "def func():\n",
        "    print(\"Hello world\")\n",
        "\n",
        "func()\n",
        "func()\n",
        "func()\n",
        "func()\n",
        "func()"
      ],
      "metadata": {
        "id": "e2MIy_WDWDok"
      },
      "execution_count": null,
      "outputs": []
    },
    {
      "cell_type": "code",
      "source": [
        "@calls_counter\n",
        "def func(a, b):\n",
        "    print(a + b)\n",
        "\n",
        "func(1, 2)\n",
        "func(3, 4)\n",
        "func(1, 2)"
      ],
      "metadata": {
        "id": "6PQ0YwCFXC3r"
      },
      "execution_count": null,
      "outputs": []
    },
    {
      "cell_type": "markdown",
      "metadata": {
        "id": "dcBFPD1md6ub"
      },
      "source": [
        "__Задание 5 (3 балла):__ Опишите декоратор класса, который принимает на вход другой класс и снабжает декорируемый класс всеми атрибутами входного класса, названия которых НЕ начинаются с \"\\_\". В случае конфликтов имён импортируемый атрибут должен получить имя с суффиксом \"\\_new\"."
      ]
    },
    {
      "cell_type": "code",
      "source": [
        "def copy_class_attrs(cls):\n",
        "    def class_dec(cls_dec):\n",
        "        for name, value in cls.__dict__.items():\n",
        "            if not name[0] == \"_\":\n",
        "                if hasattr(cls_dec, name):\n",
        "                    setattr(cls_dec, name + \"_new\", value)\n",
        "                else:\n",
        "                    setattr(cls_dec, name, value)\n",
        "        return cls_dec\n",
        "    return class_dec\n"
      ],
      "metadata": {
        "id": "t6LMe55SdzOp"
      },
      "execution_count": null,
      "outputs": []
    },
    {
      "cell_type": "code",
      "source": [
        "class A:\n",
        "    x = 1\n",
        "    y = 2\n",
        "\n",
        "\n",
        "@copy_class_attrs(A)\n",
        "class B:\n",
        "    y = 5\n",
        "    z = 10\n",
        "\n",
        "b = B()\n",
        "print(b.x)\n",
        "print(b.y)\n",
        "print(b.y_new)\n",
        "print(b.z)"
      ],
      "metadata": {
        "id": "O7-JW3LuSmrO"
      },
      "execution_count": null,
      "outputs": []
    },
    {
      "cell_type": "markdown",
      "metadata": {
        "id": "efaWC3dpd6uc"
      },
      "source": [
        "__Задание 6 (7 баллов):__ Опишите класс для хранения двумерных числовых матриц на основе списков. Реализуйте поддержку индексирования, итерирования по столбцам и строкам, по-элементные математические операции (с помощью магических методов), операцию умножения матрицы (как метод `dot` класса), транспонирование, поиска следа матрицы, а также поиск значения её определителя, если он существует, в противном случае соответствующий метод должен выводить сообщение об ошибке и возвращать `None`.\n",
        "\n",
        "Матрицу должно быть возможным создать из списка (в этом случае у неё будет одна строка), списка списков, или же передав явно три числа: число строк, число столбцов и значение по-умолчанию (которое можно не задавать, в этом случае оно принимается равным нулю). Все операции должны проверять корректность входных данных и выбрасывать исключение с информативным сообщением в случае ошибки.\n",
        "\n",
        "Матрица должна поддерживать методы сохранения на диск в текстовом и бинарном файле и методы обратной загрузки с диска для обоих вариантов. Также она должна поддерживать метод полного копирования. Для бинарного формата обе процедуры должны быть реализованы с помощью шаблона \"примесь\" (Mixin), т.е. указанные функциональности должны быть описаны в специализированных классах, для текстового формата функциональность реализуется в самом классе матрицы.\n",
        "\n",
        "В реализации математических операций запрещается пользоваться любыми функциями, требующими использования оператора `import`."
      ]
    },
    {
      "cell_type": "code",
      "execution_count": 358,
      "metadata": {
        "id": "cRvDj_X9d6uc"
      },
      "outputs": [],
      "source": [
        "from IPython.core.magics.basic import line_magic\n",
        "class Matrix:\n",
        "    def __init__(self, data=None, n_rows=None, n_columns=None, default=0):\n",
        "        if data is None:\n",
        "            if n_rows is None or n_columns is None:\n",
        "                raise ValueError(\"Need to enter either the matrix or its dimensions\")\n",
        "            \n",
        "            if (not isinstance(n_rows, int)) or (not isinstance(n_columns, int)):\n",
        "                raise ValueError(\"The number of rows and columns must be an integer\")\n",
        "\n",
        "            if (n_rows < 1) or (n_columns < 1):\n",
        "                raise ValueError(\"The number of rows and columns must be greater than 0\")\n",
        "            \n",
        "            self.n_rows = n_rows\n",
        "            self.n_columns = n_columns\n",
        "            \n",
        "            if n_rows == 1:\n",
        "                self.data = [default for _ in range(n_columns)]\n",
        "            \n",
        "            else:\n",
        "                self.data = []\n",
        "                for i in range(n_rows):\n",
        "                    self.data.append([default for _ in range(n_columns)])\n",
        "            \n",
        "        else:\n",
        "            if not isinstance(data, list):\n",
        "                raise ValueError(\"The value of the data argument can only be a list\")\n",
        "\n",
        "            # checking whether the matrix is a single row\n",
        "            if isinstance(data[0], (int, float)):\n",
        "                for item in data:\n",
        "                    # checking the correctness of entering numbers in the row\n",
        "                    if not isinstance(item, (int, float)):\n",
        "                        raise ValueError(\"The matrix can consist only of numbers\")\n",
        "\n",
        "                self.data = [data]\n",
        "                self.n_rows = 1\n",
        "                self.n_columns = len(data)\n",
        "\n",
        "            elif isinstance(data[0], list):\n",
        "                length = len(data[0])\n",
        "                for item in data:\n",
        "                    if not isinstance(item, list):\n",
        "                        raise ValueError(\"The rows of the matrix should be set as lists\")\n",
        "\n",
        "                    # checking the length of the strings\n",
        "                    if len(item) != length:\n",
        "                        raise ValueError(\"The rows must be the same length\")\n",
        "\n",
        "                    # checking the correctness of entering numbers in the matrix\n",
        "                    for num in item:\n",
        "                        if not isinstance(num, (int, float)):\n",
        "                            raise ValueError(\"The matrix can consist only of numbers\")\n",
        "\n",
        "                self.data = data\n",
        "                self.n_rows = len(data)\n",
        "                self.n_columns = len(data[0])\n",
        "\n",
        "            else:\n",
        "                raise ValueError(\"The matrix can contain only numbers\")\n",
        "    \n",
        "    def print(self):\n",
        "        i = 0\n",
        "        print('[', end='')\n",
        "        for item in self:\n",
        "            i += 1\n",
        "            if i == self.n_rows:\n",
        "                print(item, end=']\\n')\n",
        "            else:\n",
        "                print(item, end=',\\n')\n",
        "\n",
        "    def __getitem__(self, ind):\n",
        "        return self.data[ind]\n",
        "    \n",
        "    def __setitem__(self, ind, value):\n",
        "        self.data[ind] = value\n",
        "    \n",
        "    def __iter__(self):\n",
        "        for i in range(self.n_rows):\n",
        "            yield [self[i][j] for j in range(self.n_columns)]\n",
        "\n",
        "    def iter_col(self):\n",
        "        for i in range(self.n_columns):\n",
        "            yield [self[j][i] for j in range(self.n_rows)]\n",
        "    \n",
        "    def __add__(self, other):\n",
        "        if not isinstance(other, Matrix):\n",
        "            raise ValueError(\"Only the Matrix can be added to the Matrix\")\n",
        "            \n",
        "        if self.n_rows != other.n_rows or self.n_columns != other.n_columns:\n",
        "            raise ValueError(\"The Matrices must be of the same size\")\n",
        "\n",
        "        return Matrix([[self[i][j] + other[i][j] for j in range(self.n_columns)]\\\n",
        "                       for i in range(self.n_rows)])\n",
        "    \n",
        "    def __sub__(self, other):\n",
        "        if not isinstance(other, Matrix):\n",
        "            raise ValueError(\"Only the Matrix can be subtracted from the Matrix\")\n",
        "\n",
        "        if self.n_rows != other.n_rows or self.n_columns != other.n_columns:\n",
        "            raise ValueError(\"The Matrices must be of the same size\")\n",
        "        \n",
        "        return Matrix([[self[i][j] - other[i][j] for j in range(self.n_columns)]\\\n",
        "                       for i in range(self.n_rows)])\n",
        "    \n",
        "    def __mul__(self, other):                \n",
        "        if isinstance(other, (int, float)):\n",
        "            return Matrix([[self[i][j] * other for j in range(self.n_columns)]\\\n",
        "                           for i in range(self.n_rows)])\n",
        "            \n",
        "        if isinstance(other, Matrix):\n",
        "            if self.n_rows != other.n_rows or self.n_columns != other.n_columns:\n",
        "                raise ValueError(\"The Matrices must be of the same size\")\n",
        "\n",
        "            return Matrix([[self[i][j] * other[i][j] for j in range(self.n_columns)]\\\n",
        "                       for i in range(self.n_rows)])\n",
        "        \n",
        "        else:\n",
        "            raise ValueError(\"Incorrect data format\")\n",
        "    \n",
        "    def __truediv__(self, other):\n",
        "        if not isinstance(other, Matrix):\n",
        "            raise ValueError(\"Element-wise division is feasible only for two Matrices\")\n",
        "\n",
        "        if self.n_rows != other.n_rows or self.n_columns != other.n_columns:\n",
        "            raise ValueError(\"The Matrices must be of the same size\")\n",
        "        \n",
        "        for row in other:\n",
        "            for item in row:\n",
        "                if item == 0:\n",
        "                    raise ValueError(\"Division by zero!\")\n",
        "        \n",
        "        return Matrix([[float(self[i][j]) / other[i][j] for j in range(self.n_columns)]\\\n",
        "                       for i in range(self.n_rows)])\n",
        "    \n",
        "    def dot(self, other):\n",
        "        if not isinstance(other, Matrix):\n",
        "            raise ValueError(\"Only the matrix can be vector multiplied by the matrix\")\n",
        "            \n",
        "        if self.n_columns != other.n_rows:\n",
        "            raise ValueError(\"The number of columns of the first Matrix must be equal to the number of rows of the second Matrix\")\n",
        "        \n",
        "        if self.n_rows == 1 and other.n_columns == 1:\n",
        "            return sum([self[0][i] * other[i][0] for i in range(other.n_rows)])\n",
        "        \n",
        "        return Matrix([[sum(self[i][j] * other[j][k] for j in range(self.n_columns))\\\n",
        "                        for k in range(other.n_columns)]for i in range(self.n_rows)])\n",
        "    \n",
        "    def transpose(self):\n",
        "        return Matrix([[self[i][j] for i in range(self.n_rows)] for j in range(self.n_columns)])\n",
        "    \n",
        "    def trace(self):\n",
        "        if self.n_rows != self.n_columns:\n",
        "            raise ValueError(\"The trace can only be found in a square Matrix\")\n",
        "        \n",
        "        return sum(self[i][i] for i in range(self.n_rows))\n",
        "\n",
        "    def det(self):\n",
        "        if self.n_rows != self.n_columns:\n",
        "            raise ValueError(\"The Matrix must be square\")\n",
        "            return None\n",
        "        \n",
        "        n = self.n_rows\n",
        "        if n == 1:\n",
        "            return self[0][0]\n",
        "        \n",
        "        elif n == 2:\n",
        "            return self[0][0] * self[1][1] - self[0][1] * self[1][0]\n",
        "\n",
        "        else:\n",
        "            determinant = 0\n",
        "            for i in range(n):\n",
        "                minor = Matrix([[self[j][k] for k in range(n)\\\n",
        "                                 if k != i] for j in range(1, n)])\n",
        "                determinant += (-1) ** i * self[0][i] * minor.det()\n",
        "            return determinant\n",
        "\n",
        "    def copy(self):\n",
        "        return Matrix([[self[i][j] for j in range(self.n_columns)] for i in range(self.n_rows)])\n",
        "\n",
        "    def save_to_text(self, filename):\n",
        "        with open(filename, \"w\") as fout:\n",
        "            for line in self:\n",
        "                fout.write(\" \".join(str(x) for x in line) + \"\\n\")\n",
        "\n",
        "    def load_from_text(self, filename):\n",
        "        with open(filename, \"r\") as fin:\n",
        "            data = [[float(x) for x in line.split()] for line in fin.readlines()]\n",
        "        return Matrix(data)\n",
        "\n",
        "class Matrix_to_Binary_Mixin:\n",
        "    def save_to_binary(self, filename):\n",
        "        with open(filename, \"wb\") as fout:\n",
        "            for line in self:\n",
        "                words = \" \".join(str(x) for x in line) + '\\n'\n",
        "                fout.write(words.encode())\n",
        "\n",
        "    @classmethod\n",
        "    def load_from_binary(cls, filename):\n",
        "        data = []\n",
        "        with open(filename, \"rb\") as fin:\n",
        "            for line in fin.readlines():\n",
        "                s = line.decode()[:-1]\n",
        "                row = [float(x) for x in s.split()]\n",
        "                data.append(row)\n",
        "        return cls(data)\n",
        "\n",
        "class Matrix_Binary(Matrix, Matrix_to_Binary_Mixin):\n",
        "    pass"
      ]
    },
    {
      "cell_type": "code",
      "source": [
        "a = Matrix([[1, 2, 3], [-4, 5, 0]])\n",
        "a.save_to_text(\"matrix.txt\")\n",
        "b = a.load_from_text(\"matrix.txt\")\n",
        "b.print()"
      ],
      "metadata": {
        "colab": {
          "base_uri": "https://localhost:8080/"
        },
        "id": "k9o26kYjj2X4",
        "outputId": "c660caf0-64cf-4214-f66e-9279deb40b68"
      },
      "execution_count": 359,
      "outputs": [
        {
          "output_type": "stream",
          "name": "stdout",
          "text": [
            "[[1.0, 2.0, 3.0],\n",
            "[-4.0, 5.0, 0.0]]\n"
          ]
        }
      ]
    },
    {
      "cell_type": "code",
      "source": [
        "a = Matrix_Binary([[1, 2, 3], [-4, 5, 0]])\n",
        "a.save_to_binary(\"matrix.bin\")\n",
        "b = Matrix_Binary.load_from_binary(\"matrix.bin\")\n",
        "b.print()"
      ],
      "metadata": {
        "colab": {
          "base_uri": "https://localhost:8080/"
        },
        "id": "IOLO3BUDg0Sg",
        "outputId": "34ab23f8-5013-4993-f272-a80fd976e6cb"
      },
      "execution_count": 360,
      "outputs": [
        {
          "output_type": "stream",
          "name": "stdout",
          "text": [
            "[[1.0, 2.0, 3.0],\n",
            "[-4.0, 5.0, 0.0]]\n"
          ]
        }
      ]
    },
    {
      "cell_type": "code",
      "source": [
        "a = Matrix([1, 5])\n",
        "print(a.data)\n",
        "print(a.n_rows)\n",
        "print(a.n_columns)"
      ],
      "metadata": {
        "colab": {
          "base_uri": "https://localhost:8080/"
        },
        "id": "eXoNWHKsr64E",
        "outputId": "f38678de-f476-48f1-9b5a-3f0e19f0c663"
      },
      "execution_count": 361,
      "outputs": [
        {
          "output_type": "stream",
          "name": "stdout",
          "text": [
            "[[1, 5]]\n",
            "1\n",
            "2\n"
          ]
        }
      ]
    },
    {
      "cell_type": "code",
      "source": [
        "a = Matrix([[1, 2, 3], [-1, 2.0, 3]])\n",
        "print(\"data: \", a.data)\n",
        "print(\"n_rows: \", a.n_rows)\n",
        "print(\"n_columns: \", a.n_columns)\n",
        "print(\"a[1][0]: \", a[1][0])\n",
        "a[1][0] = -2\n",
        "print(\"a[1][0] = -2: \", a.data)\n",
        "print(\"\\nIter:\")\n",
        "for item in a:\n",
        "    print(item)\n",
        "print(\"\\nIter_col:\")\n",
        "for item in a.iter_col():\n",
        "    print(item)"
      ],
      "metadata": {
        "colab": {
          "base_uri": "https://localhost:8080/"
        },
        "id": "ZPCnP7N0t1Ss",
        "outputId": "3d37b923-15f4-4b73-fa1b-2daef1388e07"
      },
      "execution_count": 362,
      "outputs": [
        {
          "output_type": "stream",
          "name": "stdout",
          "text": [
            "data:  [[1, 2, 3], [-1, 2.0, 3]]\n",
            "n_rows:  2\n",
            "n_columns:  3\n",
            "a[1][0]:  -1\n",
            "a[1][0] = -2:  [[1, 2, 3], [-2, 2.0, 3]]\n",
            "\n",
            "Iter:\n",
            "[1, 2, 3]\n",
            "[-2, 2.0, 3]\n",
            "\n",
            "Iter_col:\n",
            "[1, -2]\n",
            "[2, 2.0]\n",
            "[3, 3]\n"
          ]
        }
      ]
    },
    {
      "cell_type": "code",
      "source": [
        "a = Matrix(n_rows=1, n_columns=5)\n",
        "print(a.data)\n",
        "print(a.n_rows)\n",
        "print(a.n_columns)"
      ],
      "metadata": {
        "colab": {
          "base_uri": "https://localhost:8080/"
        },
        "id": "8_IyhhGGyaSJ",
        "outputId": "dc651757-b404-4044-d26b-ac817d263f05"
      },
      "execution_count": 363,
      "outputs": [
        {
          "output_type": "stream",
          "name": "stdout",
          "text": [
            "[0, 0, 0, 0, 0]\n",
            "1\n",
            "5\n"
          ]
        }
      ]
    },
    {
      "cell_type": "code",
      "source": [
        "a = Matrix(n_rows=3, n_columns=7, default=10)\n",
        "print(a.data)\n",
        "print(a.n_rows)\n",
        "print(a.n_columns)"
      ],
      "metadata": {
        "colab": {
          "base_uri": "https://localhost:8080/"
        },
        "id": "X2dCNR8hyjMY",
        "outputId": "1bad2ea5-c3e4-4cf1-eed6-c7366924eff5"
      },
      "execution_count": 364,
      "outputs": [
        {
          "output_type": "stream",
          "name": "stdout",
          "text": [
            "[[10, 10, 10, 10, 10, 10, 10], [10, 10, 10, 10, 10, 10, 10], [10, 10, 10, 10, 10, 10, 10]]\n",
            "3\n",
            "7\n"
          ]
        }
      ]
    },
    {
      "cell_type": "code",
      "source": [
        "a = Matrix([[1, 2, 3], [-1, 2.0, 3]])\n",
        "b = Matrix(n_rows=2, n_columns=3, default=5)\n",
        "print(\"a:\")\n",
        "a.print()\n",
        "print(\"\\nb:\")\n",
        "b.print()\n",
        "\n",
        "c = a + b\n",
        "print(\"\\na + b:\")\n",
        "c.print()\n",
        "\n",
        "d = a - b\n",
        "print(\"\\na - b:\")\n",
        "d.print()\n",
        "\n",
        "e = a * b\n",
        "print(\"\\na * b:\")\n",
        "e.print()\n",
        "\n",
        "f = a * 7.5\n",
        "print(\"\\na * 7.5:\")\n",
        "f.print()\n",
        "\n",
        "g = a / b\n",
        "print(\"\\na / b:\")\n",
        "g.print()"
      ],
      "metadata": {
        "colab": {
          "base_uri": "https://localhost:8080/"
        },
        "id": "FffIehDw7LKO",
        "outputId": "f8cdc7c2-3c86-4eda-9b13-c01acb0470a8"
      },
      "execution_count": 365,
      "outputs": [
        {
          "output_type": "stream",
          "name": "stdout",
          "text": [
            "a:\n",
            "[[1, 2, 3],\n",
            "[-1, 2.0, 3]]\n",
            "\n",
            "b:\n",
            "[[5, 5, 5],\n",
            "[5, 5, 5]]\n",
            "\n",
            "a + b:\n",
            "[[6, 7, 8],\n",
            "[4, 7.0, 8]]\n",
            "\n",
            "a - b:\n",
            "[[-4, -3, -2],\n",
            "[-6, -3.0, -2]]\n",
            "\n",
            "a * b:\n",
            "[[5, 10, 15],\n",
            "[-5, 10.0, 15]]\n",
            "\n",
            "a * 7.5:\n",
            "[[7.5, 15.0, 22.5],\n",
            "[-7.5, 15.0, 22.5]]\n",
            "\n",
            "a / b:\n",
            "[[0.2, 0.4, 0.6],\n",
            "[-0.2, 0.4, 0.6]]\n"
          ]
        }
      ]
    },
    {
      "cell_type": "code",
      "source": [
        "a = Matrix([[1, 2, 3], [-1, 2.0, 3]])\n",
        "b = Matrix([[1, 2], [-1, -1], [0, 0]])\n",
        "print(\"a:\")\n",
        "a.print()\n",
        "print(\"\\nb:\")\n",
        "b.print()\n",
        "\n",
        "c = a.dot(b)\n",
        "print(\"\\n[a x b]:\")\n",
        "c.print()\n",
        "\n",
        "d = c.trace()\n",
        "print(\"\\nTrace([a x b]):\")\n",
        "print(d)\n",
        "\n",
        "e = c.det()\n",
        "print(\"\\ndet([a x b]):\")\n",
        "print(e)\n",
        "\n",
        "f = a.transpose()\n",
        "print(\"\\na.T:\")\n",
        "f.print()"
      ],
      "metadata": {
        "colab": {
          "base_uri": "https://localhost:8080/"
        },
        "id": "6j3oSAu1Mryn",
        "outputId": "1229f767-bd96-43a1-f2b9-3b768438f454"
      },
      "execution_count": 366,
      "outputs": [
        {
          "output_type": "stream",
          "name": "stdout",
          "text": [
            "a:\n",
            "[[1, 2, 3],\n",
            "[-1, 2.0, 3]]\n",
            "\n",
            "b:\n",
            "[[1, 2],\n",
            "[-1, -1],\n",
            "[0, 0]]\n",
            "\n",
            "[a x b]:\n",
            "[[-1, 0],\n",
            "[-3.0, -4.0]]\n",
            "\n",
            "Trace([a x b]):\n",
            "-5.0\n",
            "\n",
            "det([a x b]):\n",
            "4.0\n",
            "\n",
            "a.T:\n",
            "[[1, -1],\n",
            "[2, 2.0],\n",
            "[3, 3]]\n"
          ]
        }
      ]
    },
    {
      "cell_type": "code",
      "source": [
        "a = Matrix([[1, 2, 3], [4, 5, 6], [7, 8, 9]])\n",
        "print(\"a:\")\n",
        "a.print()\n",
        "\n",
        "c = a.det()\n",
        "print(\"\\ndet(a):\")\n",
        "print(c)\n",
        "\n",
        "b = Matrix([[1, 2, 3, 4], [-1, 2, -4, -5], [0, 0, 2, 1], [0, 0, 1.0, 1.0]])\n",
        "print(\"\\nb:\")\n",
        "b.print()\n",
        "\n",
        "d = b.det()\n",
        "print(\"\\ndet(b):\")\n",
        "print(d)"
      ],
      "metadata": {
        "colab": {
          "base_uri": "https://localhost:8080/"
        },
        "id": "ZgIrdu95Voj3",
        "outputId": "97b3ddfd-d81d-4b78-c6c5-e13a61853c35"
      },
      "execution_count": 367,
      "outputs": [
        {
          "output_type": "stream",
          "name": "stdout",
          "text": [
            "a:\n",
            "[[1, 2, 3],\n",
            "[4, 5, 6],\n",
            "[7, 8, 9]]\n",
            "\n",
            "det(a):\n",
            "0\n",
            "\n",
            "b:\n",
            "[[1, 2, 3, 4],\n",
            "[-1, 2, -4, -5],\n",
            "[0, 0, 2, 1],\n",
            "[0, 0, 1.0, 1.0]]\n",
            "\n",
            "det(b):\n",
            "4.0\n"
          ]
        }
      ]
    },
    {
      "cell_type": "code",
      "source": [
        "a = Matrix(['a', 1])"
      ],
      "metadata": {
        "colab": {
          "base_uri": "https://localhost:8080/",
          "height": 287
        },
        "id": "0QRnEfNbtSba",
        "outputId": "c65d703a-f7c7-4414-8047-5f6cf398121c"
      },
      "execution_count": 368,
      "outputs": [
        {
          "output_type": "error",
          "ename": "ValueError",
          "evalue": "ignored",
          "traceback": [
            "\u001b[0;31m---------------------------------------------------------------------------\u001b[0m",
            "\u001b[0;31mValueError\u001b[0m                                Traceback (most recent call last)",
            "\u001b[0;32m<ipython-input-368-c74c152ccd94>\u001b[0m in \u001b[0;36m<module>\u001b[0;34m\u001b[0m\n\u001b[0;32m----> 1\u001b[0;31m \u001b[0ma\u001b[0m \u001b[0;34m=\u001b[0m \u001b[0mMatrix\u001b[0m\u001b[0;34m(\u001b[0m\u001b[0;34m[\u001b[0m\u001b[0;34m'a'\u001b[0m\u001b[0;34m,\u001b[0m \u001b[0;36m1\u001b[0m\u001b[0;34m]\u001b[0m\u001b[0;34m)\u001b[0m\u001b[0;34m\u001b[0m\u001b[0;34m\u001b[0m\u001b[0m\n\u001b[0m",
            "\u001b[0;32m<ipython-input-358-c34b7d074670>\u001b[0m in \u001b[0;36m__init__\u001b[0;34m(self, data, n_rows, n_columns, default)\u001b[0m\n\u001b[1;32m     58\u001b[0m \u001b[0;34m\u001b[0m\u001b[0m\n\u001b[1;32m     59\u001b[0m             \u001b[0;32melse\u001b[0m\u001b[0;34m:\u001b[0m\u001b[0;34m\u001b[0m\u001b[0;34m\u001b[0m\u001b[0m\n\u001b[0;32m---> 60\u001b[0;31m                 \u001b[0;32mraise\u001b[0m \u001b[0mValueError\u001b[0m\u001b[0;34m(\u001b[0m\u001b[0;34m\"The matrix can contain only numbers\"\u001b[0m\u001b[0;34m)\u001b[0m\u001b[0;34m\u001b[0m\u001b[0;34m\u001b[0m\u001b[0m\n\u001b[0m\u001b[1;32m     61\u001b[0m \u001b[0;34m\u001b[0m\u001b[0m\n\u001b[1;32m     62\u001b[0m     \u001b[0;32mdef\u001b[0m \u001b[0mprint\u001b[0m\u001b[0;34m(\u001b[0m\u001b[0mself\u001b[0m\u001b[0;34m)\u001b[0m\u001b[0;34m:\u001b[0m\u001b[0;34m\u001b[0m\u001b[0;34m\u001b[0m\u001b[0m\n",
            "\u001b[0;31mValueError\u001b[0m: The matrix can contain only numbers"
          ]
        }
      ]
    },
    {
      "cell_type": "code",
      "source": [
        "a = Matrix([[1, 2.0, 3.1], [1, 2]])"
      ],
      "metadata": {
        "colab": {
          "base_uri": "https://localhost:8080/",
          "height": 287
        },
        "id": "JmPpwoERs9Us",
        "outputId": "dd174db9-18d1-4838-a6bc-f90eadc0edeb"
      },
      "execution_count": 370,
      "outputs": [
        {
          "output_type": "error",
          "ename": "ValueError",
          "evalue": "ignored",
          "traceback": [
            "\u001b[0;31m---------------------------------------------------------------------------\u001b[0m",
            "\u001b[0;31mValueError\u001b[0m                                Traceback (most recent call last)",
            "\u001b[0;32m<ipython-input-370-0408981a550a>\u001b[0m in \u001b[0;36m<module>\u001b[0;34m\u001b[0m\n\u001b[0;32m----> 1\u001b[0;31m \u001b[0ma\u001b[0m \u001b[0;34m=\u001b[0m \u001b[0mMatrix\u001b[0m\u001b[0;34m(\u001b[0m\u001b[0;34m[\u001b[0m\u001b[0;34m[\u001b[0m\u001b[0;36m1\u001b[0m\u001b[0;34m,\u001b[0m \u001b[0;36m2.0\u001b[0m\u001b[0;34m,\u001b[0m \u001b[0;36m3.1\u001b[0m\u001b[0;34m]\u001b[0m\u001b[0;34m,\u001b[0m \u001b[0;34m[\u001b[0m\u001b[0;36m1\u001b[0m\u001b[0;34m,\u001b[0m \u001b[0;36m2\u001b[0m\u001b[0;34m]\u001b[0m\u001b[0;34m]\u001b[0m\u001b[0;34m)\u001b[0m\u001b[0;34m\u001b[0m\u001b[0;34m\u001b[0m\u001b[0m\n\u001b[0m",
            "\u001b[0;32m<ipython-input-358-c34b7d074670>\u001b[0m in \u001b[0;36m__init__\u001b[0;34m(self, data, n_rows, n_columns, default)\u001b[0m\n\u001b[1;32m     46\u001b[0m                     \u001b[0;31m# checking the length of the strings\u001b[0m\u001b[0;34m\u001b[0m\u001b[0;34m\u001b[0m\u001b[0m\n\u001b[1;32m     47\u001b[0m                     \u001b[0;32mif\u001b[0m \u001b[0mlen\u001b[0m\u001b[0;34m(\u001b[0m\u001b[0mitem\u001b[0m\u001b[0;34m)\u001b[0m \u001b[0;34m!=\u001b[0m \u001b[0mlength\u001b[0m\u001b[0;34m:\u001b[0m\u001b[0;34m\u001b[0m\u001b[0;34m\u001b[0m\u001b[0m\n\u001b[0;32m---> 48\u001b[0;31m                         \u001b[0;32mraise\u001b[0m \u001b[0mValueError\u001b[0m\u001b[0;34m(\u001b[0m\u001b[0;34m\"The rows must be the same length\"\u001b[0m\u001b[0;34m)\u001b[0m\u001b[0;34m\u001b[0m\u001b[0;34m\u001b[0m\u001b[0m\n\u001b[0m\u001b[1;32m     49\u001b[0m \u001b[0;34m\u001b[0m\u001b[0m\n\u001b[1;32m     50\u001b[0m                     \u001b[0;31m# checking the correctness of entering numbers in the matrix\u001b[0m\u001b[0;34m\u001b[0m\u001b[0;34m\u001b[0m\u001b[0m\n",
            "\u001b[0;31mValueError\u001b[0m: The rows must be the same length"
          ]
        }
      ]
    },
    {
      "cell_type": "code",
      "source": [
        "a = Matrix([[1, 2], [1, 3], 3])"
      ],
      "metadata": {
        "colab": {
          "base_uri": "https://localhost:8080/",
          "height": 287
        },
        "id": "PRuppzEbsZB6",
        "outputId": "1314323a-b37c-42f8-d2f7-ca1c83f4e3ab"
      },
      "execution_count": 371,
      "outputs": [
        {
          "output_type": "error",
          "ename": "ValueError",
          "evalue": "ignored",
          "traceback": [
            "\u001b[0;31m---------------------------------------------------------------------------\u001b[0m",
            "\u001b[0;31mValueError\u001b[0m                                Traceback (most recent call last)",
            "\u001b[0;32m<ipython-input-371-0df0c6016c85>\u001b[0m in \u001b[0;36m<module>\u001b[0;34m\u001b[0m\n\u001b[0;32m----> 1\u001b[0;31m \u001b[0ma\u001b[0m \u001b[0;34m=\u001b[0m \u001b[0mMatrix\u001b[0m\u001b[0;34m(\u001b[0m\u001b[0;34m[\u001b[0m\u001b[0;34m[\u001b[0m\u001b[0;36m1\u001b[0m\u001b[0;34m,\u001b[0m \u001b[0;36m2\u001b[0m\u001b[0;34m]\u001b[0m\u001b[0;34m,\u001b[0m \u001b[0;34m[\u001b[0m\u001b[0;36m1\u001b[0m\u001b[0;34m,\u001b[0m \u001b[0;36m3\u001b[0m\u001b[0;34m]\u001b[0m\u001b[0;34m,\u001b[0m \u001b[0;36m3\u001b[0m\u001b[0;34m]\u001b[0m\u001b[0;34m)\u001b[0m\u001b[0;34m\u001b[0m\u001b[0;34m\u001b[0m\u001b[0m\n\u001b[0m",
            "\u001b[0;32m<ipython-input-358-c34b7d074670>\u001b[0m in \u001b[0;36m__init__\u001b[0;34m(self, data, n_rows, n_columns, default)\u001b[0m\n\u001b[1;32m     42\u001b[0m                 \u001b[0;32mfor\u001b[0m \u001b[0mitem\u001b[0m \u001b[0;32min\u001b[0m \u001b[0mdata\u001b[0m\u001b[0;34m:\u001b[0m\u001b[0;34m\u001b[0m\u001b[0;34m\u001b[0m\u001b[0m\n\u001b[1;32m     43\u001b[0m                     \u001b[0;32mif\u001b[0m \u001b[0;32mnot\u001b[0m \u001b[0misinstance\u001b[0m\u001b[0;34m(\u001b[0m\u001b[0mitem\u001b[0m\u001b[0;34m,\u001b[0m \u001b[0mlist\u001b[0m\u001b[0;34m)\u001b[0m\u001b[0;34m:\u001b[0m\u001b[0;34m\u001b[0m\u001b[0;34m\u001b[0m\u001b[0m\n\u001b[0;32m---> 44\u001b[0;31m                         \u001b[0;32mraise\u001b[0m \u001b[0mValueError\u001b[0m\u001b[0;34m(\u001b[0m\u001b[0;34m\"The rows of the matrix should be set as lists\"\u001b[0m\u001b[0;34m)\u001b[0m\u001b[0;34m\u001b[0m\u001b[0;34m\u001b[0m\u001b[0m\n\u001b[0m\u001b[1;32m     45\u001b[0m \u001b[0;34m\u001b[0m\u001b[0m\n\u001b[1;32m     46\u001b[0m                     \u001b[0;31m# checking the length of the strings\u001b[0m\u001b[0;34m\u001b[0m\u001b[0;34m\u001b[0m\u001b[0m\n",
            "\u001b[0;31mValueError\u001b[0m: The rows of the matrix should be set as lists"
          ]
        }
      ]
    },
    {
      "cell_type": "code",
      "source": [
        "a = Matrix([[[]]])\n",
        "print(a.data)"
      ],
      "metadata": {
        "colab": {
          "base_uri": "https://localhost:8080/",
          "height": 304
        },
        "id": "09TwHJKEsOtj",
        "outputId": "61cd807f-f2c8-458c-c9a9-7af1c7a4d55a"
      },
      "execution_count": 372,
      "outputs": [
        {
          "output_type": "error",
          "ename": "ValueError",
          "evalue": "ignored",
          "traceback": [
            "\u001b[0;31m---------------------------------------------------------------------------\u001b[0m",
            "\u001b[0;31mValueError\u001b[0m                                Traceback (most recent call last)",
            "\u001b[0;32m<ipython-input-372-d3aeba604d56>\u001b[0m in \u001b[0;36m<module>\u001b[0;34m\u001b[0m\n\u001b[0;32m----> 1\u001b[0;31m \u001b[0ma\u001b[0m \u001b[0;34m=\u001b[0m \u001b[0mMatrix\u001b[0m\u001b[0;34m(\u001b[0m\u001b[0;34m[\u001b[0m\u001b[0;34m[\u001b[0m\u001b[0;34m[\u001b[0m\u001b[0;34m]\u001b[0m\u001b[0;34m]\u001b[0m\u001b[0;34m]\u001b[0m\u001b[0;34m)\u001b[0m\u001b[0;34m\u001b[0m\u001b[0;34m\u001b[0m\u001b[0m\n\u001b[0m\u001b[1;32m      2\u001b[0m \u001b[0mprint\u001b[0m\u001b[0;34m(\u001b[0m\u001b[0ma\u001b[0m\u001b[0;34m.\u001b[0m\u001b[0mdata\u001b[0m\u001b[0;34m)\u001b[0m\u001b[0;34m\u001b[0m\u001b[0;34m\u001b[0m\u001b[0m\n",
            "\u001b[0;32m<ipython-input-358-c34b7d074670>\u001b[0m in \u001b[0;36m__init__\u001b[0;34m(self, data, n_rows, n_columns, default)\u001b[0m\n\u001b[1;32m     51\u001b[0m                     \u001b[0;32mfor\u001b[0m \u001b[0mnum\u001b[0m \u001b[0;32min\u001b[0m \u001b[0mitem\u001b[0m\u001b[0;34m:\u001b[0m\u001b[0;34m\u001b[0m\u001b[0;34m\u001b[0m\u001b[0m\n\u001b[1;32m     52\u001b[0m                         \u001b[0;32mif\u001b[0m \u001b[0;32mnot\u001b[0m \u001b[0misinstance\u001b[0m\u001b[0;34m(\u001b[0m\u001b[0mnum\u001b[0m\u001b[0;34m,\u001b[0m \u001b[0;34m(\u001b[0m\u001b[0mint\u001b[0m\u001b[0;34m,\u001b[0m \u001b[0mfloat\u001b[0m\u001b[0;34m)\u001b[0m\u001b[0;34m)\u001b[0m\u001b[0;34m:\u001b[0m\u001b[0;34m\u001b[0m\u001b[0;34m\u001b[0m\u001b[0m\n\u001b[0;32m---> 53\u001b[0;31m                             \u001b[0;32mraise\u001b[0m \u001b[0mValueError\u001b[0m\u001b[0;34m(\u001b[0m\u001b[0;34m\"The matrix can consist only of numbers\"\u001b[0m\u001b[0;34m)\u001b[0m\u001b[0;34m\u001b[0m\u001b[0;34m\u001b[0m\u001b[0m\n\u001b[0m\u001b[1;32m     54\u001b[0m \u001b[0;34m\u001b[0m\u001b[0m\n\u001b[1;32m     55\u001b[0m                 \u001b[0mself\u001b[0m\u001b[0;34m.\u001b[0m\u001b[0mdata\u001b[0m \u001b[0;34m=\u001b[0m \u001b[0mdata\u001b[0m\u001b[0;34m\u001b[0m\u001b[0;34m\u001b[0m\u001b[0m\n",
            "\u001b[0;31mValueError\u001b[0m: The matrix can consist only of numbers"
          ]
        }
      ]
    },
    {
      "cell_type": "code",
      "source": [
        "a = Matrix(1)"
      ],
      "metadata": {
        "colab": {
          "base_uri": "https://localhost:8080/",
          "height": 287
        },
        "id": "nYQuDmKGsIND",
        "outputId": "0200bc97-2efe-47fc-dcbf-6e1438b2fb6e"
      },
      "execution_count": 373,
      "outputs": [
        {
          "output_type": "error",
          "ename": "ValueError",
          "evalue": "ignored",
          "traceback": [
            "\u001b[0;31m---------------------------------------------------------------------------\u001b[0m",
            "\u001b[0;31mValueError\u001b[0m                                Traceback (most recent call last)",
            "\u001b[0;32m<ipython-input-373-80529dd4b4d7>\u001b[0m in \u001b[0;36m<module>\u001b[0;34m\u001b[0m\n\u001b[0;32m----> 1\u001b[0;31m \u001b[0ma\u001b[0m \u001b[0;34m=\u001b[0m \u001b[0mMatrix\u001b[0m\u001b[0;34m(\u001b[0m\u001b[0;36m1\u001b[0m\u001b[0;34m)\u001b[0m\u001b[0;34m\u001b[0m\u001b[0;34m\u001b[0m\u001b[0m\n\u001b[0m",
            "\u001b[0;32m<ipython-input-358-c34b7d074670>\u001b[0m in \u001b[0;36m__init__\u001b[0;34m(self, data, n_rows, n_columns, default)\u001b[0m\n\u001b[1;32m     25\u001b[0m         \u001b[0;32melse\u001b[0m\u001b[0;34m:\u001b[0m\u001b[0;34m\u001b[0m\u001b[0;34m\u001b[0m\u001b[0m\n\u001b[1;32m     26\u001b[0m             \u001b[0;32mif\u001b[0m \u001b[0;32mnot\u001b[0m \u001b[0misinstance\u001b[0m\u001b[0;34m(\u001b[0m\u001b[0mdata\u001b[0m\u001b[0;34m,\u001b[0m \u001b[0mlist\u001b[0m\u001b[0;34m)\u001b[0m\u001b[0;34m:\u001b[0m\u001b[0;34m\u001b[0m\u001b[0;34m\u001b[0m\u001b[0m\n\u001b[0;32m---> 27\u001b[0;31m                 \u001b[0;32mraise\u001b[0m \u001b[0mValueError\u001b[0m\u001b[0;34m(\u001b[0m\u001b[0;34m\"The value of the data argument can only be a list\"\u001b[0m\u001b[0;34m)\u001b[0m\u001b[0;34m\u001b[0m\u001b[0;34m\u001b[0m\u001b[0m\n\u001b[0m\u001b[1;32m     28\u001b[0m \u001b[0;34m\u001b[0m\u001b[0m\n\u001b[1;32m     29\u001b[0m             \u001b[0;31m# checking whether the matrix is a single row\u001b[0m\u001b[0;34m\u001b[0m\u001b[0;34m\u001b[0m\u001b[0m\n",
            "\u001b[0;31mValueError\u001b[0m: The value of the data argument can only be a list"
          ]
        }
      ]
    },
    {
      "cell_type": "code",
      "source": [
        "a = Matrix([[1, 2, 3], [-1, 2.0, 3]])\n",
        "b = Matrix([1, 2, 3])\n",
        "c = a + b"
      ],
      "metadata": {
        "colab": {
          "base_uri": "https://localhost:8080/",
          "height": 321
        },
        "id": "i0lOWpX9lDvv",
        "outputId": "9b7b8aa6-13fe-4f33-f2e4-b36c5af2e18f"
      },
      "execution_count": 374,
      "outputs": [
        {
          "output_type": "error",
          "ename": "ValueError",
          "evalue": "ignored",
          "traceback": [
            "\u001b[0;31m---------------------------------------------------------------------------\u001b[0m",
            "\u001b[0;31mValueError\u001b[0m                                Traceback (most recent call last)",
            "\u001b[0;32m<ipython-input-374-64b2ad1905fa>\u001b[0m in \u001b[0;36m<module>\u001b[0;34m\u001b[0m\n\u001b[1;32m      1\u001b[0m \u001b[0ma\u001b[0m \u001b[0;34m=\u001b[0m \u001b[0mMatrix\u001b[0m\u001b[0;34m(\u001b[0m\u001b[0;34m[\u001b[0m\u001b[0;34m[\u001b[0m\u001b[0;36m1\u001b[0m\u001b[0;34m,\u001b[0m \u001b[0;36m2\u001b[0m\u001b[0;34m,\u001b[0m \u001b[0;36m3\u001b[0m\u001b[0;34m]\u001b[0m\u001b[0;34m,\u001b[0m \u001b[0;34m[\u001b[0m\u001b[0;34m-\u001b[0m\u001b[0;36m1\u001b[0m\u001b[0;34m,\u001b[0m \u001b[0;36m2.0\u001b[0m\u001b[0;34m,\u001b[0m \u001b[0;36m3\u001b[0m\u001b[0;34m]\u001b[0m\u001b[0;34m]\u001b[0m\u001b[0;34m)\u001b[0m\u001b[0;34m\u001b[0m\u001b[0;34m\u001b[0m\u001b[0m\n\u001b[1;32m      2\u001b[0m \u001b[0mb\u001b[0m \u001b[0;34m=\u001b[0m \u001b[0mMatrix\u001b[0m\u001b[0;34m(\u001b[0m\u001b[0;34m[\u001b[0m\u001b[0;36m1\u001b[0m\u001b[0;34m,\u001b[0m \u001b[0;36m2\u001b[0m\u001b[0;34m,\u001b[0m \u001b[0;36m3\u001b[0m\u001b[0;34m]\u001b[0m\u001b[0;34m)\u001b[0m\u001b[0;34m\u001b[0m\u001b[0;34m\u001b[0m\u001b[0m\n\u001b[0;32m----> 3\u001b[0;31m \u001b[0mc\u001b[0m \u001b[0;34m=\u001b[0m \u001b[0ma\u001b[0m \u001b[0;34m+\u001b[0m \u001b[0mb\u001b[0m\u001b[0;34m\u001b[0m\u001b[0;34m\u001b[0m\u001b[0m\n\u001b[0m",
            "\u001b[0;32m<ipython-input-358-c34b7d074670>\u001b[0m in \u001b[0;36m__add__\u001b[0;34m(self, other)\u001b[0m\n\u001b[1;32m     89\u001b[0m \u001b[0;34m\u001b[0m\u001b[0m\n\u001b[1;32m     90\u001b[0m         \u001b[0;32mif\u001b[0m \u001b[0mself\u001b[0m\u001b[0;34m.\u001b[0m\u001b[0mn_rows\u001b[0m \u001b[0;34m!=\u001b[0m \u001b[0mother\u001b[0m\u001b[0;34m.\u001b[0m\u001b[0mn_rows\u001b[0m \u001b[0;32mor\u001b[0m \u001b[0mself\u001b[0m\u001b[0;34m.\u001b[0m\u001b[0mn_columns\u001b[0m \u001b[0;34m!=\u001b[0m \u001b[0mother\u001b[0m\u001b[0;34m.\u001b[0m\u001b[0mn_columns\u001b[0m\u001b[0;34m:\u001b[0m\u001b[0;34m\u001b[0m\u001b[0;34m\u001b[0m\u001b[0m\n\u001b[0;32m---> 91\u001b[0;31m             \u001b[0;32mraise\u001b[0m \u001b[0mValueError\u001b[0m\u001b[0;34m(\u001b[0m\u001b[0;34m\"The Matrices must be of the same size\"\u001b[0m\u001b[0;34m)\u001b[0m\u001b[0;34m\u001b[0m\u001b[0;34m\u001b[0m\u001b[0m\n\u001b[0m\u001b[1;32m     92\u001b[0m \u001b[0;34m\u001b[0m\u001b[0m\n\u001b[1;32m     93\u001b[0m         return Matrix([[self[i][j] + other[i][j] for j in range(self.n_columns)]\\\n",
            "\u001b[0;31mValueError\u001b[0m: The Matrices must be of the same size"
          ]
        }
      ]
    },
    {
      "cell_type": "code",
      "source": [
        "a = Matrix([[1, 2, 3], [-1, 2.0, 3]])\n",
        "b = [[1, 2, 3], [-1, 2.0, 3]]\n",
        "c = a + b"
      ],
      "metadata": {
        "colab": {
          "base_uri": "https://localhost:8080/",
          "height": 321
        },
        "id": "VZDTg5sWnubF",
        "outputId": "c4bd2218-bf61-42a5-d04c-9738c7f02950"
      },
      "execution_count": 375,
      "outputs": [
        {
          "output_type": "error",
          "ename": "ValueError",
          "evalue": "ignored",
          "traceback": [
            "\u001b[0;31m---------------------------------------------------------------------------\u001b[0m",
            "\u001b[0;31mValueError\u001b[0m                                Traceback (most recent call last)",
            "\u001b[0;32m<ipython-input-375-db9225fd30fe>\u001b[0m in \u001b[0;36m<module>\u001b[0;34m\u001b[0m\n\u001b[1;32m      1\u001b[0m \u001b[0ma\u001b[0m \u001b[0;34m=\u001b[0m \u001b[0mMatrix\u001b[0m\u001b[0;34m(\u001b[0m\u001b[0;34m[\u001b[0m\u001b[0;34m[\u001b[0m\u001b[0;36m1\u001b[0m\u001b[0;34m,\u001b[0m \u001b[0;36m2\u001b[0m\u001b[0;34m,\u001b[0m \u001b[0;36m3\u001b[0m\u001b[0;34m]\u001b[0m\u001b[0;34m,\u001b[0m \u001b[0;34m[\u001b[0m\u001b[0;34m-\u001b[0m\u001b[0;36m1\u001b[0m\u001b[0;34m,\u001b[0m \u001b[0;36m2.0\u001b[0m\u001b[0;34m,\u001b[0m \u001b[0;36m3\u001b[0m\u001b[0;34m]\u001b[0m\u001b[0;34m]\u001b[0m\u001b[0;34m)\u001b[0m\u001b[0;34m\u001b[0m\u001b[0;34m\u001b[0m\u001b[0m\n\u001b[1;32m      2\u001b[0m \u001b[0mb\u001b[0m \u001b[0;34m=\u001b[0m \u001b[0;34m[\u001b[0m\u001b[0;34m[\u001b[0m\u001b[0;36m1\u001b[0m\u001b[0;34m,\u001b[0m \u001b[0;36m2\u001b[0m\u001b[0;34m,\u001b[0m \u001b[0;36m3\u001b[0m\u001b[0;34m]\u001b[0m\u001b[0;34m,\u001b[0m \u001b[0;34m[\u001b[0m\u001b[0;34m-\u001b[0m\u001b[0;36m1\u001b[0m\u001b[0;34m,\u001b[0m \u001b[0;36m2.0\u001b[0m\u001b[0;34m,\u001b[0m \u001b[0;36m3\u001b[0m\u001b[0;34m]\u001b[0m\u001b[0;34m]\u001b[0m\u001b[0;34m\u001b[0m\u001b[0;34m\u001b[0m\u001b[0m\n\u001b[0;32m----> 3\u001b[0;31m \u001b[0mc\u001b[0m \u001b[0;34m=\u001b[0m \u001b[0ma\u001b[0m \u001b[0;34m+\u001b[0m \u001b[0mb\u001b[0m\u001b[0;34m\u001b[0m\u001b[0;34m\u001b[0m\u001b[0m\n\u001b[0m",
            "\u001b[0;32m<ipython-input-358-c34b7d074670>\u001b[0m in \u001b[0;36m__add__\u001b[0;34m(self, other)\u001b[0m\n\u001b[1;32m     86\u001b[0m     \u001b[0;32mdef\u001b[0m \u001b[0m__add__\u001b[0m\u001b[0;34m(\u001b[0m\u001b[0mself\u001b[0m\u001b[0;34m,\u001b[0m \u001b[0mother\u001b[0m\u001b[0;34m)\u001b[0m\u001b[0;34m:\u001b[0m\u001b[0;34m\u001b[0m\u001b[0;34m\u001b[0m\u001b[0m\n\u001b[1;32m     87\u001b[0m         \u001b[0;32mif\u001b[0m \u001b[0;32mnot\u001b[0m \u001b[0misinstance\u001b[0m\u001b[0;34m(\u001b[0m\u001b[0mother\u001b[0m\u001b[0;34m,\u001b[0m \u001b[0mMatrix\u001b[0m\u001b[0;34m)\u001b[0m\u001b[0;34m:\u001b[0m\u001b[0;34m\u001b[0m\u001b[0;34m\u001b[0m\u001b[0m\n\u001b[0;32m---> 88\u001b[0;31m             \u001b[0;32mraise\u001b[0m \u001b[0mValueError\u001b[0m\u001b[0;34m(\u001b[0m\u001b[0;34m\"Only the Matrix can be added to the Matrix\"\u001b[0m\u001b[0;34m)\u001b[0m\u001b[0;34m\u001b[0m\u001b[0;34m\u001b[0m\u001b[0m\n\u001b[0m\u001b[1;32m     89\u001b[0m \u001b[0;34m\u001b[0m\u001b[0m\n\u001b[1;32m     90\u001b[0m         \u001b[0;32mif\u001b[0m \u001b[0mself\u001b[0m\u001b[0;34m.\u001b[0m\u001b[0mn_rows\u001b[0m \u001b[0;34m!=\u001b[0m \u001b[0mother\u001b[0m\u001b[0;34m.\u001b[0m\u001b[0mn_rows\u001b[0m \u001b[0;32mor\u001b[0m \u001b[0mself\u001b[0m\u001b[0;34m.\u001b[0m\u001b[0mn_columns\u001b[0m \u001b[0;34m!=\u001b[0m \u001b[0mother\u001b[0m\u001b[0;34m.\u001b[0m\u001b[0mn_columns\u001b[0m\u001b[0;34m:\u001b[0m\u001b[0;34m\u001b[0m\u001b[0;34m\u001b[0m\u001b[0m\n",
            "\u001b[0;31mValueError\u001b[0m: Only the Matrix can be added to the Matrix"
          ]
        }
      ]
    },
    {
      "cell_type": "code",
      "source": [
        "a = Matrix([[1, 2, 3], [-1, 2.0, 3]])\n",
        "b = Matrix([1, 2, 3])\n",
        "c = a - b"
      ],
      "metadata": {
        "colab": {
          "base_uri": "https://localhost:8080/",
          "height": 321
        },
        "id": "CVxG72SUlYxl",
        "outputId": "f2c33923-d82b-4b16-d8c8-717f28a15934"
      },
      "execution_count": 376,
      "outputs": [
        {
          "output_type": "error",
          "ename": "ValueError",
          "evalue": "ignored",
          "traceback": [
            "\u001b[0;31m---------------------------------------------------------------------------\u001b[0m",
            "\u001b[0;31mValueError\u001b[0m                                Traceback (most recent call last)",
            "\u001b[0;32m<ipython-input-376-d15da6f5691d>\u001b[0m in \u001b[0;36m<module>\u001b[0;34m\u001b[0m\n\u001b[1;32m      1\u001b[0m \u001b[0ma\u001b[0m \u001b[0;34m=\u001b[0m \u001b[0mMatrix\u001b[0m\u001b[0;34m(\u001b[0m\u001b[0;34m[\u001b[0m\u001b[0;34m[\u001b[0m\u001b[0;36m1\u001b[0m\u001b[0;34m,\u001b[0m \u001b[0;36m2\u001b[0m\u001b[0;34m,\u001b[0m \u001b[0;36m3\u001b[0m\u001b[0;34m]\u001b[0m\u001b[0;34m,\u001b[0m \u001b[0;34m[\u001b[0m\u001b[0;34m-\u001b[0m\u001b[0;36m1\u001b[0m\u001b[0;34m,\u001b[0m \u001b[0;36m2.0\u001b[0m\u001b[0;34m,\u001b[0m \u001b[0;36m3\u001b[0m\u001b[0;34m]\u001b[0m\u001b[0;34m]\u001b[0m\u001b[0;34m)\u001b[0m\u001b[0;34m\u001b[0m\u001b[0;34m\u001b[0m\u001b[0m\n\u001b[1;32m      2\u001b[0m \u001b[0mb\u001b[0m \u001b[0;34m=\u001b[0m \u001b[0mMatrix\u001b[0m\u001b[0;34m(\u001b[0m\u001b[0;34m[\u001b[0m\u001b[0;36m1\u001b[0m\u001b[0;34m,\u001b[0m \u001b[0;36m2\u001b[0m\u001b[0;34m,\u001b[0m \u001b[0;36m3\u001b[0m\u001b[0;34m]\u001b[0m\u001b[0;34m)\u001b[0m\u001b[0;34m\u001b[0m\u001b[0;34m\u001b[0m\u001b[0m\n\u001b[0;32m----> 3\u001b[0;31m \u001b[0mc\u001b[0m \u001b[0;34m=\u001b[0m \u001b[0ma\u001b[0m \u001b[0;34m-\u001b[0m \u001b[0mb\u001b[0m\u001b[0;34m\u001b[0m\u001b[0;34m\u001b[0m\u001b[0m\n\u001b[0m",
            "\u001b[0;32m<ipython-input-358-c34b7d074670>\u001b[0m in \u001b[0;36m__sub__\u001b[0;34m(self, other)\u001b[0m\n\u001b[1;32m     99\u001b[0m \u001b[0;34m\u001b[0m\u001b[0m\n\u001b[1;32m    100\u001b[0m         \u001b[0;32mif\u001b[0m \u001b[0mself\u001b[0m\u001b[0;34m.\u001b[0m\u001b[0mn_rows\u001b[0m \u001b[0;34m!=\u001b[0m \u001b[0mother\u001b[0m\u001b[0;34m.\u001b[0m\u001b[0mn_rows\u001b[0m \u001b[0;32mor\u001b[0m \u001b[0mself\u001b[0m\u001b[0;34m.\u001b[0m\u001b[0mn_columns\u001b[0m \u001b[0;34m!=\u001b[0m \u001b[0mother\u001b[0m\u001b[0;34m.\u001b[0m\u001b[0mn_columns\u001b[0m\u001b[0;34m:\u001b[0m\u001b[0;34m\u001b[0m\u001b[0;34m\u001b[0m\u001b[0m\n\u001b[0;32m--> 101\u001b[0;31m             \u001b[0;32mraise\u001b[0m \u001b[0mValueError\u001b[0m\u001b[0;34m(\u001b[0m\u001b[0;34m\"The Matrices must be of the same size\"\u001b[0m\u001b[0;34m)\u001b[0m\u001b[0;34m\u001b[0m\u001b[0;34m\u001b[0m\u001b[0m\n\u001b[0m\u001b[1;32m    102\u001b[0m \u001b[0;34m\u001b[0m\u001b[0m\n\u001b[1;32m    103\u001b[0m         return Matrix([[self[i][j] - other[i][j] for j in range(self.n_columns)]\\\n",
            "\u001b[0;31mValueError\u001b[0m: The Matrices must be of the same size"
          ]
        }
      ]
    },
    {
      "cell_type": "code",
      "source": [
        "a = Matrix([[1, 2, 3], [-1, 2.0, 3]])\n",
        "b = [[1, 2, 3], [-1, 2.0, 3]]\n",
        "c = a - b"
      ],
      "metadata": {
        "colab": {
          "base_uri": "https://localhost:8080/",
          "height": 321
        },
        "id": "FbBTLFIxoC7g",
        "outputId": "e7f74f3c-50ac-43f0-826a-bc8e92000388"
      },
      "execution_count": 377,
      "outputs": [
        {
          "output_type": "error",
          "ename": "ValueError",
          "evalue": "ignored",
          "traceback": [
            "\u001b[0;31m---------------------------------------------------------------------------\u001b[0m",
            "\u001b[0;31mValueError\u001b[0m                                Traceback (most recent call last)",
            "\u001b[0;32m<ipython-input-377-cac94449e1ac>\u001b[0m in \u001b[0;36m<module>\u001b[0;34m\u001b[0m\n\u001b[1;32m      1\u001b[0m \u001b[0ma\u001b[0m \u001b[0;34m=\u001b[0m \u001b[0mMatrix\u001b[0m\u001b[0;34m(\u001b[0m\u001b[0;34m[\u001b[0m\u001b[0;34m[\u001b[0m\u001b[0;36m1\u001b[0m\u001b[0;34m,\u001b[0m \u001b[0;36m2\u001b[0m\u001b[0;34m,\u001b[0m \u001b[0;36m3\u001b[0m\u001b[0;34m]\u001b[0m\u001b[0;34m,\u001b[0m \u001b[0;34m[\u001b[0m\u001b[0;34m-\u001b[0m\u001b[0;36m1\u001b[0m\u001b[0;34m,\u001b[0m \u001b[0;36m2.0\u001b[0m\u001b[0;34m,\u001b[0m \u001b[0;36m3\u001b[0m\u001b[0;34m]\u001b[0m\u001b[0;34m]\u001b[0m\u001b[0;34m)\u001b[0m\u001b[0;34m\u001b[0m\u001b[0;34m\u001b[0m\u001b[0m\n\u001b[1;32m      2\u001b[0m \u001b[0mb\u001b[0m \u001b[0;34m=\u001b[0m \u001b[0;34m[\u001b[0m\u001b[0;34m[\u001b[0m\u001b[0;36m1\u001b[0m\u001b[0;34m,\u001b[0m \u001b[0;36m2\u001b[0m\u001b[0;34m,\u001b[0m \u001b[0;36m3\u001b[0m\u001b[0;34m]\u001b[0m\u001b[0;34m,\u001b[0m \u001b[0;34m[\u001b[0m\u001b[0;34m-\u001b[0m\u001b[0;36m1\u001b[0m\u001b[0;34m,\u001b[0m \u001b[0;36m2.0\u001b[0m\u001b[0;34m,\u001b[0m \u001b[0;36m3\u001b[0m\u001b[0;34m]\u001b[0m\u001b[0;34m]\u001b[0m\u001b[0;34m\u001b[0m\u001b[0;34m\u001b[0m\u001b[0m\n\u001b[0;32m----> 3\u001b[0;31m \u001b[0mc\u001b[0m \u001b[0;34m=\u001b[0m \u001b[0ma\u001b[0m \u001b[0;34m-\u001b[0m \u001b[0mb\u001b[0m\u001b[0;34m\u001b[0m\u001b[0;34m\u001b[0m\u001b[0m\n\u001b[0m",
            "\u001b[0;32m<ipython-input-358-c34b7d074670>\u001b[0m in \u001b[0;36m__sub__\u001b[0;34m(self, other)\u001b[0m\n\u001b[1;32m     96\u001b[0m     \u001b[0;32mdef\u001b[0m \u001b[0m__sub__\u001b[0m\u001b[0;34m(\u001b[0m\u001b[0mself\u001b[0m\u001b[0;34m,\u001b[0m \u001b[0mother\u001b[0m\u001b[0;34m)\u001b[0m\u001b[0;34m:\u001b[0m\u001b[0;34m\u001b[0m\u001b[0;34m\u001b[0m\u001b[0m\n\u001b[1;32m     97\u001b[0m         \u001b[0;32mif\u001b[0m \u001b[0;32mnot\u001b[0m \u001b[0misinstance\u001b[0m\u001b[0;34m(\u001b[0m\u001b[0mother\u001b[0m\u001b[0;34m,\u001b[0m \u001b[0mMatrix\u001b[0m\u001b[0;34m)\u001b[0m\u001b[0;34m:\u001b[0m\u001b[0;34m\u001b[0m\u001b[0;34m\u001b[0m\u001b[0m\n\u001b[0;32m---> 98\u001b[0;31m             \u001b[0;32mraise\u001b[0m \u001b[0mValueError\u001b[0m\u001b[0;34m(\u001b[0m\u001b[0;34m\"Only the Matrix can be subtracted from the Matrix\"\u001b[0m\u001b[0;34m)\u001b[0m\u001b[0;34m\u001b[0m\u001b[0;34m\u001b[0m\u001b[0m\n\u001b[0m\u001b[1;32m     99\u001b[0m \u001b[0;34m\u001b[0m\u001b[0m\n\u001b[1;32m    100\u001b[0m         \u001b[0;32mif\u001b[0m \u001b[0mself\u001b[0m\u001b[0;34m.\u001b[0m\u001b[0mn_rows\u001b[0m \u001b[0;34m!=\u001b[0m \u001b[0mother\u001b[0m\u001b[0;34m.\u001b[0m\u001b[0mn_rows\u001b[0m \u001b[0;32mor\u001b[0m \u001b[0mself\u001b[0m\u001b[0;34m.\u001b[0m\u001b[0mn_columns\u001b[0m \u001b[0;34m!=\u001b[0m \u001b[0mother\u001b[0m\u001b[0;34m.\u001b[0m\u001b[0mn_columns\u001b[0m\u001b[0;34m:\u001b[0m\u001b[0;34m\u001b[0m\u001b[0;34m\u001b[0m\u001b[0m\n",
            "\u001b[0;31mValueError\u001b[0m: Only the Matrix can be subtracted from the Matrix"
          ]
        }
      ]
    },
    {
      "cell_type": "code",
      "source": [
        "a = Matrix([[1, 2, 3], [-1, 2.0, 3]])\n",
        "b = Matrix([1, 2, 3])\n",
        "c = a * b"
      ],
      "metadata": {
        "colab": {
          "base_uri": "https://localhost:8080/",
          "height": 321
        },
        "id": "MMUkBp_GlbJV",
        "outputId": "d239072f-494c-4845-e4bd-4600c5037109"
      },
      "execution_count": 378,
      "outputs": [
        {
          "output_type": "error",
          "ename": "ValueError",
          "evalue": "ignored",
          "traceback": [
            "\u001b[0;31m---------------------------------------------------------------------------\u001b[0m",
            "\u001b[0;31mValueError\u001b[0m                                Traceback (most recent call last)",
            "\u001b[0;32m<ipython-input-378-02dc9c4edf4a>\u001b[0m in \u001b[0;36m<module>\u001b[0;34m\u001b[0m\n\u001b[1;32m      1\u001b[0m \u001b[0ma\u001b[0m \u001b[0;34m=\u001b[0m \u001b[0mMatrix\u001b[0m\u001b[0;34m(\u001b[0m\u001b[0;34m[\u001b[0m\u001b[0;34m[\u001b[0m\u001b[0;36m1\u001b[0m\u001b[0;34m,\u001b[0m \u001b[0;36m2\u001b[0m\u001b[0;34m,\u001b[0m \u001b[0;36m3\u001b[0m\u001b[0;34m]\u001b[0m\u001b[0;34m,\u001b[0m \u001b[0;34m[\u001b[0m\u001b[0;34m-\u001b[0m\u001b[0;36m1\u001b[0m\u001b[0;34m,\u001b[0m \u001b[0;36m2.0\u001b[0m\u001b[0;34m,\u001b[0m \u001b[0;36m3\u001b[0m\u001b[0;34m]\u001b[0m\u001b[0;34m]\u001b[0m\u001b[0;34m)\u001b[0m\u001b[0;34m\u001b[0m\u001b[0;34m\u001b[0m\u001b[0m\n\u001b[1;32m      2\u001b[0m \u001b[0mb\u001b[0m \u001b[0;34m=\u001b[0m \u001b[0mMatrix\u001b[0m\u001b[0;34m(\u001b[0m\u001b[0;34m[\u001b[0m\u001b[0;36m1\u001b[0m\u001b[0;34m,\u001b[0m \u001b[0;36m2\u001b[0m\u001b[0;34m,\u001b[0m \u001b[0;36m3\u001b[0m\u001b[0;34m]\u001b[0m\u001b[0;34m)\u001b[0m\u001b[0;34m\u001b[0m\u001b[0;34m\u001b[0m\u001b[0m\n\u001b[0;32m----> 3\u001b[0;31m \u001b[0mc\u001b[0m \u001b[0;34m=\u001b[0m \u001b[0ma\u001b[0m \u001b[0;34m*\u001b[0m \u001b[0mb\u001b[0m\u001b[0;34m\u001b[0m\u001b[0;34m\u001b[0m\u001b[0m\n\u001b[0m",
            "\u001b[0;32m<ipython-input-358-c34b7d074670>\u001b[0m in \u001b[0;36m__mul__\u001b[0;34m(self, other)\u001b[0m\n\u001b[1;32m    111\u001b[0m         \u001b[0;32mif\u001b[0m \u001b[0misinstance\u001b[0m\u001b[0;34m(\u001b[0m\u001b[0mother\u001b[0m\u001b[0;34m,\u001b[0m \u001b[0mMatrix\u001b[0m\u001b[0;34m)\u001b[0m\u001b[0;34m:\u001b[0m\u001b[0;34m\u001b[0m\u001b[0;34m\u001b[0m\u001b[0m\n\u001b[1;32m    112\u001b[0m             \u001b[0;32mif\u001b[0m \u001b[0mself\u001b[0m\u001b[0;34m.\u001b[0m\u001b[0mn_rows\u001b[0m \u001b[0;34m!=\u001b[0m \u001b[0mother\u001b[0m\u001b[0;34m.\u001b[0m\u001b[0mn_rows\u001b[0m \u001b[0;32mor\u001b[0m \u001b[0mself\u001b[0m\u001b[0;34m.\u001b[0m\u001b[0mn_columns\u001b[0m \u001b[0;34m!=\u001b[0m \u001b[0mother\u001b[0m\u001b[0;34m.\u001b[0m\u001b[0mn_columns\u001b[0m\u001b[0;34m:\u001b[0m\u001b[0;34m\u001b[0m\u001b[0;34m\u001b[0m\u001b[0m\n\u001b[0;32m--> 113\u001b[0;31m                 \u001b[0;32mraise\u001b[0m \u001b[0mValueError\u001b[0m\u001b[0;34m(\u001b[0m\u001b[0;34m\"The Matrices must be of the same size\"\u001b[0m\u001b[0;34m)\u001b[0m\u001b[0;34m\u001b[0m\u001b[0;34m\u001b[0m\u001b[0m\n\u001b[0m\u001b[1;32m    114\u001b[0m \u001b[0;34m\u001b[0m\u001b[0m\n\u001b[1;32m    115\u001b[0m             return Matrix([[self[i][j] * other[i][j] for j in range(self.n_columns)]\\\n",
            "\u001b[0;31mValueError\u001b[0m: The Matrices must be of the same size"
          ]
        }
      ]
    },
    {
      "cell_type": "code",
      "source": [
        "a = Matrix([[1, 2, 3], [-1, 2.0, 3]])\n",
        "b = [[1, 2, 3], [-1, 2.0, 3]]\n",
        "c = a * b"
      ],
      "metadata": {
        "colab": {
          "base_uri": "https://localhost:8080/",
          "height": 321
        },
        "id": "KvlmsVQNoFN_",
        "outputId": "0a87afbd-65d7-4b9b-8c7a-7f455a4b0300"
      },
      "execution_count": 379,
      "outputs": [
        {
          "output_type": "error",
          "ename": "ValueError",
          "evalue": "ignored",
          "traceback": [
            "\u001b[0;31m---------------------------------------------------------------------------\u001b[0m",
            "\u001b[0;31mValueError\u001b[0m                                Traceback (most recent call last)",
            "\u001b[0;32m<ipython-input-379-bbec14ebcf67>\u001b[0m in \u001b[0;36m<module>\u001b[0;34m\u001b[0m\n\u001b[1;32m      1\u001b[0m \u001b[0ma\u001b[0m \u001b[0;34m=\u001b[0m \u001b[0mMatrix\u001b[0m\u001b[0;34m(\u001b[0m\u001b[0;34m[\u001b[0m\u001b[0;34m[\u001b[0m\u001b[0;36m1\u001b[0m\u001b[0;34m,\u001b[0m \u001b[0;36m2\u001b[0m\u001b[0;34m,\u001b[0m \u001b[0;36m3\u001b[0m\u001b[0;34m]\u001b[0m\u001b[0;34m,\u001b[0m \u001b[0;34m[\u001b[0m\u001b[0;34m-\u001b[0m\u001b[0;36m1\u001b[0m\u001b[0;34m,\u001b[0m \u001b[0;36m2.0\u001b[0m\u001b[0;34m,\u001b[0m \u001b[0;36m3\u001b[0m\u001b[0;34m]\u001b[0m\u001b[0;34m]\u001b[0m\u001b[0;34m)\u001b[0m\u001b[0;34m\u001b[0m\u001b[0;34m\u001b[0m\u001b[0m\n\u001b[1;32m      2\u001b[0m \u001b[0mb\u001b[0m \u001b[0;34m=\u001b[0m \u001b[0;34m[\u001b[0m\u001b[0;34m[\u001b[0m\u001b[0;36m1\u001b[0m\u001b[0;34m,\u001b[0m \u001b[0;36m2\u001b[0m\u001b[0;34m,\u001b[0m \u001b[0;36m3\u001b[0m\u001b[0;34m]\u001b[0m\u001b[0;34m,\u001b[0m \u001b[0;34m[\u001b[0m\u001b[0;34m-\u001b[0m\u001b[0;36m1\u001b[0m\u001b[0;34m,\u001b[0m \u001b[0;36m2.0\u001b[0m\u001b[0;34m,\u001b[0m \u001b[0;36m3\u001b[0m\u001b[0;34m]\u001b[0m\u001b[0;34m]\u001b[0m\u001b[0;34m\u001b[0m\u001b[0;34m\u001b[0m\u001b[0m\n\u001b[0;32m----> 3\u001b[0;31m \u001b[0mc\u001b[0m \u001b[0;34m=\u001b[0m \u001b[0ma\u001b[0m \u001b[0;34m*\u001b[0m \u001b[0mb\u001b[0m\u001b[0;34m\u001b[0m\u001b[0;34m\u001b[0m\u001b[0m\n\u001b[0m",
            "\u001b[0;32m<ipython-input-358-c34b7d074670>\u001b[0m in \u001b[0;36m__mul__\u001b[0;34m(self, other)\u001b[0m\n\u001b[1;32m    117\u001b[0m \u001b[0;34m\u001b[0m\u001b[0m\n\u001b[1;32m    118\u001b[0m         \u001b[0;32melse\u001b[0m\u001b[0;34m:\u001b[0m\u001b[0;34m\u001b[0m\u001b[0;34m\u001b[0m\u001b[0m\n\u001b[0;32m--> 119\u001b[0;31m             \u001b[0;32mraise\u001b[0m \u001b[0mValueError\u001b[0m\u001b[0;34m(\u001b[0m\u001b[0;34m\"Incorrect data format\"\u001b[0m\u001b[0;34m)\u001b[0m\u001b[0;34m\u001b[0m\u001b[0;34m\u001b[0m\u001b[0m\n\u001b[0m\u001b[1;32m    120\u001b[0m \u001b[0;34m\u001b[0m\u001b[0m\n\u001b[1;32m    121\u001b[0m     \u001b[0;32mdef\u001b[0m \u001b[0m__truediv__\u001b[0m\u001b[0;34m(\u001b[0m\u001b[0mself\u001b[0m\u001b[0;34m,\u001b[0m \u001b[0mother\u001b[0m\u001b[0;34m)\u001b[0m\u001b[0;34m:\u001b[0m\u001b[0;34m\u001b[0m\u001b[0;34m\u001b[0m\u001b[0m\n",
            "\u001b[0;31mValueError\u001b[0m: Incorrect data format"
          ]
        }
      ]
    },
    {
      "cell_type": "code",
      "source": [
        "a = Matrix([[1, 2, 3], [-1, 2.0, 3]])\n",
        "b = Matrix([1, 2, 3])\n",
        "c = a.dot(b)"
      ],
      "metadata": {
        "colab": {
          "base_uri": "https://localhost:8080/",
          "height": 321
        },
        "id": "K5yJDJL4nR0u",
        "outputId": "1ff88951-ddca-4410-8b71-1eb12c91b28d"
      },
      "execution_count": 380,
      "outputs": [
        {
          "output_type": "error",
          "ename": "ValueError",
          "evalue": "ignored",
          "traceback": [
            "\u001b[0;31m---------------------------------------------------------------------------\u001b[0m",
            "\u001b[0;31mValueError\u001b[0m                                Traceback (most recent call last)",
            "\u001b[0;32m<ipython-input-380-2ea3d0a001ab>\u001b[0m in \u001b[0;36m<module>\u001b[0;34m\u001b[0m\n\u001b[1;32m      1\u001b[0m \u001b[0ma\u001b[0m \u001b[0;34m=\u001b[0m \u001b[0mMatrix\u001b[0m\u001b[0;34m(\u001b[0m\u001b[0;34m[\u001b[0m\u001b[0;34m[\u001b[0m\u001b[0;36m1\u001b[0m\u001b[0;34m,\u001b[0m \u001b[0;36m2\u001b[0m\u001b[0;34m,\u001b[0m \u001b[0;36m3\u001b[0m\u001b[0;34m]\u001b[0m\u001b[0;34m,\u001b[0m \u001b[0;34m[\u001b[0m\u001b[0;34m-\u001b[0m\u001b[0;36m1\u001b[0m\u001b[0;34m,\u001b[0m \u001b[0;36m2.0\u001b[0m\u001b[0;34m,\u001b[0m \u001b[0;36m3\u001b[0m\u001b[0;34m]\u001b[0m\u001b[0;34m]\u001b[0m\u001b[0;34m)\u001b[0m\u001b[0;34m\u001b[0m\u001b[0;34m\u001b[0m\u001b[0m\n\u001b[1;32m      2\u001b[0m \u001b[0mb\u001b[0m \u001b[0;34m=\u001b[0m \u001b[0mMatrix\u001b[0m\u001b[0;34m(\u001b[0m\u001b[0;34m[\u001b[0m\u001b[0;36m1\u001b[0m\u001b[0;34m,\u001b[0m \u001b[0;36m2\u001b[0m\u001b[0;34m,\u001b[0m \u001b[0;36m3\u001b[0m\u001b[0;34m]\u001b[0m\u001b[0;34m)\u001b[0m\u001b[0;34m\u001b[0m\u001b[0;34m\u001b[0m\u001b[0m\n\u001b[0;32m----> 3\u001b[0;31m \u001b[0mc\u001b[0m \u001b[0;34m=\u001b[0m \u001b[0ma\u001b[0m\u001b[0;34m.\u001b[0m\u001b[0mdot\u001b[0m\u001b[0;34m(\u001b[0m\u001b[0mb\u001b[0m\u001b[0;34m)\u001b[0m\u001b[0;34m\u001b[0m\u001b[0;34m\u001b[0m\u001b[0m\n\u001b[0m",
            "\u001b[0;32m<ipython-input-358-c34b7d074670>\u001b[0m in \u001b[0;36mdot\u001b[0;34m(self, other)\u001b[0m\n\u001b[1;32m    139\u001b[0m \u001b[0;34m\u001b[0m\u001b[0m\n\u001b[1;32m    140\u001b[0m         \u001b[0;32mif\u001b[0m \u001b[0mself\u001b[0m\u001b[0;34m.\u001b[0m\u001b[0mn_columns\u001b[0m \u001b[0;34m!=\u001b[0m \u001b[0mother\u001b[0m\u001b[0;34m.\u001b[0m\u001b[0mn_rows\u001b[0m\u001b[0;34m:\u001b[0m\u001b[0;34m\u001b[0m\u001b[0;34m\u001b[0m\u001b[0m\n\u001b[0;32m--> 141\u001b[0;31m             \u001b[0;32mraise\u001b[0m \u001b[0mValueError\u001b[0m\u001b[0;34m(\u001b[0m\u001b[0;34m\"The number of columns of the first Matrix must be equal to the number of rows of the second Matrix\"\u001b[0m\u001b[0;34m)\u001b[0m\u001b[0;34m\u001b[0m\u001b[0;34m\u001b[0m\u001b[0m\n\u001b[0m\u001b[1;32m    142\u001b[0m \u001b[0;34m\u001b[0m\u001b[0m\n\u001b[1;32m    143\u001b[0m         \u001b[0;32mif\u001b[0m \u001b[0mself\u001b[0m\u001b[0;34m.\u001b[0m\u001b[0mn_rows\u001b[0m \u001b[0;34m==\u001b[0m \u001b[0;36m1\u001b[0m \u001b[0;32mand\u001b[0m \u001b[0mother\u001b[0m\u001b[0;34m.\u001b[0m\u001b[0mn_columns\u001b[0m \u001b[0;34m==\u001b[0m \u001b[0;36m1\u001b[0m\u001b[0;34m:\u001b[0m\u001b[0;34m\u001b[0m\u001b[0;34m\u001b[0m\u001b[0m\n",
            "\u001b[0;31mValueError\u001b[0m: The number of columns of the first Matrix must be equal to the number of rows of the second Matrix"
          ]
        }
      ]
    },
    {
      "cell_type": "code",
      "source": [
        "a = Matrix([[1, 2, 3], [-1, 2.0, 3]])\n",
        "b = [[1, 2, 3], [1, 2, 3]]\n",
        "c = a.dot(b)"
      ],
      "metadata": {
        "colab": {
          "base_uri": "https://localhost:8080/",
          "height": 321
        },
        "id": "mSDBgm0jolFd",
        "outputId": "c919bf59-0ff4-441d-ef28-94060780c78f"
      },
      "execution_count": 381,
      "outputs": [
        {
          "output_type": "error",
          "ename": "ValueError",
          "evalue": "ignored",
          "traceback": [
            "\u001b[0;31m---------------------------------------------------------------------------\u001b[0m",
            "\u001b[0;31mValueError\u001b[0m                                Traceback (most recent call last)",
            "\u001b[0;32m<ipython-input-381-08810d9e95b8>\u001b[0m in \u001b[0;36m<module>\u001b[0;34m\u001b[0m\n\u001b[1;32m      1\u001b[0m \u001b[0ma\u001b[0m \u001b[0;34m=\u001b[0m \u001b[0mMatrix\u001b[0m\u001b[0;34m(\u001b[0m\u001b[0;34m[\u001b[0m\u001b[0;34m[\u001b[0m\u001b[0;36m1\u001b[0m\u001b[0;34m,\u001b[0m \u001b[0;36m2\u001b[0m\u001b[0;34m,\u001b[0m \u001b[0;36m3\u001b[0m\u001b[0;34m]\u001b[0m\u001b[0;34m,\u001b[0m \u001b[0;34m[\u001b[0m\u001b[0;34m-\u001b[0m\u001b[0;36m1\u001b[0m\u001b[0;34m,\u001b[0m \u001b[0;36m2.0\u001b[0m\u001b[0;34m,\u001b[0m \u001b[0;36m3\u001b[0m\u001b[0;34m]\u001b[0m\u001b[0;34m]\u001b[0m\u001b[0;34m)\u001b[0m\u001b[0;34m\u001b[0m\u001b[0;34m\u001b[0m\u001b[0m\n\u001b[1;32m      2\u001b[0m \u001b[0mb\u001b[0m \u001b[0;34m=\u001b[0m \u001b[0;34m[\u001b[0m\u001b[0;34m[\u001b[0m\u001b[0;36m1\u001b[0m\u001b[0;34m,\u001b[0m \u001b[0;36m2\u001b[0m\u001b[0;34m,\u001b[0m \u001b[0;36m3\u001b[0m\u001b[0;34m]\u001b[0m\u001b[0;34m,\u001b[0m \u001b[0;34m[\u001b[0m\u001b[0;36m1\u001b[0m\u001b[0;34m,\u001b[0m \u001b[0;36m2\u001b[0m\u001b[0;34m,\u001b[0m \u001b[0;36m3\u001b[0m\u001b[0;34m]\u001b[0m\u001b[0;34m]\u001b[0m\u001b[0;34m\u001b[0m\u001b[0;34m\u001b[0m\u001b[0m\n\u001b[0;32m----> 3\u001b[0;31m \u001b[0mc\u001b[0m \u001b[0;34m=\u001b[0m \u001b[0ma\u001b[0m\u001b[0;34m.\u001b[0m\u001b[0mdot\u001b[0m\u001b[0;34m(\u001b[0m\u001b[0mb\u001b[0m\u001b[0;34m)\u001b[0m\u001b[0;34m\u001b[0m\u001b[0;34m\u001b[0m\u001b[0m\n\u001b[0m",
            "\u001b[0;32m<ipython-input-358-c34b7d074670>\u001b[0m in \u001b[0;36mdot\u001b[0;34m(self, other)\u001b[0m\n\u001b[1;32m    136\u001b[0m     \u001b[0;32mdef\u001b[0m \u001b[0mdot\u001b[0m\u001b[0;34m(\u001b[0m\u001b[0mself\u001b[0m\u001b[0;34m,\u001b[0m \u001b[0mother\u001b[0m\u001b[0;34m)\u001b[0m\u001b[0;34m:\u001b[0m\u001b[0;34m\u001b[0m\u001b[0;34m\u001b[0m\u001b[0m\n\u001b[1;32m    137\u001b[0m         \u001b[0;32mif\u001b[0m \u001b[0;32mnot\u001b[0m \u001b[0misinstance\u001b[0m\u001b[0;34m(\u001b[0m\u001b[0mother\u001b[0m\u001b[0;34m,\u001b[0m \u001b[0mMatrix\u001b[0m\u001b[0;34m)\u001b[0m\u001b[0;34m:\u001b[0m\u001b[0;34m\u001b[0m\u001b[0;34m\u001b[0m\u001b[0m\n\u001b[0;32m--> 138\u001b[0;31m             \u001b[0;32mraise\u001b[0m \u001b[0mValueError\u001b[0m\u001b[0;34m(\u001b[0m\u001b[0;34m\"Only the matrix can be vector multiplied by the matrix\"\u001b[0m\u001b[0;34m)\u001b[0m\u001b[0;34m\u001b[0m\u001b[0;34m\u001b[0m\u001b[0m\n\u001b[0m\u001b[1;32m    139\u001b[0m \u001b[0;34m\u001b[0m\u001b[0m\n\u001b[1;32m    140\u001b[0m         \u001b[0;32mif\u001b[0m \u001b[0mself\u001b[0m\u001b[0;34m.\u001b[0m\u001b[0mn_columns\u001b[0m \u001b[0;34m!=\u001b[0m \u001b[0mother\u001b[0m\u001b[0;34m.\u001b[0m\u001b[0mn_rows\u001b[0m\u001b[0;34m:\u001b[0m\u001b[0;34m\u001b[0m\u001b[0;34m\u001b[0m\u001b[0m\n",
            "\u001b[0;31mValueError\u001b[0m: Only the matrix can be vector multiplied by the matrix"
          ]
        }
      ]
    },
    {
      "cell_type": "code",
      "source": [
        "a = Matrix([[1, 2, 3], [-1, 2.0, 3]])\n",
        "c = a.trace()"
      ],
      "metadata": {
        "colab": {
          "base_uri": "https://localhost:8080/",
          "height": 304
        },
        "id": "T9D5whiCldRt",
        "outputId": "348e327b-68cb-469b-b44c-4b9d679e0d6a"
      },
      "execution_count": 382,
      "outputs": [
        {
          "output_type": "error",
          "ename": "ValueError",
          "evalue": "ignored",
          "traceback": [
            "\u001b[0;31m---------------------------------------------------------------------------\u001b[0m",
            "\u001b[0;31mValueError\u001b[0m                                Traceback (most recent call last)",
            "\u001b[0;32m<ipython-input-382-e2bd99f6c835>\u001b[0m in \u001b[0;36m<module>\u001b[0;34m\u001b[0m\n\u001b[1;32m      1\u001b[0m \u001b[0ma\u001b[0m \u001b[0;34m=\u001b[0m \u001b[0mMatrix\u001b[0m\u001b[0;34m(\u001b[0m\u001b[0;34m[\u001b[0m\u001b[0;34m[\u001b[0m\u001b[0;36m1\u001b[0m\u001b[0;34m,\u001b[0m \u001b[0;36m2\u001b[0m\u001b[0;34m,\u001b[0m \u001b[0;36m3\u001b[0m\u001b[0;34m]\u001b[0m\u001b[0;34m,\u001b[0m \u001b[0;34m[\u001b[0m\u001b[0;34m-\u001b[0m\u001b[0;36m1\u001b[0m\u001b[0;34m,\u001b[0m \u001b[0;36m2.0\u001b[0m\u001b[0;34m,\u001b[0m \u001b[0;36m3\u001b[0m\u001b[0;34m]\u001b[0m\u001b[0;34m]\u001b[0m\u001b[0;34m)\u001b[0m\u001b[0;34m\u001b[0m\u001b[0;34m\u001b[0m\u001b[0m\n\u001b[0;32m----> 2\u001b[0;31m \u001b[0mc\u001b[0m \u001b[0;34m=\u001b[0m \u001b[0ma\u001b[0m\u001b[0;34m.\u001b[0m\u001b[0mtrace\u001b[0m\u001b[0;34m(\u001b[0m\u001b[0;34m)\u001b[0m\u001b[0;34m\u001b[0m\u001b[0;34m\u001b[0m\u001b[0m\n\u001b[0m",
            "\u001b[0;32m<ipython-input-358-c34b7d074670>\u001b[0m in \u001b[0;36mtrace\u001b[0;34m(self)\u001b[0m\n\u001b[1;32m    152\u001b[0m     \u001b[0;32mdef\u001b[0m \u001b[0mtrace\u001b[0m\u001b[0;34m(\u001b[0m\u001b[0mself\u001b[0m\u001b[0;34m)\u001b[0m\u001b[0;34m:\u001b[0m\u001b[0;34m\u001b[0m\u001b[0;34m\u001b[0m\u001b[0m\n\u001b[1;32m    153\u001b[0m         \u001b[0;32mif\u001b[0m \u001b[0mself\u001b[0m\u001b[0;34m.\u001b[0m\u001b[0mn_rows\u001b[0m \u001b[0;34m!=\u001b[0m \u001b[0mself\u001b[0m\u001b[0;34m.\u001b[0m\u001b[0mn_columns\u001b[0m\u001b[0;34m:\u001b[0m\u001b[0;34m\u001b[0m\u001b[0;34m\u001b[0m\u001b[0m\n\u001b[0;32m--> 154\u001b[0;31m             \u001b[0;32mraise\u001b[0m \u001b[0mValueError\u001b[0m\u001b[0;34m(\u001b[0m\u001b[0;34m\"The trace can only be found in a square Matrix\"\u001b[0m\u001b[0;34m)\u001b[0m\u001b[0;34m\u001b[0m\u001b[0;34m\u001b[0m\u001b[0m\n\u001b[0m\u001b[1;32m    155\u001b[0m \u001b[0;34m\u001b[0m\u001b[0m\n\u001b[1;32m    156\u001b[0m         \u001b[0;32mreturn\u001b[0m \u001b[0msum\u001b[0m\u001b[0;34m(\u001b[0m\u001b[0mself\u001b[0m\u001b[0;34m[\u001b[0m\u001b[0mi\u001b[0m\u001b[0;34m]\u001b[0m\u001b[0;34m[\u001b[0m\u001b[0mi\u001b[0m\u001b[0;34m]\u001b[0m \u001b[0;32mfor\u001b[0m \u001b[0mi\u001b[0m \u001b[0;32min\u001b[0m \u001b[0mrange\u001b[0m\u001b[0;34m(\u001b[0m\u001b[0mself\u001b[0m\u001b[0;34m.\u001b[0m\u001b[0mn_rows\u001b[0m\u001b[0;34m)\u001b[0m\u001b[0;34m)\u001b[0m\u001b[0;34m\u001b[0m\u001b[0;34m\u001b[0m\u001b[0m\n",
            "\u001b[0;31mValueError\u001b[0m: The trace can only be found in a square Matrix"
          ]
        }
      ]
    },
    {
      "cell_type": "code",
      "source": [
        "a = Matrix([[1, 2, 3], [-1, 2.0, 3]])\n",
        "c = a.det()"
      ],
      "metadata": {
        "colab": {
          "base_uri": "https://localhost:8080/",
          "height": 304
        },
        "id": "n1JBH6uWlnEl",
        "outputId": "43cf542f-d560-4559-83f8-78cbedc9adec"
      },
      "execution_count": 383,
      "outputs": [
        {
          "output_type": "error",
          "ename": "ValueError",
          "evalue": "ignored",
          "traceback": [
            "\u001b[0;31m---------------------------------------------------------------------------\u001b[0m",
            "\u001b[0;31mValueError\u001b[0m                                Traceback (most recent call last)",
            "\u001b[0;32m<ipython-input-383-2b46fa6bd5b0>\u001b[0m in \u001b[0;36m<module>\u001b[0;34m\u001b[0m\n\u001b[1;32m      1\u001b[0m \u001b[0ma\u001b[0m \u001b[0;34m=\u001b[0m \u001b[0mMatrix\u001b[0m\u001b[0;34m(\u001b[0m\u001b[0;34m[\u001b[0m\u001b[0;34m[\u001b[0m\u001b[0;36m1\u001b[0m\u001b[0;34m,\u001b[0m \u001b[0;36m2\u001b[0m\u001b[0;34m,\u001b[0m \u001b[0;36m3\u001b[0m\u001b[0;34m]\u001b[0m\u001b[0;34m,\u001b[0m \u001b[0;34m[\u001b[0m\u001b[0;34m-\u001b[0m\u001b[0;36m1\u001b[0m\u001b[0;34m,\u001b[0m \u001b[0;36m2.0\u001b[0m\u001b[0;34m,\u001b[0m \u001b[0;36m3\u001b[0m\u001b[0;34m]\u001b[0m\u001b[0;34m]\u001b[0m\u001b[0;34m)\u001b[0m\u001b[0;34m\u001b[0m\u001b[0;34m\u001b[0m\u001b[0m\n\u001b[0;32m----> 2\u001b[0;31m \u001b[0mc\u001b[0m \u001b[0;34m=\u001b[0m \u001b[0ma\u001b[0m\u001b[0;34m.\u001b[0m\u001b[0mdet\u001b[0m\u001b[0;34m(\u001b[0m\u001b[0;34m)\u001b[0m\u001b[0;34m\u001b[0m\u001b[0;34m\u001b[0m\u001b[0m\n\u001b[0m",
            "\u001b[0;32m<ipython-input-358-c34b7d074670>\u001b[0m in \u001b[0;36mdet\u001b[0;34m(self)\u001b[0m\n\u001b[1;32m    158\u001b[0m     \u001b[0;32mdef\u001b[0m \u001b[0mdet\u001b[0m\u001b[0;34m(\u001b[0m\u001b[0mself\u001b[0m\u001b[0;34m)\u001b[0m\u001b[0;34m:\u001b[0m\u001b[0;34m\u001b[0m\u001b[0;34m\u001b[0m\u001b[0m\n\u001b[1;32m    159\u001b[0m         \u001b[0;32mif\u001b[0m \u001b[0mself\u001b[0m\u001b[0;34m.\u001b[0m\u001b[0mn_rows\u001b[0m \u001b[0;34m!=\u001b[0m \u001b[0mself\u001b[0m\u001b[0;34m.\u001b[0m\u001b[0mn_columns\u001b[0m\u001b[0;34m:\u001b[0m\u001b[0;34m\u001b[0m\u001b[0;34m\u001b[0m\u001b[0m\n\u001b[0;32m--> 160\u001b[0;31m             \u001b[0;32mraise\u001b[0m \u001b[0mValueError\u001b[0m\u001b[0;34m(\u001b[0m\u001b[0;34m\"The Matrix must be square\"\u001b[0m\u001b[0;34m)\u001b[0m\u001b[0;34m\u001b[0m\u001b[0;34m\u001b[0m\u001b[0m\n\u001b[0m\u001b[1;32m    161\u001b[0m             \u001b[0;32mreturn\u001b[0m \u001b[0;32mNone\u001b[0m\u001b[0;34m\u001b[0m\u001b[0;34m\u001b[0m\u001b[0m\n\u001b[1;32m    162\u001b[0m \u001b[0;34m\u001b[0m\u001b[0m\n",
            "\u001b[0;31mValueError\u001b[0m: The Matrix must be square"
          ]
        }
      ]
    },
    {
      "cell_type": "code",
      "source": [
        "a = Matrix([[1, 2, 3], [-1, 2.0, 3]])\n",
        "b = a.copy()\n",
        "b.print()"
      ],
      "metadata": {
        "colab": {
          "base_uri": "https://localhost:8080/"
        },
        "id": "RnOkqk8SneU_",
        "outputId": "ec8361eb-71bf-4028-9d28-d9c9db7dfa14"
      },
      "execution_count": 384,
      "outputs": [
        {
          "output_type": "stream",
          "name": "stdout",
          "text": [
            "[[1, 2, 3],\n",
            "[-1, 2.0, 3]]\n"
          ]
        }
      ]
    },
    {
      "cell_type": "markdown",
      "metadata": {
        "id": "UdPKF784d6uc"
      },
      "source": [
        "__Задание 7 (3 балла):__ Ставится задача расчета стоимости чашки кофе. Опишите классы нескольких типов кофе (латте, капучино, американо), а также классы добавок к кофе (сахар, сливки, кардамон, пенка, сироп). Используйте шаблон \"декоратор\". Каждый класс должен характеризоваться методом вычисления стоимости чашки `calculate_cost`. Пользователь должен иметь возможность комбинировать любое число добавок с выбранным кофе и получить на выходе общую стоимость:\n",
        "\n",
        "```\n",
        "Cream(Sugar(Latte())).calculate_cost()\n",
        "```\n",
        "\n",
        "Первым элементом чашки всегда должен быть сам кофе, а не добавка, в противном случае при попытке создания чашки должно выбрасываться исключение:\n",
        "\n",
        "```\n",
        "Cream(Latte(Sugar())).calculate_cost() -> exception\n",
        "```\n",
        "\n",
        "Кофе может встречаться в чашке только один раз, в противном случае при попытке создания чашки должно выбрасываться исключение:\n",
        "\n",
        "```\n",
        "Cappuccino(Sugar(Latte())).calculate_cost() -> exception\n",
        "```\n",
        "\n",
        "Добавки могут включаться в чашку в любом количестве и порядке.\n",
        "Добавление новых типов кофе и добавок не должно требовать изменения существующего кода."
      ]
    }
  ],
  "metadata": {
    "kernelspec": {
      "display_name": "Python 3",
      "language": "python",
      "name": "python3"
    },
    "language_info": {
      "codemirror_mode": {
        "name": "ipython",
        "version": 3
      },
      "file_extension": ".py",
      "mimetype": "text/x-python",
      "name": "python",
      "nbconvert_exporter": "python",
      "pygments_lexer": "ipython3",
      "version": "3.8.8"
    },
    "colab": {
      "provenance": []
    }
  },
  "nbformat": 4,
  "nbformat_minor": 0
}